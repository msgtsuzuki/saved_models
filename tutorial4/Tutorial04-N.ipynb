{
  "cells": [
    {
      "cell_type": "markdown",
      "metadata": {
        "id": "K3OES2WuAxv8"
      },
      "source": [
        "**Filled notebook:**\n",
        "[![View on Github](https://img.shields.io/static/v1.svg?logo=github&label=Repo&message=View%20On%20Github&color=lightgrey)](https://github.com/msgtsuzuki/saved_models/blob/main/tutorial4/Tutorial04-N.ipynb)\n",
        "[![Open In Collab](https://colab.research.google.com/assets/colab-badge.svg)](https://colab.research.google.com/github/msgtsuzuki/saved_models/blob/main/tutorial4/Tutorial04-N.ipynb)   \n"
      ]
    },
    {
      "cell_type": "markdown",
      "metadata": {
        "id": "MvuR0TGcAxwA"
      },
      "source": [
        "# Tutorial 4: Inception, ResNet and DenseNet\n",
        "\n",
        "This tutorial will focus on implementing and examining variations of contemporary CNN architectures. Over the last few years, several architectures have been introduced, some of the most influential and enduring being [GoogleNet Inception](https://arxiv.org/abs/1409.4842) architecture (the winner of ILSVRC 2014), [ResNet](https://arxiv.org/abs/1512.03385) (the winner of ILSVRC 2015) and [DenseNet](https://arxiv.org/abs/1608.06993) (recipient of the best paper award at CVPR 2017). These models were cutting-edge at the time of their introduction, and their fundamental concepts form the basis for many current state-of-the-art architectures. Thus, it is essential to dive into these architectures comprehensively and grasp how to put them into practice. The process begins with the import of the standard libraries.\n",
        "\n",
        "When using `VS Code`, it is necessary to install `tabulate`: `py -m pip install tabulate`. Consider installing in the same virtual environment."
      ]
    },
    {
      "cell_type": "code",
      "execution_count": null,
      "metadata": {
        "id": "o_4pvmNEAxwA"
      },
      "outputs": [],
      "source": [
        "## Standard libraries\n",
        "import os\n",
        "import numpy as np\n",
        "import random\n",
        "from PIL import Image\n",
        "from types import SimpleNamespace\n",
        "\n",
        "## Imports for plotting\n",
        "import matplotlib_inline\n",
        "import matplotlib.pyplot as plt\n",
        "%matplotlib inline\n",
        "from IPython.display import set_matplotlib_formats\n",
        "matplotlib_inline.backend_inline.set_matplotlib_formats # For export\n",
        "import matplotlib\n",
        "matplotlib.rcParams['lines.linewidth'] = 2.0\n",
        "import seaborn as sns\n",
        "sns.reset_orig()\n",
        "\n",
        "## PyTorch\n",
        "import torch\n",
        "import torch.nn as nn\n",
        "import torch.utils.data as data\n",
        "import torch.optim as optim\n",
        "# Torchvision\n",
        "import torchvision\n",
        "from torchvision.datasets import CIFAR10\n",
        "from torchvision import transforms"
      ]
    },
    {
      "cell_type": "markdown",
      "metadata": {
        "id": "xGFTVtGPAxwB"
      },
      "source": [
        "The same `set_seed` function will be used as in the previous tutorials, as well as the path variables `DATSET_PATH` and `CHEKPOINT_PATH`."
      ]
    },
    {
      "cell_type": "code",
      "execution_count": null,
      "metadata": {
        "id": "l5bSU238AxwB"
      },
      "outputs": [],
      "source": [
        "# Path to the folder where the datasets are/should be downloaded (e.g. CIFAR10)\n",
        "DATASET_PATH = \"../data\"\n",
        "# Path to the folder where the pretrained models are saved\n",
        "CHECKPOINT_PATH = \"../saved_models/tutorial4\"\n",
        "\n",
        "# Function for setting the seed\n",
        "def set_seed(seed):\n",
        "    random.seed(seed)\n",
        "    np.random.seed(seed)\n",
        "    torch.manual_seed(seed)\n",
        "    if torch.cuda.is_available():\n",
        "        torch.cuda.manual_seed(seed)\n",
        "        torch.cuda.manual_seed_all(seed)\n",
        "set_seed(42)\n",
        "\n",
        "# Ensure that all operations are deterministic on GPU (if used) for reproducibility\n",
        "torch.backends.cudnn.deterministic = True\n",
        "torch.backends.cudnn.benchmark = False\n",
        "\n",
        "device = torch.device(\"cuda:0\") if torch.cuda.is_available() else torch.device(\"cpu\")"
      ]
    },
    {
      "cell_type": "markdown",
      "metadata": {
        "id": "HQx_2vaeAxwB"
      },
      "source": [
        "Pretrained models and Tensorboards (further details on this will be provided later) for this tutorial are accessible and can be obtained as shown below."
      ]
    },
    {
      "cell_type": "code",
      "execution_count": null,
      "metadata": {
        "id": "a9hzJhyaAxwB"
      },
      "outputs": [],
      "source": [
        "import urllib.request\n",
        "from urllib.error import HTTPError\n",
        "# Github URL where saved models are stored for this tutorial\n",
        "base_url = \"https://github.com/msgtsuzuki/saved_models/raw/main/tutorial4/\"\n",
        "# Files to download\n",
        "pretrained_files = [\"GoogleNet.ckpt\", \"ResNet.ckpt\", \"ResNetPreAct.ckpt\", \"DenseNet.ckpt\",\n",
        "                    \"tensorboards/GoogleNet/events.out.tfevents.googlenet\",\n",
        "                    \"tensorboards/ResNet/events.out.tfevents.resnet\",\n",
        "                    \"tensorboards/ResNetPreAct/events.out.tfevents.resnetpreact\",\n",
        "                    \"tensorboards/DenseNet/events.out.tfevents.densenet\"]\n",
        "# Create checkpoint path if it doesn't exist yet\n",
        "os.makedirs(CHECKPOINT_PATH, exist_ok=True)\n",
        "\n",
        "# For each file, check whether it already exists. If not, try downloading it.\n",
        "for file_name in pretrained_files:\n",
        "    file_path = os.path.join(CHECKPOINT_PATH, file_name)\n",
        "    if \"/\" in file_name:\n",
        "        os.makedirs(file_path.rsplit(\"/\",1)[0], exist_ok=True)\n",
        "    if not os.path.isfile(file_path):\n",
        "        file_url = base_url + file_name\n",
        "        print(f\"Downloading {file_url}...\")\n",
        "        try:\n",
        "            urllib.request.urlretrieve(file_url, file_path)\n",
        "        except HTTPError as e:\n",
        "            print(\"Something went wrong. Please try to download the file from the GDrive folder, or contact the author with the full output including the following error:\\n\", e)"
      ]
    },
    {
      "cell_type": "markdown",
      "metadata": {
        "id": "NsjJ91qXAxwB"
      },
      "source": [
        "Throughout this tutorial, the models will be trained and evaluated on the CIFAR10 dataset. This allows one to compare the results obtained here with the model they have implemented in the first assignment. As has been learned from the previous tutorial on initialization, it is important to have the data preprocessed with a zero mean. Therefore, as a first step, the mean and standard deviation of the CIFAR dataset will be calculated:"
      ]
    },
    {
      "cell_type": "code",
      "execution_count": null,
      "metadata": {
        "id": "TNLUw6BsAxwC"
      },
      "outputs": [],
      "source": [
        "train_dataset = CIFAR10(root=DATASET_PATH, train=True, download=True)\n",
        "DATA_MEANS = (train_dataset.data / 255.0).mean(axis=(0,1,2))\n",
        "DATA_STD = (train_dataset.data / 255.0).std(axis=(0,1,2))\n",
        "print(\"Data mean\", DATA_MEANS)\n",
        "print(\"Data std\", DATA_STD)"
      ]
    },
    {
      "cell_type": "markdown",
      "metadata": {
        "id": "NArGL_kwAxwC"
      },
      "source": [
        "This information is utilized to define a `transforms.Normalize` module which normalizes data accordingly. Additionally, data augmentation is employed during training to mitigate the risk of overfitting and improve the generalization capabilities of CNNs. Specifically, two random augmentations are applied.\n",
        "\n",
        "First, each image is flipped horizontally with a 50\\% probability using `transforms.RandomHorizontalFlip`. The object class typically remains unchanged when an image is flipped and image information is not anticipated to rely on horizontal orientation. However, this might differ if the task involved detecting digits or letters in an image, given their specific orientation.\n",
        "\n",
        "Second, the augmentation known as `transforms.RandomResizedCrop` is utilized. This transformation crops the image within a minor range, potentially altering the aspect ratio, and then scales it back to its original size. As a result, while the actual pixel values are altered, the content or overall semantics of the image remains consistent.\n",
        "\n",
        "The training dataset is randomly divided into a training set and a validation set. The validation set serves the purpose of determining early stopping. Upon completion of training, the models are evaluated on the CIFAR test set."
      ]
    },
    {
      "cell_type": "code",
      "execution_count": null,
      "metadata": {
        "id": "k84hw15IAxwC"
      },
      "outputs": [],
      "source": [
        "test_transform = transforms.Compose([transforms.ToTensor(),\n",
        "                                     transforms.Normalize(DATA_MEANS, DATA_STD)\n",
        "                                     ])\n",
        "# For training, we add some augmentation. Networks are too powerful and would overfit.\n",
        "train_transform = transforms.Compose([transforms.RandomHorizontalFlip(),\n",
        "                                      transforms.RandomResizedCrop((32,32), scale=(0.8,1.0), ratio=(0.9,1.1)),\n",
        "                                      transforms.ToTensor(),\n",
        "                                      transforms.Normalize(DATA_MEANS, DATA_STD)\n",
        "                                     ])\n",
        "# Loading the training dataset. We need to split it into a training and validation part\n",
        "# We need to do a little trick because the validation set should not use the augmentation.\n",
        "train_dataset = CIFAR10(root=DATASET_PATH, train=True, transform=train_transform, download=True)\n",
        "val_dataset = CIFAR10(root=DATASET_PATH, train=True, transform=test_transform, download=True)\n",
        "set_seed(42)\n",
        "train_set, _ = torch.utils.data.random_split(train_dataset, [45000, 5000])\n",
        "set_seed(42)\n",
        "_, val_set = torch.utils.data.random_split(val_dataset, [45000, 5000])\n",
        "\n",
        "# Loading the test set\n",
        "test_set = CIFAR10(root=DATASET_PATH, train=False, transform=test_transform, download=True)\n",
        "\n",
        "# We define a set of data loaders that we can use for various purposes later.\n",
        "train_loader = data.DataLoader(train_set, batch_size=128, shuffle=True, drop_last=True, pin_memory=True, num_workers=4)\n",
        "val_loader = data.DataLoader(val_set, batch_size=128, shuffle=False, drop_last=False, num_workers=4)\n",
        "test_loader = data.DataLoader(test_set, batch_size=128, shuffle=False, drop_last=False, num_workers=4)"
      ]
    },
    {
      "cell_type": "markdown",
      "metadata": {
        "id": "gBndyrkwAxwD"
      },
      "source": [
        "To verify the effectiveness of normalization, printing out the mean and standard deviation of a single batch is conducted. The mean is expected to be close to 0 and the standard deviation close to 1 for each channel:"
      ]
    },
    {
      "cell_type": "code",
      "execution_count": null,
      "metadata": {
        "id": "bF182mYEAxwD"
      },
      "outputs": [],
      "source": [
        "imgs, _ = next(iter(train_loader))\n",
        "print(\"Batch mean\", imgs.mean(dim=[0,2,3]))\n",
        "print(\"Batch std\", imgs.std(dim=[0,2,3]))"
      ]
    },
    {
      "cell_type": "markdown",
      "metadata": {
        "id": "WwXgRkixAxwD"
      },
      "source": [
        "Finally, visualization of a few images from the training set and their appearance after random data augmentation is conducted:"
      ]
    },
    {
      "cell_type": "code",
      "execution_count": null,
      "metadata": {
        "id": "qxbEDoKBAxwD"
      },
      "outputs": [],
      "source": [
        "NUM_IMAGES = 4\n",
        "images = [train_dataset[idx][0] for idx in range(NUM_IMAGES)]\n",
        "orig_images = [Image.fromarray(train_dataset.data[idx]) for idx in range(NUM_IMAGES)]\n",
        "orig_images = [test_transform(img) for img in orig_images]\n",
        "\n",
        "img_grid = torchvision.utils.make_grid(torch.stack(images + orig_images, dim=0), nrow=4, normalize=True, pad_value=0.5)\n",
        "img_grid = img_grid.permute(1, 2, 0)\n",
        "\n",
        "plt.figure(figsize=(8,8))\n",
        "plt.title(\"Augmentation examples on CIFAR10\")\n",
        "plt.imshow(img_grid)\n",
        "plt.axis('off')\n",
        "plt.show()\n",
        "plt.close()"
      ]
    },
    {
      "cell_type": "markdown",
      "metadata": {
        "id": "GxzzvooxAxwD"
      },
      "source": [
        "## PyTorch[ Lightning]\n",
        "\n",
        "In this notebook and many subsequent ones, the library [`PyTorch Lightning`](https://www.pytorchlightning.ai/) is utilized. `PyTorch Lightning` is a framework that streamlines the code necessary for trainin[g, evaluating, and ]testing a model in PyTorch. It facilitates logging into [`TensorBoard`](https://pytorch.org/tutorials/intermediate/tensorboard_tutorial.html), a visualization toolkit for machine learning experiments, and automates the saving of model checkpoints with minimal code overhead. This proves immensely beneficial for focusing on the implementation of different model architectures while minimizing time spent on other coding tasks. It is noted that at the time of writing/teaching, the framework has been released in version 1.8. Future versions may present a slightly altered interface, potentially affecting compatibility with the code (efforts will be made to keep it as up-to-date as[ ]possible).\n",
        "\n",
        "The first step with `PyTorch Lightning` is undertaken, and the exploration of the framework will continue in other tutorials. The library is imported as the initial step:"
      ]
    },
    {
      "cell_type": "code",
      "execution_count": null,
      "metadata": {
        "id": "yClW47htAxwD"
      },
      "outputs": [],
      "source": [
        "# PyTorch Lightning\n",
        "try:\n",
        "    import pytorch_lightning as pl\n",
        "except ModuleNotFoundError: # Google Colab does not have PyTorch Lightning installed by default. Hence, we do it here if necessary\n",
        "    !pip install --quiet pytorch-lightning>=1.5\n",
        "    import pytorch_lightning as pl"
      ]
    },
    {
      "cell_type": "markdown",
      "metadata": {
        "id": "uiIsfx1mAxwD"
      },
      "source": [
        "PyTorch Lightning comes with a lot of useful functions, such as one for setting the seed:"
      ]
    },
    {
      "cell_type": "code",
      "execution_count": null,
      "metadata": {
        "id": "VBGPK9h4AxwD"
      },
      "outputs": [],
      "source": [
        "# Setting the seed\n",
        "pl.seed_everything(42)"
      ]
    },
    {
      "cell_type": "markdown",
      "metadata": {
        "id": "FwpWnRxUAxwE"
      },
      "source": [
        "Thus, in the future, the definition of a custom `set_seed` function becomes unnecessary.\n",
        "\n",
        "In `PyTorch Lightning`, `pl.LightningModule`s (inheriting from `torch.nn.Module`) are defined, organizing code into five main sections:\n",
        "\n",
        "*  Initialization (`__init__`), where all necessary parameters/models are created.\n",
        "*  Optimizers (`configure_optimizers`) where optimizers, learning rate schedulers, etc., are created.\n",
        "*  Training loop (`training_step`) where the loss calculation for a single batch is defined (the loop of `optimizer.zero_grad()`, `loss.backward()` and `optimizer.step()`, as well as any logging/saving operation, is performed in the background).\n",
        "*  Validation loop (`validation_step`) where, similar to training, what should happen per step is defined.\n",
        "*  Test loop (`test_step`) which is analogous to validation, only applied to a test set.\n",
        "\n",
        "Hence, the PyTorch code is not abstracted but rather organized and some default operations commonly used are defined. If there is a need to modify anything in the training/validation/test loop, numerous functions are available for override (refer to the [`docs`](https://pytorch-lightning.readthedocs.io/en/latest/common/lightning_module.html) for details).\n",
        "\n",
        "An example of a Lightning Module for training a CNN is now presented:"
      ]
    },
    {
      "cell_type": "code",
      "execution_count": null,
      "metadata": {
        "id": "BVzKdq0sAxwE"
      },
      "outputs": [],
      "source": [
        "class CIFARModule(pl.LightningModule):\n",
        "\n",
        "    def __init__(self, model_name, model_hparams, optimizer_name, optimizer_hparams):\n",
        "        \"\"\"\n",
        "        Inputs:\n",
        "            model_name - Name of the model/CNN to run. Used for creating the model (see function below)\n",
        "            model_hparams - Hyperparameters for the model, as dictionary.\n",
        "            optimizer_name - Name of the optimizer to use. Currently supported: Adam, SGD\n",
        "            optimizer_hparams - Hyperparameters for the optimizer, as dictionary. This includes learning rate, weight decay, etc.\n",
        "        \"\"\"\n",
        "        super().__init__()\n",
        "        # Exports the hyperparameters to a YAML file, and create \"self.hparams\" namespace\n",
        "        self.save_hyperparameters()\n",
        "        # Create model\n",
        "        self.model = create_model(model_name, model_hparams)\n",
        "        # Create loss module\n",
        "        self.loss_module = nn.CrossEntropyLoss()\n",
        "        # Example input for visualizing the graph in Tensorboard\n",
        "        self.example_input_array = torch.zeros((1, 3, 32, 32), dtype=torch.float32)\n",
        "\n",
        "    def forward(self, imgs):\n",
        "        # Forward function that is run when visualizing the graph\n",
        "        return self.model(imgs)\n",
        "\n",
        "    def configure_optimizers(self):\n",
        "        # We will support Adam or SGD as optimizers.\n",
        "        if self.hparams.optimizer_name == \"Adam\":\n",
        "            # AdamW is Adam with a correct implementation of weight decay (see here for details: https://arxiv.org/pdf/1711.05101.pdf)\n",
        "            optimizer = optim.AdamW(\n",
        "                self.parameters(), **self.hparams.optimizer_hparams)\n",
        "        elif self.hparams.optimizer_name == \"SGD\":\n",
        "            optimizer = optim.SGD(self.parameters(), **self.hparams.optimizer_hparams)\n",
        "        else:\n",
        "            assert False, f\"Unknown optimizer: \\\"{self.hparams.optimizer_name}\\\"\"\n",
        "\n",
        "        # We will reduce the learning rate by 0.1 after 100 and 150 epochs\n",
        "        scheduler = optim.lr_scheduler.MultiStepLR(\n",
        "            optimizer, milestones=[100, 150], gamma=0.1)\n",
        "        return [optimizer], [scheduler]\n",
        "\n",
        "    def training_step(self, batch, batch_idx):\n",
        "        # \"batch\" is the output of the training data loader.\n",
        "        imgs, labels = batch\n",
        "        preds = self.model(imgs)\n",
        "        loss = self.loss_module(preds, labels)\n",
        "        acc = (preds.argmax(dim=-1) == labels).float().mean()\n",
        "\n",
        "        # Logs the accuracy per epoch to tensorboard (weighted average over batches)\n",
        "        self.log('train_acc', acc, on_step=False, on_epoch=True)\n",
        "        self.log('train_loss', loss)\n",
        "        return loss  # Return tensor to call \".backward\" on\n",
        "\n",
        "    def validation_step(self, batch, batch_idx):\n",
        "        imgs, labels = batch\n",
        "        preds = self.model(imgs).argmax(dim=-1)\n",
        "        acc = (labels == preds).float().mean()\n",
        "        # By default logs it per epoch (weighted average over batches)\n",
        "        self.log('val_acc', acc)\n",
        "\n",
        "    def test_step(self, batch, batch_idx):\n",
        "        imgs, labels = batch\n",
        "        preds = self.model(imgs).argmax(dim=-1)\n",
        "        acc = (labels == preds).float().mean()\n",
        "        # By default logs it per epoch (weighted average over batches), and returns it afterwards\n",
        "        self.log('test_acc', acc)"
      ]
    },
    {
      "cell_type": "markdown",
      "metadata": {
        "id": "K9Vz2MOBAxwE"
      },
      "source": [
        "The code is organized and clear, which enables comprehension by others.\n",
        "\n",
        "Another crucial aspect of `PyTorch Lightning` involves the concept of callbacks. Callbacks are self-contained functions embodying the non-essential logic of the Lightning Module. They are typically invoked upon completing a training epoch, but they can also impact other segments of the training loop. For example, the use of two predefined callbacks, `LearningRateMonitor` and `ModelCheckpoint`, is planned. The `LearningRateMonitor` adds the current learning rate to TensorBoard, helping to verify the effective operation of the learning rate scheduler. The `ModelCheckpoint` callback permits customization of the checkpoint saving routine, such as the number of checkpoints to retain, the time of saves and which metric to monitor. These are imported as follows:"
      ]
    },
    {
      "cell_type": "code",
      "execution_count": null,
      "metadata": {
        "id": "DgnYnPE6AxwE"
      },
      "outputs": [],
      "source": [
        "# Callbacks\n",
        "from pytorch_lightning.callbacks import LearningRateMonitor, ModelCheckpoint"
      ]
    },
    {
      "cell_type": "markdown",
      "metadata": {
        "id": "zlU8C05mAxwE"
      },
      "source": [
        "To facilitate the execution of multiple different models with the same Lightning module, a function is defined below that maps a model name to the model class. At this stage, the dictionary `model_dict` is empty, but it will be populated throughout the notebook with new models."
      ]
    },
    {
      "cell_type": "code",
      "execution_count": null,
      "metadata": {
        "id": "bqSCFCYwAxwE"
      },
      "outputs": [],
      "source": [
        "model_dict = {}\n",
        "\n",
        "def create_model(model_name, model_hparams):\n",
        "    if model_name in model_dict:\n",
        "        return model_dict[model_name](**model_hparams)\n",
        "    else:\n",
        "        assert False, f\"Unknown model name \\\"{model_name}\\\". Available models are: {str(model_dict.keys())}\""
      ]
    },
    {
      "cell_type": "markdown",
      "metadata": {
        "id": "OnUtvcmSAxwE"
      },
      "source": [
        "Similarly, to treat the activation function as another hyperparameter in the model, a \"name to function\" dictionary is defined below:"
      ]
    },
    {
      "cell_type": "code",
      "execution_count": null,
      "metadata": {
        "id": "LIs-cJ9EAxwE"
      },
      "outputs": [],
      "source": [
        "act_fn_by_name = {\n",
        "    \"tanh\": nn.Tanh,\n",
        "    \"relu\": nn.ReLU,\n",
        "    \"leakyrelu\": nn.LeakyReLU,\n",
        "    \"gelu\": nn.GELU\n",
        "}"
      ]
    },
    {
      "cell_type": "markdown",
      "metadata": {
        "id": "gwKuZBKpAxwE"
      },
      "source": [
        "If classes or objects are passed directly as an argument to the Lightning module, the automatic hyperparameter saving and loading feature of `PyTorch Lightning` could not be used.\n",
        "\n",
        "Beyond the Lightning module, the Trainer constitutes the second pivotal module within `PyTorch Lightning`. The trainer is tasked with executing the training steps delineated in the Lightning module, thus rounding out the framework. Analogously to the Lightning module, any key component deemed unsuitable for automation can be overridden, though default settings frequently represent best practices. For a complete overview, refer to [`documentation`](https://pytorch-lightning.readthedocs.io/en/latest/common/trainer.html). The principal functions used are as follows:\n",
        "\n",
        "* `trainer.fit`: Accepts a Lightning module, a training dataset, and an (optional) validation dataset as inputs. This function trains the provided module on the training dataset, with occasional validation (by default once per epoch, though this can be modified).\n",
        "* `trainer.test`: Receives a model and a dataset for testing purposes. It outputs the test metric for the dataset.\n",
        "\n",
        "For training and testing, concerns such as setting the model to eval mode (`model.eval()`) are managed automatically. The definition of a training function for the models is illustrated below.\n"
      ]
    },
    {
      "cell_type": "code",
      "execution_count": null,
      "metadata": {
        "id": "Jcss6rgjAxwE"
      },
      "outputs": [],
      "source": [
        "def train_model(model_name, save_name=None, **kwargs):\n",
        "    \"\"\"\n",
        "    Inputs:\n",
        "        model_name - Name of the model you want to run. Is used to look up the class in \"model_dict\"\n",
        "        save_name (optional) - If specified, this name will be used for creating the checkpoint and logging directory.\n",
        "    \"\"\"\n",
        "    if save_name is None:\n",
        "        save_name = model_name\n",
        "\n",
        "    # Create a PyTorch Lightning trainer with the generation callback\n",
        "    trainer = pl.Trainer(default_root_dir=os.path.join(CHECKPOINT_PATH, save_name),                          # Where to save models\n",
        "                         accelerator=\"gpu\" if str(device).startswith(\"cuda\") else \"cpu\",                     # We run on a GPU (if possible)\n",
        "                         devices=1,                                                                          # How many GPUs/CPUs we want to use (1 is enough for the notebooks)\n",
        "                         max_epochs=180,                                                                     # How many epochs to train for if no patience is set\n",
        "                         callbacks=[ModelCheckpoint(save_weights_only=True, mode=\"max\", monitor=\"val_acc\"),  # Save the best checkpoint based on the maximum val_acc recorded. Saves only weights and not optimizer\n",
        "                                    LearningRateMonitor(\"epoch\")],                                           # Log learning rate every epoch\n",
        "                         enable_progress_bar=True)                                                           # Set to False if you do not want a progress bar\n",
        "    trainer.logger._log_graph = True         # If True, we plot the computation graph in tensorboard\n",
        "    trainer.logger._default_hp_metric = None # Optional logging argument that we don't need\n",
        "\n",
        "    # Check whether pretrained model exists. If yes, load it and skip training\n",
        "    pretrained_filename = os.path.join(CHECKPOINT_PATH, save_name + \".ckpt\")\n",
        "    if os.path.isfile(pretrained_filename):\n",
        "        print(f\"Found pretrained model at {pretrained_filename}, loading...\")\n",
        "        model = CIFARModule.load_from_checkpoint(pretrained_filename) # Automatically loads the model with the saved hyperparameters\n",
        "    else:\n",
        "        pl.seed_everything(42) # To be reproducable\n",
        "        model = CIFARModule(model_name=model_name, **kwargs)\n",
        "        trainer.fit(model, train_loader, val_loader)\n",
        "        model = CIFARModule.load_from_checkpoint(trainer.checkpoint_callback.best_model_path) # Load best checkpoint after training\n",
        "\n",
        "    # Test best model on validation and test set\n",
        "    val_result = trainer.test(model, val_loader, verbose=False)\n",
        "    test_result = trainer.test(model, test_loader, verbose=False)\n",
        "    result = {\"test\": test_result[0][\"test_acc\"], \"val\": val_result[0][\"test_acc\"]}\n",
        "\n",
        "    return model, result"
      ]
    },
    {
      "cell_type": "markdown",
      "metadata": {
        "id": "KizAo8LsAxwE"
      },
      "source": [
        "Finally, focus is shifted to the Convolutional Neural Networks planned for this tutorial: GoogleNet, ResNet, and DenseNet."
      ]
    },
    {
      "cell_type": "markdown",
      "metadata": {
        "id": "WcAwHsL6AxwF"
      },
      "source": [
        "## Inception\n",
        "\n",
        "The [`GoogleNet`](https://arxiv.org/abs/1409.4842), introduced in 2014, clinched the ImageNet Challenge through its implementation of Inception modules. The focus within this tutorial predominantly lies on the Inception concept rather than the specifics of GoogleNet, as Inception has spurred numerous subsequent developments [`Inception-v2`](https://arxiv.org/abs/1512.00567), [`Inception-v3`](https://arxiv.org/abs/1512.00567), [`Inception-v4`](https://arxiv.org/abs/1602.07261), [`Inception-ResNet`](https://arxiv.org/abs/1602.07261), etc. These developments chiefly aim at enhancing efficiency and facilitating the construction of very deep Inception networks. Nonetheess, for a foundational comprehension, examining the riginal Inception block suffices.\n",
        "\n",
        "An Inception bl[ck oncurrently executes four convolutional operations on an identical feature map: $1 \\times 1$, $3 \\times 3$, and $5 \\times 5$ convolutions, along with a max pooling operation. This arrangement enables the network to analyze the same data through different receptive fields. Although a sole reliance on $5 \\times 5$ convolutions could theoretically offer greater capability, it significantly increases both computation and memory demands and increases the risk of overfitting. The general Inception block is depicted as follows (figure credit - [Szegedy et al.](https://arxiv.org/abs/1409.4842)):\n",
        "\n",
        "<center width=\"100%\"><img src=\"https://raw.githubusercontent.com/msgtsuzuki/saved_models/main/tutorial4/inception_block.svg\" style=\"display: block; margin-left: auto; margin-right: auto;\" width=\"500px\"/></center>\n",
        "\n",
        "The inclusion of $1 \\times 1$ convolutions prior to the $3 \\times 3$ and $5 \\times 5$ convolutions serves the purpose of dimensionality reduction. This step is particularly vital because the feature maps from all branches are combined subsequently, and an explosion in feature size is undesirable. Given that 5x5 convolutions are 25 times more computationally intensive than 1x1 convolutions, a significant reduction in computation and parameters can be achieved by decreasing the dimensionality before undertaking the larger convolutions.\n",
        "\n",
        "An attempt is now made to implement the Inception Block independently."
      ]
    },
    {
      "cell_type": "code",
      "execution_count": null,
      "metadata": {
        "id": "_FQyFpzMAxwF"
      },
      "outputs": [],
      "source": [
        "class InceptionBlock(nn.Module):\n",
        "\n",
        "    def __init__(self, c_in, c_red : dict, c_out : dict, act_fn):\n",
        "        \"\"\"\n",
        "        Inputs:\n",
        "            c_in - Number of input feature maps from the previous layers\n",
        "            c_red - Dictionary with keys \"3x3\" and \"5x5\" specifying the output of the dimensionality reducing 1x1 convolutions\n",
        "            c_out - Dictionary with keys \"1x1\", \"3x3\", \"5x5\", and \"max\"\n",
        "            act_fn - Activation class constructor (e.g. nn.ReLU)\n",
        "        \"\"\"\n",
        "        super().__init__()\n",
        "\n",
        "        # 1x1 convolution branch\n",
        "        self.conv_1x1 = nn.Sequential(\n",
        "            nn.Conv2d(c_in, c_out[\"1x1\"], kernel_size=1),\n",
        "            nn.BatchNorm2d(c_out[\"1x1\"]),\n",
        "            act_fn()\n",
        "        )\n",
        "\n",
        "        # 3x3 convolution branch\n",
        "        self.conv_3x3 = nn.Sequential(\n",
        "            nn.Conv2d(c_in, c_red[\"3x3\"], kernel_size=1),\n",
        "            nn.BatchNorm2d(c_red[\"3x3\"]),\n",
        "            act_fn(),\n",
        "            nn.Conv2d(c_red[\"3x3\"], c_out[\"3x3\"], kernel_size=3, padding=1),\n",
        "            nn.BatchNorm2d(c_out[\"3x3\"]),\n",
        "            act_fn()\n",
        "        )\n",
        "\n",
        "        # 5x5 convolution branch\n",
        "        self.conv_5x5 = nn.Sequential(\n",
        "            nn.Conv2d(c_in, c_red[\"5x5\"], kernel_size=1),\n",
        "            nn.BatchNorm2d(c_red[\"5x5\"]),\n",
        "            act_fn(),\n",
        "            nn.Conv2d(c_red[\"5x5\"], c_out[\"5x5\"], kernel_size=5, padding=2),\n",
        "            nn.BatchNorm2d(c_out[\"5x5\"]),\n",
        "            act_fn()\n",
        "        )\n",
        "\n",
        "        # Max-pool branch\n",
        "        self.max_pool = nn.Sequential(\n",
        "            nn.MaxPool2d(kernel_size=3, padding=1, stride=1),\n",
        "            nn.Conv2d(c_in, c_out[\"max\"], kernel_size=1),\n",
        "            nn.BatchNorm2d(c_out[\"max\"]),\n",
        "            act_fn()\n",
        "        )\n",
        "\n",
        "    def forward(self, x):\n",
        "        x_1x1 = self.conv_1x1(x)\n",
        "        x_3x3 = self.conv_3x3(x)\n",
        "        x_5x5 = self.conv_5x5(x)\n",
        "        x_max = self.max_pool(x)\n",
        "        x_out = torch.cat([x_1x1, x_3x3, x_5x5, x_max], dim=1)\n",
        "        return x_out"
      ]
    },
    {
      "cell_type": "markdown",
      "metadata": {
        "id": "bo1qsPJCAxwF"
      },
      "source": [
        "The `GoogleNet` architecture is characterized by the sequential arrangement of multiple Inception blocks, interspersed with occasional max-pooling to diminish the height and width of the feature maps. Originally tailored for the image dimensions of ImageNet ($224 \\times 224$ pixels), the original `GoogleNet` encompassed nearly 7 million parameters. Given that training in CIFAR10 involves images of $32 \\times 32$ size, a less complex architecture is used instead, featuring a reduced version. The details, such as the number of channels for dimensionality reduction and the output per filter ($1 \\times 1$, $3 \\times 3$, $5 \\times 5$, and max pooling), are subject to manual specification and can be adjusted as desired. It is generally advised to allocate the majority of filters to the $3 \\times 3$ convolutions, considering their efficiency in contextual processing while consuming roughly a third of the parameters required by the 5x5 convolution."
      ]
    },
    {
      "cell_type": "code",
      "execution_count": null,
      "metadata": {
        "id": "_IFQgvL1AxwF"
      },
      "outputs": [],
      "source": [
        "class GoogleNet(nn.Module):\n",
        "\n",
        "    def __init__(self, num_classes=10, act_fn_name=\"relu\", **kwargs):\n",
        "        super().__init__()\n",
        "        self.hparams = SimpleNamespace(num_classes=num_classes,\n",
        "                                       act_fn_name=act_fn_name,\n",
        "                                       act_fn=act_fn_by_name[act_fn_name])\n",
        "        self._create_network()\n",
        "        self._init_params()\n",
        "\n",
        "    def _create_network(self):\n",
        "        # A first convolution on the original image to scale up the channel size\n",
        "        self.input_net = nn.Sequential(\n",
        "            nn.Conv2d(3, 64, kernel_size=3, padding=1),\n",
        "            nn.BatchNorm2d(64),\n",
        "            self.hparams.act_fn()\n",
        "        )\n",
        "        # Stacking inception blocks\n",
        "        self.inception_blocks = nn.Sequential(\n",
        "            InceptionBlock(64, c_red={\"3x3\": 32, \"5x5\": 16}, c_out={\"1x1\": 16, \"3x3\": 32, \"5x5\": 8, \"max\": 8}, act_fn=self.hparams.act_fn),\n",
        "            InceptionBlock(64, c_red={\"3x3\": 32, \"5x5\": 16}, c_out={\"1x1\": 24, \"3x3\": 48, \"5x5\": 12, \"max\": 12}, act_fn=self.hparams.act_fn),\n",
        "            nn.MaxPool2d(3, stride=2, padding=1),  # 32x32 => 16x16\n",
        "            InceptionBlock(96, c_red={\"3x3\": 32, \"5x5\": 16}, c_out={\"1x1\": 24, \"3x3\": 48, \"5x5\": 12, \"max\": 12}, act_fn=self.hparams.act_fn),\n",
        "            InceptionBlock(96, c_red={\"3x3\": 32, \"5x5\": 16}, c_out={\"1x1\": 16, \"3x3\": 48, \"5x5\": 16, \"max\": 16}, act_fn=self.hparams.act_fn),\n",
        "            InceptionBlock(96, c_red={\"3x3\": 32, \"5x5\": 16}, c_out={\"1x1\": 16, \"3x3\": 48, \"5x5\": 16, \"max\": 16}, act_fn=self.hparams.act_fn),\n",
        "            InceptionBlock(96, c_red={\"3x3\": 32, \"5x5\": 16}, c_out={\"1x1\": 32, \"3x3\": 48, \"5x5\": 24, \"max\": 24}, act_fn=self.hparams.act_fn),\n",
        "            nn.MaxPool2d(3, stride=2, padding=1),  # 16x16 => 8x8\n",
        "            InceptionBlock(128, c_red={\"3x3\": 48, \"5x5\": 16}, c_out={\"1x1\": 32, \"3x3\": 64, \"5x5\": 16, \"max\": 16}, act_fn=self.hparams.act_fn),\n",
        "            InceptionBlock(128, c_red={\"3x3\": 48, \"5x5\": 16}, c_out={\"1x1\": 32, \"3x3\": 64, \"5x5\": 16, \"max\": 16}, act_fn=self.hparams.act_fn)\n",
        "        )\n",
        "        # Mapping to classification output\n",
        "        self.output_net = nn.Sequential(\n",
        "            nn.AdaptiveAvgPool2d((1, 1)),\n",
        "            nn.Flatten(),\n",
        "            nn.Linear(128, self.hparams.num_classes)\n",
        "        )\n",
        "\n",
        "    def _init_params(self):\n",
        "        # Based on our discussion in Tutorial 4, we should initialize the convolutions according to the activation function\n",
        "        for m in self.modules():\n",
        "            if isinstance(m, nn.Conv2d):\n",
        "                nn.init.kaiming_normal_(\n",
        "                    m.weight, nonlinearity=self.hparams.act_fn_name)\n",
        "            elif isinstance(m, nn.BatchNorm2d):\n",
        "                nn.init.constant_(m.weight, 1)\n",
        "                nn.init.constant_(m.bias, 0)\n",
        "\n",
        "    def forward(self, x):\n",
        "        x = self.input_net(x)\n",
        "        x = self.inception_blocks(x)\n",
        "        x = self.output_net(x)\n",
        "        return x"
      ]
    },
    {
      "cell_type": "markdown",
      "metadata": {
        "id": "2DvYQbdeAxwF"
      },
      "source": [
        "Now, the model can be integrated into the model dictionary that was defined previously:"
      ]
    },
    {
      "cell_type": "code",
      "execution_count": null,
      "metadata": {
        "id": "BJykOGnEAxwF"
      },
      "outputs": [],
      "source": [
        "model_dict[\"GoogleNet\"] = GoogleNet"
      ]
    },
    {
      "cell_type": "markdown",
      "metadata": {
        "id": "XOHG7cw7AxwF"
      },
      "source": [
        "The training of the model is facilitated by `PyTorch Lightning`, necessitating only the definition of the command to initiate the process. It is noteworthy that the training extends for approximately 200 epochs, a duration which amounts to less than an hour on Snellius's standard GPUs (NVIDIA A100). Utilization of saved models is recommended, and personal model training is encouraged for those interested."
      ]
    },
    {
      "cell_type": "code",
      "execution_count": 18,
      "metadata": {
        "colab": {
          "base_uri": "https://localhost:8080/",
          "height": 587,
          "referenced_widgets": [
            "2262fbf346d64e5295a1b76bfd6c1330",
            "7ecb956cf5144e85a3200a7ebc707c9f"
          ]
        },
        "id": "JslzWr-DAxwF",
        "outputId": "059b3c40-6218-48b7-df90-9e777fd17cc3"
      },
      "outputs": [
        {
          "metadata": {
            "tags": null
          },
          "name": "stderr",
          "output_type": "stream",
          "text": [
            "INFO:pytorch_lightning.utilities.rank_zero:GPU available: False, used: False\n",
            "INFO:pytorch_lightning.utilities.rank_zero:TPU available: False, using: 0 TPU cores\n",
            "INFO:pytorch_lightning.utilities.rank_zero:IPU available: False, using: 0 IPUs\n",
            "INFO:pytorch_lightning.utilities.rank_zero:HPU available: False, using: 0 HPUs\n"
          ]
        },
        {
          "metadata": {
            "tags": null
          },
          "name": "stdout",
          "output_type": "stream",
          "text": [
            "Found pretrained model at ../saved_models/tutorial4/GoogleNet.ckpt, loading...\n"
          ]
        },
        {
          "metadata": {
            "tags": null
          },
          "name": "stderr",
          "output_type": "stream",
          "text": [
            "INFO:pytorch_lightning.utilities.migration.utils:Lightning automatically upgraded your loaded checkpoint from v1.0.2 to v2.2.1. To apply the upgrade to your files permanently, run `python -m pytorch_lightning.utilities.upgrade_checkpoint ../saved_models/tutorial4/GoogleNet.ckpt`\n",
            "WARNING:pytorch_lightning.loggers.tensorboard:Missing logger folder: ../saved_models/tutorial4/GoogleNet/lightning_logs\n",
            "/usr/local/lib/python3.10/dist-packages/torch/utils/data/dataloader.py:558: UserWarning: This DataLoader will create 4 worker processes in total. Our suggested max number of worker in current system is 2, which is smaller than what this DataLoader is going to create. Please be aware that excessive worker creation might get DataLoader running slow or even freeze, lower the worker number to avoid potential slowness/freeze if necessary.\n",
            "  warnings.warn(_create_warning_msg(\n"
          ]
        },
        {
          "data": {
            "application/vnd.jupyter.widget-view+json": {
              "model_id": "2262fbf346d64e5295a1b76bfd6c1330",
              "version_major": 2,
              "version_minor": 0
            },
            "text/plain": [
              "Testing: |          | 0/? [00:00<?, ?it/s]"
            ]
          },
          "metadata": {},
          "output_type": "display_data"
        },
        {
          "metadata": {
            "tags": null
          },
          "name": "stderr",
          "output_type": "stream",
          "text": [
            "/usr/local/lib/python3.10/dist-packages/pytorch_lightning/trainer/call.py:54: Detected KeyboardInterrupt, attempting graceful shutdown...\n"
          ]
        },
        {
          "data": {
            "application/vnd.jupyter.widget-view+json": {
              "model_id": "7ecb956cf5144e85a3200a7ebc707c9f",
              "version_major": 2,
              "version_minor": 0
            },
            "text/plain": [
              "Testing: |          | 0/? [00:00<?, ?it/s]"
            ]
          },
          "metadata": {},
          "output_type": "display_data"
        },
        {
          "ename": "TypeError",
          "evalue": "'NoneType' object is not subscriptable",
          "output_type": "error",
          "traceback": [
            "\u001b[0;31m---------------------------------------------------------------------------\u001b[0m",
            "\u001b[0;31mTypeError\u001b[0m                                 Traceback (most recent call last)",
            "\u001b[0;32m<ipython-input-18-37e13ebd7de4>\u001b[0m in \u001b[0;36m<cell line: 1>\u001b[0;34m()\u001b[0m\n\u001b[0;32m----> 1\u001b[0;31m googlenet_model, googlenet_results = train_model(model_name=\"GoogleNet\",\n\u001b[0m\u001b[1;32m      2\u001b[0m                                                  model_hparams={\"num_classes\": 10,\n\u001b[1;32m      3\u001b[0m                                                                 \"act_fn_name\": \"relu\"},\n\u001b[1;32m      4\u001b[0m                                                  \u001b[0moptimizer_name\u001b[0m\u001b[0;34m=\u001b[0m\u001b[0;34m\"Adam\"\u001b[0m\u001b[0;34m,\u001b[0m\u001b[0;34m\u001b[0m\u001b[0;34m\u001b[0m\u001b[0m\n\u001b[1;32m      5\u001b[0m                                                  optimizer_hparams={\"lr\": 1e-3,\n",
            "\u001b[0;32m<ipython-input-14-15efc0e2c028>\u001b[0m in \u001b[0;36mtrain_model\u001b[0;34m(model_name, save_name, **kwargs)\u001b[0m\n\u001b[1;32m     33\u001b[0m     \u001b[0mval_result\u001b[0m \u001b[0;34m=\u001b[0m \u001b[0mtrainer\u001b[0m\u001b[0;34m.\u001b[0m\u001b[0mtest\u001b[0m\u001b[0;34m(\u001b[0m\u001b[0mmodel\u001b[0m\u001b[0;34m,\u001b[0m \u001b[0mval_loader\u001b[0m\u001b[0;34m,\u001b[0m \u001b[0mverbose\u001b[0m\u001b[0;34m=\u001b[0m\u001b[0;32mFalse\u001b[0m\u001b[0;34m)\u001b[0m\u001b[0;34m\u001b[0m\u001b[0;34m\u001b[0m\u001b[0m\n\u001b[1;32m     34\u001b[0m     \u001b[0mtest_result\u001b[0m \u001b[0;34m=\u001b[0m \u001b[0mtrainer\u001b[0m\u001b[0;34m.\u001b[0m\u001b[0mtest\u001b[0m\u001b[0;34m(\u001b[0m\u001b[0mmodel\u001b[0m\u001b[0;34m,\u001b[0m \u001b[0mtest_loader\u001b[0m\u001b[0;34m,\u001b[0m \u001b[0mverbose\u001b[0m\u001b[0;34m=\u001b[0m\u001b[0;32mFalse\u001b[0m\u001b[0;34m)\u001b[0m\u001b[0;34m\u001b[0m\u001b[0;34m\u001b[0m\u001b[0m\n\u001b[0;32m---> 35\u001b[0;31m     \u001b[0mresult\u001b[0m \u001b[0;34m=\u001b[0m \u001b[0;34m{\u001b[0m\u001b[0;34m\"test\"\u001b[0m\u001b[0;34m:\u001b[0m \u001b[0mtest_result\u001b[0m\u001b[0;34m[\u001b[0m\u001b[0;36m0\u001b[0m\u001b[0;34m]\u001b[0m\u001b[0;34m[\u001b[0m\u001b[0;34m\"test_acc\"\u001b[0m\u001b[0;34m]\u001b[0m\u001b[0;34m,\u001b[0m \u001b[0;34m\"val\"\u001b[0m\u001b[0;34m:\u001b[0m \u001b[0mval_result\u001b[0m\u001b[0;34m[\u001b[0m\u001b[0;36m0\u001b[0m\u001b[0;34m]\u001b[0m\u001b[0;34m[\u001b[0m\u001b[0;34m\"test_acc\"\u001b[0m\u001b[0;34m]\u001b[0m\u001b[0;34m}\u001b[0m\u001b[0;34m\u001b[0m\u001b[0;34m\u001b[0m\u001b[0m\n\u001b[0m\u001b[1;32m     36\u001b[0m \u001b[0;34m\u001b[0m\u001b[0m\n\u001b[1;32m     37\u001b[0m     \u001b[0;32mreturn\u001b[0m \u001b[0mmodel\u001b[0m\u001b[0;34m,\u001b[0m \u001b[0mresult\u001b[0m\u001b[0;34m\u001b[0m\u001b[0;34m\u001b[0m\u001b[0m\n",
            "\u001b[0;31mTypeError\u001b[0m: 'NoneType' object is not subscriptable"
          ]
        }
      ],
      "source": [
        "googlenet_model, googlenet_results = train_model(model_name=\"GoogleNet\",\n",
        "                                                 model_hparams={\"num_classes\": 10,\n",
        "                                                                \"act_fn_name\": \"relu\"},\n",
        "                                                 optimizer_name=\"Adam\",\n",
        "                                                 optimizer_hparams={\"lr\": 1e-3,\n",
        "                                                                    \"weight_decay\": 1e-4})"
      ]
    },
    {
      "cell_type": "markdown",
      "metadata": {
        "id": "_urHgYg0AxwI"
      },
      "source": [
        "The results will be compared later in the notebooks, but they can already be printed here for an initial overview:"
      ]
    },
    {
      "cell_type": "code",
      "execution_count": null,
      "metadata": {
        "id": "kwuimAzoAxwI"
      },
      "outputs": [],
      "source": [
        "print(\"GoogleNet Results\", googlenet_results)"
      ]
    },
    {
      "cell_type": "markdown",
      "metadata": {
        "id": "W83YJIqYAxwI"
      },
      "source": [
        "### Tensorboard log\n",
        "\n",
        "An advantageous feature of `PyTorch Lightning` includes automatic log-in to TensorBoard. For a clearer understanding of TensorBoard's applications, examination of the board generated by `PyTorch Lightning` during GoogleNet training is possible. TensorBoard offers inline functionality for Jupyter notebooks, which is utilized here:"
      ]
    },
    {
      "cell_type": "code",
      "execution_count": null,
      "metadata": {
        "id": "OmLj9mqvAxwI"
      },
      "outputs": [],
      "source": [
        "# Load tensorboard extension\n",
        "%load_ext tensorboard"
      ]
    },
    {
      "cell_type": "code",
      "execution_count": null,
      "metadata": {
        "id": "X5EVxxojAxwJ"
      },
      "outputs": [],
      "source": [
        "# Opens tensorboard in notebook. Adjust the path to your CHECKPOINT_PATH!\n",
        "%tensorboard --logdir ../saved_models/tutorial4/tensorboards/GoogleNet/"
      ]
    },
    {
      "cell_type": "markdown",
      "metadata": {
        "id": "eRPYaA7yAxwJ"
      },
      "source": [
        "<center width=\"100%\"><img src=\"https://raw.githubusercontent.com/msgtsuzuki/saved_models/main/tutorial4/tensorboard_screenshot_GoogleNet.png\" width=\"1000px\"></center>\n",
        "\n",
        "TensorBoard features organization across multiple tabs, with the scalar tab being a principal focus where the evolution of singular metrics is logged. For instance, training loss, accuracy, learning rate, etc., have been charted. Observing training or validation accuracy underscores the importance of employing a learning rate scheduler, where a reduction in the learning rate markedly enhances training performance. Similarly, a noticeable drop in training loss is observed at this point. However, elevated figures in the training set relative to validation suggest overfitting, a common occurrence in expansive networks.\n",
        "\n",
        "Another tab of interest within TensorBoard is the graph tab, which delineates the network architecture, arranged by building blocks from input to output. Essentially, it illustrates the operations conducted during the forward step of `CIFARModule`. Double clicking on a module opens up, offering an invitation to explore the architecture from a novel angle. The visual representation of the graph aids in verifying that the model functions as intended, ensuring that no layers are omitted in the computation graph."
      ]
    },
    {
      "cell_type": "markdown",
      "metadata": {
        "id": "1Et8GT-zAxwJ"
      },
      "source": [
        "## ResNet\n",
        "\n",
        "The [ResNet paper](https://arxiv.org/abs/1603.05027) is one of the most cited AI papers and has been the foundation for neural networks with more than 1,000 layers. Despite its simplicity, the idea of residual connections is highly effective, as it supports stable gradient propagation through the network. Instead of modeling $x_{l+1}=F(x_{l})$, the model $x_{l+1}=x_{l}+F(x_{l})$ is used, where $F$ is a nonlinear mapping (usually a sequence of NN modules like convolutions, activation functions, and normalizations). If backpropagation is performed on such residual connections, the result is\n",
        "$$\n",
        "\\frac{\\partial x_{l+1}}{\\partial x_{l}} = \\mathbf{I} + \\frac{\\partial F(x_{l})}{\\partial x_{l}}.\n",
        "$$\n",
        "The bias towards the identity matrix guarantees a stable gradient propagation that is less affected by $F$ itself. Many variants of ResNet have been proposed, mainly pertaining to the function $F$, or operations applied on the sum. In this tutorial, two of them are examined: the original ResNet block and the Pre-Activation ResNet block. The blocks are visually compared below:\n",
        "\n",
        "<center width=\"100%\"><img src=\"https://raw.githubusercontent.com/msgtsuzuki/saved_models/main/tutorial4/resnet_block.svg\" style=\"display: block; margin-left: auto; margin-right: auto;\" width=\"300px\"/></center>\n",
        "\n",
        "The original ResNet block applies a nonlinear activation function, usually ReLU, after the skip connection. In contrast, the preactivation ResNet block applies the nonlinearity at the beginning of $F$. Both have their advantages and disadvantages. For very deep networks, however, the preactivation ResNet has shown to perform better as the gradient flow is guaranteed to have the identity matrix as calculated above, and is not harmed by any non-linear activation applied to it. For comparison, in this notebook, both ResNet types are implemented as shallow networks.\n",
        "\n",
        "Starting with the original ResNet block, the above visualization already shows which layers are included in $F$. One special case that needs to be handled is when the image dimensions in terms of width and height need to be reduced. The basic ResNet block requires $F(x_{l})$ to be of the same shape as $x_{l}$. Thus, the dimensionality of $x_{l}$ should also be changed before adding to $F(x_{l})$. The original implementation used an identity mapping with stride 2 and padded additional feature dimensions with 0. However, the more common implementation is to use a $1 \\times 1$ convolution with stride 2 as it allows changing the dimensionality of the feature while being efficient in parameter and computation cost. The code for the ResNet block is relatively simple and is shown below:"
      ]
    },
    {
      "cell_type": "code",
      "execution_count": null,
      "metadata": {
        "id": "lso0u47lAxwJ"
      },
      "outputs": [],
      "source": [
        "class ResNetBlock(nn.Module):\n",
        "\n",
        "    def __init__(self, c_in, act_fn, subsample=False, c_out=-1):\n",
        "        \"\"\"\n",
        "        Inputs:\n",
        "            c_in - Number of input features\n",
        "            act_fn - Activation class constructor (e.g. nn.ReLU)\n",
        "            subsample - If True, we want to apply a stride inside the block and reduce the output shape by 2 in height and width\n",
        "            c_out - Number of output features. Note that this is only relevant if subsample is True, as otherwise, c_out = c_in\n",
        "        \"\"\"\n",
        "        super().__init__()\n",
        "        if not subsample:\n",
        "            c_out = c_in\n",
        "\n",
        "        # Network representing F\n",
        "        self.net = nn.Sequential(\n",
        "            nn.Conv2d(c_in, c_out, kernel_size=3, padding=1, stride=1 if not subsample else 2, bias=False),  # No bias needed as the Batch Norm handles it\n",
        "            nn.BatchNorm2d(c_out),\n",
        "            act_fn(),\n",
        "            nn.Conv2d(c_out, c_out, kernel_size=3, padding=1, bias=False),\n",
        "            nn.BatchNorm2d(c_out)\n",
        "        )\n",
        "\n",
        "        # 1x1 convolution with stride 2 means we take the upper left value, and transform it to new output size\n",
        "        self.downsample = nn.Conv2d(c_in, c_out, kernel_size=1, stride=2) if subsample else None\n",
        "        self.act_fn = act_fn()\n",
        "\n",
        "    def forward(self, x):\n",
        "        z = self.net(x)\n",
        "        if self.downsample is not None:\n",
        "            x = self.downsample(x)\n",
        "        out = z + x\n",
        "        out = self.act_fn(out)\n",
        "        return out"
      ]
    },
    {
      "cell_type": "markdown",
      "metadata": {
        "id": "Xq3pBtS6AxwJ"
      },
      "source": [
        "The second block implemented is the ResNet pre-activation block. For this, the order of the layers in `self.net` needs to be changed, and no activation function is applied on the output. Additionally, the downsampling operation has to apply a nonlinearity, as well as the input, $x_l$, has not been processed by a non-linearity yet. Hence, the block looks as follows:"
      ]
    },
    {
      "cell_type": "code",
      "execution_count": null,
      "metadata": {
        "id": "aUqDnnvTAxwJ"
      },
      "outputs": [],
      "source": [
        "class PreActResNetBlock(nn.Module):\n",
        "\n",
        "    def __init__(self, c_in, act_fn, subsample=False, c_out=-1):\n",
        "        \"\"\"\n",
        "        Inputs:\n",
        "            c_in - Number of input features\n",
        "            act_fn - Activation class constructor (e.g. nn.ReLU)\n",
        "            subsample - If True, we want to apply a stride inside the block and reduce the output shape by 2 in height and width\n",
        "            c_out - Number of output features. Note that this is only relevant if subsample is True, as otherwise, c_out = c_in\n",
        "        \"\"\"\n",
        "        super().__init__()\n",
        "        if not subsample:\n",
        "            c_out = c_in\n",
        "\n",
        "        # Network representing F\n",
        "        self.net = nn.Sequential(\n",
        "            nn.BatchNorm2d(c_in),\n",
        "            act_fn(),\n",
        "            nn.Conv2d(c_in, c_out, kernel_size=3, padding=1, stride=1 if not subsample else 2, bias=False),\n",
        "            nn.BatchNorm2d(c_out),\n",
        "            act_fn(),\n",
        "            nn.Conv2d(c_out, c_out, kernel_size=3, padding=1, bias=False)\n",
        "        )\n",
        "\n",
        "        # 1x1 convolution can apply non-linearity as well, but not strictly necessary\n",
        "        self.downsample = nn.Sequential(\n",
        "            nn.BatchNorm2d(c_in),\n",
        "            act_fn(),\n",
        "            nn.Conv2d(c_in, c_out, kernel_size=1, stride=2, bias=False)\n",
        "        ) if subsample else None\n",
        "\n",
        "    def forward(self, x):\n",
        "        z = self.net(x)\n",
        "        if self.downsample is not None:\n",
        "            x = self.downsample(x)\n",
        "        out = z + x\n",
        "        return out"
      ]
    },
    {
      "cell_type": "markdown",
      "metadata": {
        "id": "cGt-09twAxwJ"
      },
      "source": [
        "Similarly to model selection, a dictionary is defined to create a mapping from string to block class. The string name is used as a hyperparameter value in the model to choose between the ResNet blocks. Any other ResNet block type can also be implemented and added here."
      ]
    },
    {
      "cell_type": "code",
      "execution_count": null,
      "metadata": {
        "id": "xdr9TT9VAxwJ"
      },
      "outputs": [],
      "source": [
        "resnet_blocks_by_name = {\n",
        "    \"ResNetBlock\": ResNetBlock,\n",
        "    \"PreActResNetBlock\": PreActResNetBlock\n",
        "}"
      ]
    },
    {
      "cell_type": "markdown",
      "metadata": {
        "id": "YvWqrQYIAxwJ"
      },
      "source": [
        "The overall ResNet architecture consists of stacking multiple ResNet blocks, some of which are downsampling the input. When referring to ResNet blocks in the whole network, they are usually grouped by the same output shape. For example, by saying that ResNet has `[3,3,3]` blocks, it means that there are 3 groups of 3 ResNet blocks, where subsampling takes place in the fourth and seventh blocks.  ResNet with `[3,3,3]` blocks on CIFAR10 is visualized below.\n",
        "\n",
        "<center width=\"100%\"><img src=\"https://raw.githubusercontent.com/msgtsuzuki/saved_models/main/tutorial4/resnet_notation.svg\" width=\"500px\"></center>\n",
        "\n",
        "The three groups operate at resolutions $32 \\times 32$, $16 \\times 16$, and $8 \\times 8$, respectively. The blocks in orange denote ResNet blocks with downsampling. The same notation is used by many other implementations such as in the [torchvision library](https://pytorch.org/docs/stable/_modules/torchvision/models/resnet.html#resnet18) from PyTorch. Thus, the code looks as follows:"
      ]
    },
    {
      "cell_type": "code",
      "execution_count": null,
      "metadata": {
        "id": "9qiLuHwCAxwJ"
      },
      "outputs": [],
      "source": [
        "class ResNet(nn.Module):\n",
        "\n",
        "    def __init__(self, num_classes=10, num_blocks=[3,3,3], c_hidden=[16,32,64], act_fn_name=\"relu\", block_name=\"ResNetBlock\", **kwargs):\n",
        "        \"\"\"\n",
        "        Inputs:\n",
        "            num_classes - Number of classification outputs (10 for CIFAR10)\n",
        "            num_blocks - List with the number of ResNet blocks to use. The first block of each group uses downsampling, except the first.\n",
        "            c_hidden - List with the hidden dimensionalities in the different blocks. Usually multiplied by 2 the deeper we go.\n",
        "            act_fn_name - Name of the activation function to use, looked up in \"act_fn_by_name\"\n",
        "            block_name - Name of the ResNet block, looked up in \"resnet_blocks_by_name\"\n",
        "        \"\"\"\n",
        "        super().__init__()\n",
        "        assert block_name in resnet_blocks_by_name\n",
        "        self.hparams = SimpleNamespace(num_classes=num_classes,\n",
        "                                       c_hidden=c_hidden,\n",
        "                                       num_blocks=num_blocks,\n",
        "                                       act_fn_name=act_fn_name,\n",
        "                                       act_fn=act_fn_by_name[act_fn_name],\n",
        "                                       block_class=resnet_blocks_by_name[block_name])\n",
        "        self._create_network()\n",
        "        self._init_params()\n",
        "\n",
        "    def _create_network(self):\n",
        "        c_hidden = self.hparams.c_hidden\n",
        "\n",
        "        # A first convolution on the original image to scale up the channel size\n",
        "        if self.hparams.block_class == PreActResNetBlock: # => Don't apply non-linearity on output\n",
        "            self.input_net = nn.Sequential(\n",
        "                nn.Conv2d(3, c_hidden[0], kernel_size=3, padding=1, bias=False)\n",
        "            )\n",
        "        else:\n",
        "            self.input_net = nn.Sequential(\n",
        "                nn.Conv2d(3, c_hidden[0], kernel_size=3, padding=1, bias=False),\n",
        "                nn.BatchNorm2d(c_hidden[0]),\n",
        "                self.hparams.act_fn()\n",
        "            )\n",
        "\n",
        "        # Creating the ResNet blocks\n",
        "        blocks = []\n",
        "        for block_idx, block_count in enumerate(self.hparams.num_blocks):\n",
        "            for bc in range(block_count):\n",
        "                subsample = (bc == 0 and block_idx > 0) # Subsample the first block of each group, except the very first one.\n",
        "                blocks.append(\n",
        "                    self.hparams.block_class(c_in=c_hidden[block_idx if not subsample else (block_idx-1)],\n",
        "                                             act_fn=self.hparams.act_fn,\n",
        "                                             subsample=subsample,\n",
        "                                             c_out=c_hidden[block_idx])\n",
        "                )\n",
        "        self.blocks = nn.Sequential(*blocks)\n",
        "\n",
        "        # Mapping to classification output\n",
        "        self.output_net = nn.Sequential(\n",
        "            nn.AdaptiveAvgPool2d((1,1)),\n",
        "            nn.Flatten(),\n",
        "            nn.Linear(c_hidden[-1], self.hparams.num_classes)\n",
        "        )\n",
        "\n",
        "    def _init_params(self):\n",
        "        # Based on our discussion in Tutorial 4, we should initialize the convolutions according to the activation function\n",
        "        # Fan-out focuses on the gradient distribution, and is commonly used in ResNets\n",
        "        for m in self.modules():\n",
        "            if isinstance(m, nn.Conv2d):\n",
        "                nn.init.kaiming_normal_(m.weight, mode='fan_out', nonlinearity=self.hparams.act_fn_name)\n",
        "            elif isinstance(m, nn.BatchNorm2d):\n",
        "                nn.init.constant_(m.weight, 1)\n",
        "                nn.init.constant_(m.bias, 0)\n",
        "\n",
        "    def forward(self, x):\n",
        "        x = self.input_net(x)\n",
        "        x = self.blocks(x)\n",
        "        x = self.output_net(x)\n",
        "        return x"
      ]
    },
    {
      "cell_type": "markdown",
      "metadata": {
        "id": "K-SdaoifAxwL"
      },
      "source": [
        "The new ResNet class also needs to be added to the model dictionary:"
      ]
    },
    {
      "cell_type": "code",
      "execution_count": null,
      "metadata": {
        "id": "FFTLyBQVAxwL"
      },
      "outputs": [],
      "source": [
        "model_dict[\"ResNet\"] = ResNet"
      ]
    },
    {
      "cell_type": "markdown",
      "metadata": {
        "id": "joN5GxPrAxwL"
      },
      "source": [
        "Finally, the ResNet models can be trained. One difference from GoogleNet training is that SGD with Momentum is explicitly used as an optimizer instead of Adam. Adam often leads to slightly worse accuracy on plain, shallow ResNets. The reason for this is not entirely clear, but one possible explanation is related to ResNet's loss surface. ResNet has been shown to produce smoother loss surfaces than networks without skip connections (see [Li et al., 2018](https://arxiv.org/pdf/1712.09913.pdf) for details). A possible visualization of the loss surface with/without skip connections is given below.\n",
        "\n",
        "<center width=\"100%\"><img src=\"https://raw.githubusercontent.com/msgtsuzuki/saved_models/main/tutorial4/resnet_loss_surface.svg\" style=\"display: block; margin-left: auto; margin-right: auto;\" width=\"600px\"/></center>\n",
        "\n",
        "The $x$ and $y$ axes show a projection of the parameter space, and the $z$ axis shows the loss values achieved by different parameter values. On smooth surfaces like the one on the right, an adaptive learning rate may not be required, as Adam provides. Instead, Adam can get stuck in local optima while SGD finds the wider minima that tend to generalize better.\n",
        "However, to answer this question in detail, an additional tutorial would be needed because it is not easy to answer. For now, the conclusion is as follows: for ResNet architectures, consider the optimizer to be an important hyperparameter and try training with both Adam and SGD. The model can be trained below with SGD:"
      ]
    },
    {
      "cell_type": "code",
      "execution_count": null,
      "metadata": {
        "id": "OyJ-v3zLAxwL"
      },
      "outputs": [],
      "source": [
        "resnet_model, resnet_results = train_model(model_name=\"ResNet\",\n",
        "                                           model_hparams={\"num_classes\": 10,\n",
        "                                                          \"c_hidden\": [16,32,64],\n",
        "                                                          \"num_blocks\": [3,3,3],\n",
        "                                                          \"act_fn_name\": \"relu\"},\n",
        "                                           optimizer_name=\"SGD\",\n",
        "                                           optimizer_hparams={\"lr\": 0.1,\n",
        "                                                              \"momentum\": 0.9,\n",
        "                                                              \"weight_decay\": 1e-4})"
      ]
    },
    {
      "cell_type": "markdown",
      "metadata": {
        "id": "nz4RVB0gAxwL"
      },
      "source": [
        "The preactivation ResNet is also trained as a comparison:"
      ]
    },
    {
      "cell_type": "code",
      "execution_count": null,
      "metadata": {
        "id": "RFf5U7fwAxwL"
      },
      "outputs": [],
      "source": [
        "resnetpreact_model, resnetpreact_results = train_model(model_name=\"ResNet\",\n",
        "                                                       model_hparams={\"num_classes\": 10,\n",
        "                                                                      \"c_hidden\": [16,32,64],\n",
        "                                                                      \"num_blocks\": [3,3,3],\n",
        "                                                                      \"act_fn_name\": \"relu\",\n",
        "                                                                      \"block_name\": \"PreActResNetBlock\"},\n",
        "                                                       optimizer_name=\"SGD\",\n",
        "                                                       optimizer_hparams={\"lr\": 0.1,\n",
        "                                                                          \"momentum\": 0.9,\n",
        "                                                                          \"weight_decay\": 1e-4},\n",
        "                                                       save_name=\"ResNetPreAct\")"
      ]
    },
    {
      "cell_type": "markdown",
      "metadata": {
        "id": "IQuU_hoIAxwL"
      },
      "source": [
        "### Tensorboard log\n",
        "\n",
        "Similarly to the GoogleNet model, there is also a TensorBoard log for the ResNet model. It can be opened in the following."
      ]
    },
    {
      "cell_type": "code",
      "execution_count": null,
      "metadata": {
        "id": "2saxg_vwAxwL"
      },
      "outputs": [],
      "source": [
        "# Opens tensorboard in notebook. Adjust the path to your CHECKPOINT_PATH! Feel free to change \"ResNet\" to \"ResNetPreAct\"\n",
        "%tensorboard --logdir ../saved_models/tutorial4/tensorboards/ResNet/"
      ]
    },
    {
      "cell_type": "markdown",
      "metadata": {
        "id": "QlVDvA5tAxwM"
      },
      "source": [
        "<center width=\"100%\"><img src=\"https://raw.githubusercontent.com/msgtsuzuki/saved_models/main/tutorial4/tensorboard_screenshot_ResNet.png\" width=\"1000px\"></center>\n",
        "\n",
        "Feel free to explore the TensorBoard, including the computation graph. In general, it can be observed that with SGD, ResNet has a higher training loss than GoogleNet in the first stage of training. After reducing the learning rate, however, the model achieves even higher validation accuracies. The precise scores at the end of the notebook are compared."
      ]
    },
    {
      "cell_type": "markdown",
      "metadata": {
        "id": "34fDWJ6_AxwM"
      },
      "source": [
        "## DenseNet\n",
        "\n",
        "[DenseNet](https://arxiv.org/abs/1608.06993) is another architecture to enable very deep neural networks and takes a slightly different perspective on residual connections. Instead of modeling the difference between layers, DenseNet considers residual connections as a possible way to reuse features across layers, removing any need to learn redundant feature maps. When going deeper into the network, the model learns abstract features to recognize patterns. However, some complex patterns consist of a combination of abstract features (e.g. hand, face, etc.) and low-level features (e.g., edges, basic color, etc.). To find these low-level features in the deep layers, standard CNNs have to learn to copy such feature maps, which wastes a lot of parameter complexity. DenseNet provides an efficient way of reusing features by having each convolution depend on all previous input features, but adds only a small amount of filters to it. See [Figure](https://arxiv.org/abs/1608.06993) for an illustration:\n",
        "\n",
        "<center width=\"100%\"><img src=\"https://raw.githubusercontent.com/msgtsuzuki/saved_models/main/tutorial4/densenet_block.svg\" style=\"display: block; margin-left: auto; margin-right: auto;\" width=\"500px\"/></center>\n",
        "\n",
        "The last layer, called the transition layer, is responsible for reducing the dimensionality of the feature maps in height, width, and channel size. Although those technically break the identity backpropagation, there are only a few in a network so that it does not affect the gradient flow much.\n",
        "\n",
        "The implementation of layers in DenseNet is split into three parts: a `DenseLayer`, a `DenseBlock`, and a `TransitionLayer`. The module `DenseLayer` implements a single layer inside a dense block. It applies a $1 \\times 1$ convolution for dimensionality reduction with a subsequent $3 \\times 3$ convolution. The output channels are concatenated into the originals and returned. Note that Batch Normalization is applied as the first layer of each block, allowing slightly different activations for the same features to different layers, depending on what is needed. In general, it can be implemented as follows."
      ]
    },
    {
      "cell_type": "code",
      "execution_count": null,
      "metadata": {
        "id": "HTMeDeC7AxwM"
      },
      "outputs": [],
      "source": [
        "class DenseLayer(nn.Module):\n",
        "\n",
        "    def __init__(self, c_in, bn_size, growth_rate, act_fn):\n",
        "        \"\"\"\n",
        "        Inputs:\n",
        "            c_in - Number of input channels\n",
        "            bn_size - Bottleneck size (factor of growth rate) for the output of the 1x1 convolution. Typically between 2 and 4.\n",
        "            growth_rate - Number of output channels of the 3x3 convolution\n",
        "            act_fn - Activation class constructor (e.g. nn.ReLU)\n",
        "        \"\"\"\n",
        "        super().__init__()\n",
        "        self.net = nn.Sequential(\n",
        "            nn.BatchNorm2d(c_in),\n",
        "            act_fn(),\n",
        "            nn.Conv2d(c_in, bn_size * growth_rate, kernel_size=1, bias=False),\n",
        "            nn.BatchNorm2d(bn_size * growth_rate),\n",
        "            act_fn(),\n",
        "            nn.Conv2d(bn_size * growth_rate, growth_rate, kernel_size=3, padding=1, bias=False)\n",
        "        )\n",
        "\n",
        "    def forward(self, x):\n",
        "        out = self.net(x)\n",
        "        out = torch.cat([out, x], dim=1)\n",
        "        return out"
      ]
    },
    {
      "cell_type": "markdown",
      "metadata": {
        "id": "JgHBtdc0AxwM"
      },
      "source": [
        "The module `DenseBlock` summarizes multiple dense layers applied in sequence. Each dense layer takes as input the original input concatenated with all previous layers' feature maps:"
      ]
    },
    {
      "cell_type": "code",
      "execution_count": null,
      "metadata": {
        "id": "2MXUqeqNAxwM"
      },
      "outputs": [],
      "source": [
        "class DenseBlock(nn.Module):\n",
        "\n",
        "    def __init__(self, c_in, num_layers, bn_size, growth_rate, act_fn):\n",
        "        \"\"\"\n",
        "        Inputs:\n",
        "            c_in - Number of input channels\n",
        "            num_layers - Number of dense layers to apply in the block\n",
        "            bn_size - Bottleneck size to use in the dense layers\n",
        "            growth_rate - Growth rate to use in the dense layers\n",
        "            act_fn - Activation function to use in the dense layers\n",
        "        \"\"\"\n",
        "        super().__init__()\n",
        "        layers = []\n",
        "        for layer_idx in range(num_layers):\n",
        "            layers.append(\n",
        "                DenseLayer(c_in=c_in + layer_idx * growth_rate, # Input channels are original plus the feature maps from previous layers\n",
        "                           bn_size=bn_size,\n",
        "                           growth_rate=growth_rate,\n",
        "                           act_fn=act_fn)\n",
        "            )\n",
        "        self.block = nn.Sequential(*layers)\n",
        "\n",
        "    def forward(self, x):\n",
        "        out = self.block(x)\n",
        "        return out"
      ]
    },
    {
      "cell_type": "markdown",
      "metadata": {
        "id": "oSVmhCnNAxwM"
      },
      "source": [
        "Finally, the `TransitionLayer` takes as input the final output of a dense block and reduces its channel dimensionality using a $1 \\times 1$ convolution. To reduce the height and width dimension, a slightly different approach is taken than in ResNet, applying average pooling with kernel size 2 and stride 2. This is because there is no additional connection to the output that would consider the entire $2 \\times 2$ patch instead of a single value. Besides, it is more parameter-efficient than using a $3 \\times 3$ convolution with stride 2. Thus, the layer is implemented as follows."
      ]
    },
    {
      "cell_type": "code",
      "execution_count": null,
      "metadata": {
        "id": "WduuNQVzAxwM"
      },
      "outputs": [],
      "source": [
        "class TransitionLayer(nn.Module):\n",
        "\n",
        "    def __init__(self, c_in, c_out, act_fn):\n",
        "        super().__init__()\n",
        "        self.transition = nn.Sequential(\n",
        "            nn.BatchNorm2d(c_in),\n",
        "            act_fn(),\n",
        "            nn.Conv2d(c_in, c_out, kernel_size=1, bias=False),\n",
        "            nn.AvgPool2d(kernel_size=2, stride=2) # Average the output for each 2x2 pixel group\n",
        "        )\n",
        "\n",
        "    def forward(self, x):\n",
        "        return self.transition(x)"
      ]
    },
    {
      "cell_type": "markdown",
      "metadata": {
        "id": "watjG749AxwM"
      },
      "source": [
        "Now, everything can be put together to create DenseNet. To specify the number of layers, a similar notation as in ResNets is used, passing on a list of ints representing the number of layers per block. After each dense block except the last one, a transition layer is applied to reduce the dimensionality by 2."
      ]
    },
    {
      "cell_type": "code",
      "execution_count": null,
      "metadata": {
        "id": "Ip4SfZE3AxwM"
      },
      "outputs": [],
      "source": [
        "class DenseNet(nn.Module):\n",
        "\n",
        "    def __init__(self, num_classes=10, num_layers=[6,6,6,6], bn_size=2, growth_rate=16, act_fn_name=\"relu\", **kwargs):\n",
        "        super().__init__()\n",
        "        self.hparams = SimpleNamespace(num_classes=num_classes,\n",
        "                                       num_layers=num_layers,\n",
        "                                       bn_size=bn_size,\n",
        "                                       growth_rate=growth_rate,\n",
        "                                       act_fn_name=act_fn_name,\n",
        "                                       act_fn=act_fn_by_name[act_fn_name])\n",
        "        self._create_network()\n",
        "        self._init_params()\n",
        "\n",
        "    def _create_network(self):\n",
        "        c_hidden = self.hparams.growth_rate * self.hparams.bn_size # The start number of hidden channels\n",
        "\n",
        "        # A first convolution on the original image to scale up the channel size\n",
        "        self.input_net = nn.Sequential(\n",
        "            nn.Conv2d(3, c_hidden, kernel_size=3, padding=1) # No batch norm or activation function as done inside the Dense layers\n",
        "        )\n",
        "\n",
        "        # Creating the dense blocks, eventually including transition layers\n",
        "        blocks = []\n",
        "        for block_idx, num_layers in enumerate(self.hparams.num_layers):\n",
        "            blocks.append(\n",
        "                DenseBlock(c_in=c_hidden,\n",
        "                           num_layers=num_layers,\n",
        "                           bn_size=self.hparams.bn_size,\n",
        "                           growth_rate=self.hparams.growth_rate,\n",
        "                           act_fn=self.hparams.act_fn)\n",
        "            )\n",
        "            c_hidden = c_hidden + num_layers * self.hparams.growth_rate # Overall output of the dense block\n",
        "            if block_idx < len(self.hparams.num_layers)-1: # Don't apply transition layer on last block\n",
        "                blocks.append(\n",
        "                    TransitionLayer(c_in=c_hidden,\n",
        "                                    c_out=c_hidden // 2,\n",
        "                                    act_fn=self.hparams.act_fn))\n",
        "                c_hidden = c_hidden // 2\n",
        "\n",
        "        self.blocks = nn.Sequential(*blocks)\n",
        "\n",
        "        # Mapping to classification output\n",
        "        self.output_net = nn.Sequential(\n",
        "            nn.BatchNorm2d(c_hidden), # The features have not passed a non-linearity until here.\n",
        "            self.hparams.act_fn(),\n",
        "            nn.AdaptiveAvgPool2d((1,1)),\n",
        "            nn.Flatten(),\n",
        "            nn.Linear(c_hidden, self.hparams.num_classes)\n",
        "        )\n",
        "\n",
        "    def _init_params(self):\n",
        "        # Based on our discussion in Tutorial 4, we should initialize the convolutions according to the activation function\n",
        "        for m in self.modules():\n",
        "            if isinstance(m, nn.Conv2d):\n",
        "                nn.init.kaiming_normal_(m.weight, nonlinearity=self.hparams.act_fn_name)\n",
        "            elif isinstance(m, nn.BatchNorm2d):\n",
        "                nn.init.constant_(m.weight, 1)\n",
        "                nn.init.constant_(m.bias, 0)\n",
        "\n",
        "    def forward(self, x):\n",
        "        x = self.input_net(x)\n",
        "        x = self.blocks(x)\n",
        "        x = self.output_net(x)\n",
        "        return x"
      ]
    },
    {
      "cell_type": "markdown",
      "metadata": {
        "id": "wQC-Lqh2AxwM"
      },
      "source": [
        "The DenseNet is also added to the model dictionary:"
      ]
    },
    {
      "cell_type": "code",
      "execution_count": null,
      "metadata": {
        "id": "2sR1EuJBAxwM"
      },
      "outputs": [],
      "source": [
        "model_dict[\"DenseNet\"] = DenseNet"
      ]
    },
    {
      "cell_type": "markdown",
      "metadata": {
        "id": "7J7KNooxAxwM"
      },
      "source": [
        "Lastly, the network can be trained. In contrast to ResNet, DenseNet does not show any issues with Adam, and hence it is trained with this optimizer. The other hyperparameters are chosen to result in a network with a parameter size similar to that of ResNet and GoogleNet. Commonly, when designing very deep networks, DenseNet is more parameter-efficient than ResNet, while achieving a similar or even better performance."
      ]
    },
    {
      "cell_type": "code",
      "execution_count": null,
      "metadata": {
        "id": "tJN4_-kJAxwN"
      },
      "outputs": [],
      "source": [
        "densenet_model, densenet_results = train_model(model_name=\"DenseNet\",\n",
        "                                               model_hparams={\"num_classes\": 10,\n",
        "                                                              \"num_layers\": [6,6,6,6],\n",
        "                                                              \"bn_size\": 2,\n",
        "                                                              \"growth_rate\": 16,\n",
        "                                                              \"act_fn_name\": \"relu\"},\n",
        "                                               optimizer_name=\"Adam\",\n",
        "                                               optimizer_hparams={\"lr\": 1e-3,\n",
        "                                                                  \"weight_decay\": 1e-4})"
      ]
    },
    {
      "cell_type": "markdown",
      "metadata": {
        "id": "fcbCa2pxAxwN"
      },
      "source": [
        "### Tensorboard log\n",
        "\n",
        "Finally, another TensorBoard for DenseNet training is available. It can be explored in the following:"
      ]
    },
    {
      "cell_type": "code",
      "execution_count": null,
      "metadata": {
        "scrolled": false,
        "id": "PKQWDJe2AxwN"
      },
      "outputs": [],
      "source": [
        "# Opens tensorboard in notebook. Adjust the path to your CHECKPOINT_PATH!\n",
        "%tensorboard --logdir ../saved_models/tutorial4/tensorboards/DenseNet/"
      ]
    },
    {
      "cell_type": "markdown",
      "metadata": {
        "id": "mo-IdtD0AxwN"
      },
      "source": [
        "<center width=\"100%\"><img src=\"https://raw.githubusercontent.com/msgtsuzuki/saved_models/main/tutorial4/tensorboard_screenshot_DenseNet.png\" width=\"1000px\"></center>\n",
        "\n",
        "The overall course of the validation accuracy and training loss resemble that of GoogleNet, which is also related to the training of the network with Adam. Feel free to explore the training metrics."
      ]
    },
    {
      "cell_type": "markdown",
      "metadata": {
        "id": "qvWJqN11AxwN"
      },
      "source": [
        "## Conclusion and Comparison\n",
        "\n",
        "After discussing each model separately and training all of them, the results can finally be compared. First, let us organize the results of all models in a table:"
      ]
    },
    {
      "cell_type": "code",
      "execution_count": null,
      "metadata": {
        "id": "tLLUZ8ZQAxwN"
      },
      "outputs": [],
      "source": [
        "%%html\n",
        "<!-- Some HTML code to increase font size in the following table -->\n",
        "<style>\n",
        "th {font-size: 120%;}\n",
        "td {font-size: 120%;}\n",
        "</style>"
      ]
    },
    {
      "cell_type": "code",
      "execution_count": null,
      "metadata": {
        "id": "pXJJmqBJAxwN"
      },
      "outputs": [],
      "source": [
        "import tabulate\n",
        "from IPython.display import display, HTML\n",
        "all_models = [\n",
        "    (\"GoogleNet\", googlenet_results, googlenet_model),\n",
        "    (\"ResNet\", resnet_results, resnet_model),\n",
        "    (\"ResNetPreAct\", resnetpreact_results, resnetpreact_model),\n",
        "    (\"DenseNet\", densenet_results, densenet_model)\n",
        "]\n",
        "table = [[model_name,\n",
        "          f\"{100.0*model_results['val']:4.2f}%\",\n",
        "          f\"{100.0*model_results['test']:4.2f}%\",\n",
        "          \"{:,}\".format(sum([np.prod(p.shape) for p in model.parameters()]))]\n",
        "         for model_name, model_results, model in all_models]\n",
        "display(HTML(tabulate.tabulate(table, tablefmt='html', headers=[\"Model\", \"Val Accuracy\", \"Test Accuracy\", \"Num Parameters\"])))"
      ]
    },
    {
      "cell_type": "markdown",
      "metadata": {
        "id": "0lQnM3MMAxwN"
      },
      "source": [
        "All models perform reasonably well. Simple models achieve considerably lower performance, attributed to the architecture design choice. GoogleNet obtains the lowest performance in the validation and test set, although it is very close to DenseNet. A proper hyperparameter search over all the channel sizes in GoogleNet would likely improve the accuracy of the model to a similar level, but this is also expensive given the large number of hyperparameters. ResNet outperforms both DenseNet and GoogleNet by more than 1\\% on the validation set, while there is a minor difference between both versions, original and preactivation. For shallow networks, the place of the activation function does not seem to be crucial, although papers have reported the contrary for [very deep networks](https://arxiv.org/abs/1603.05027).\n",
        "\n",
        "In general, it can be concluded that `ResNet` represents a straightforward yet effective architecture. Applying the models to more complex tasks with larger images and additional layers within the networks is likely to reveal a more pronounced disparity between `GoogleNet` and skip-connection architectures like `ResNet` and `DenseNet`. For example, a comparison with deeper models on `CIFAR10` can, for ex[ample, be [found](https://github.com/kuangliu/pytorch-cifar). In particular, `DenseNet` surpasses the original `ResNet` in their setup but narrowly trails behind Pre-Activation `ResNet`. The optimal model, a [dual-path network](https://arxiv.org/abs/1707.01629), merges `ResNet` and `DenseNet`, illustrating that both architectures bring distinct benefits."
      ]
    },
    {
      "cell_type": "markdown",
      "metadata": {
        "id": "k3HbnpcoAxwN"
      },
      "source": [
        "### Which model should be chosen for a given task?\n",
        "\n",
        "Four different models have been examined. Thus, the question arises: which should be selected for a new task? Generally, starting with `ResNet` is advisable, given its superior performance on the `CIFAR` dataset and its straightforward implementation. Moreover, for the number of parameters selected herein, `ResNet` operates the quickest, as `DenseNet` and `GoogleNet` incorporate many more layers, which are applied sequentially in a basic implementation. However, for particularly challenging tasks, such as semantic segmentation on HD images, more intricate variants of `ResNet` and `DenseNet` are advocated."
      ]
    }
  ],
  "metadata": {
    "kernelspec": {
      "display_name": "Python 3",
      "name": "python3"
    },
    "language_info": {
      "codemirror_mode": {
        "name": "ipython",
        "version": 3
      },
      "file_extension": ".py",
      "mimetype": "text/x-python",
      "name": "python",
      "nbconvert_exporter": "python",
      "pygments_lexer": "ipython3",
      "version": "3.7.9"
    },
    "colab": {
      "provenance": [],
      "gpuType": "T4"
    },
    "accelerator": "GPU",
    "widgets": {
      "application/vnd.jupyter.widget-state+json": {}
    }
  },
  "nbformat": 4,
  "nbformat_minor": 0
}