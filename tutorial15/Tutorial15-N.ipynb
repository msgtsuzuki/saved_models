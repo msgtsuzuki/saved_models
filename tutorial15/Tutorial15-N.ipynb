{
  "cells": [
    {
      "cell_type": "markdown",
      "metadata": {
        "id": "bY9ZvLudnMmF"
      },
      "source": [
        "**Filled notebook:**\n",
        "[![View on Github](https://img.shields.io/static/v1.svg?logo=github&label=Repo&message=View%20On%20Github&color=lightgrey)](https://github.com/msgtsuzuki/saved_models/blob/main/tutorial15/Tutorial15-N.ipynb)\n",
        "[![Open In Collab](https://colab.research.google.com/assets/colab-badge.svg)](https://colab.research.google.com/github/msgtsuzuki/saved_models/blob/main/tutorial15/Tutorial15-N.ipynb)\n"
      ]
    },
    {
      "cell_type": "markdown",
      "metadata": {
        "id": "nlNYP-MAnMmI"
      },
      "source": [
        "# Tutorial 15: CRL - Causal Identifiability from Temporal Intervened Sequences\n",
        "Understanding the latent causal factors of a dynamical system from visual observations is a crucial step towards agents reasoning in complex environments. In this tutorial, we will have a closer look at CITRIS ([Lippe et al., 2022a](https://arxiv.org/abs/2202.03169)), a variational autoencoder framework that learns causal representations from temporal sequences of images in which underlying causal factors have possibly been intervened upon. As shown in the figure below, CITRIS utilizes both temporal consistency and interventions (orange) in order to identify causal variables (blue) from an image sequence. In contrast to previous work in causal representation learning, CITRIS considers causal variables as potentially multidimensional vectors. Furthermore, by introducing a normalizing flow, CITRIS can be easily extended to leverage and disentangle representations obtained by already pretrained autoencoders.\n",
        "\n",
        "<center width=\"100%\"><img src=\"https://raw.githubusercontent.com/msgtsuzuki/saved_models/main/tutorial15/CITRIS-setup.png\" width=\"70%\"></center>\n",
        "\n",
        "In the remainder of this tutorial, we first provide a brief introduction to the recently emerging field of causal representation learning (CRL). Then, we will look into the inner workings of CITRIS in greater detail, before performing a number of experiments to demonstrate its capabilities."
      ]
    },
    {
      "cell_type": "markdown",
      "metadata": {
        "id": "eyS0dlU8nMmJ"
      },
      "source": [
        "Let’s start with importing our standard libraries here (If you are running in Windows, modify the 'CHECKPOINT_PATH' to saved_models\\tutorial15)."
      ]
    },
    {
      "cell_type": "code",
      "execution_count": 97,
      "metadata": {
        "id": "dPZTV-BRnMmJ",
        "outputId": "fe968601-6fb6-4aaf-8749-fa03daef25dd"
      },
      "outputs": [
        {
          "name": "stderr",
          "output_type": "stream",
          "text": [
            "Seed set to 42\n"
          ]
        },
        {
          "name": "stdout",
          "output_type": "stream",
          "text": [
            "Device: cpu\n"
          ]
        },
        {
          "data": {
            "text/plain": [
              "<Figure size 1000x500 with 0 Axes>"
            ]
          },
          "metadata": {},
          "output_type": "display_data"
        }
      ],
      "source": [
        "## Standard libraries\n",
        "import os\n",
        "import sys\n",
        "import importlib\n",
        "import numpy as np\n",
        "\n",
        "## Imports for plotting\n",
        "import matplotlib.pyplot as plt\n",
        "import matplotlib_inline\n",
        "plt.set_cmap('cividis')\n",
        "%matplotlib inline\n",
        "from IPython.display import set_matplotlib_formats\n",
        "matplotlib_inline.backend_inline.set_matplotlib_formats('svg', 'pdf') # For export\n",
        "import matplotlib\n",
        "matplotlib.rcParams['lines.linewidth'] = 2.0\n",
        "import seaborn as sns\n",
        "sns.set()\n",
        "import ipywidgets as widgets\n",
        "\n",
        "## tqdm for loading bars\n",
        "from tqdm.notebook import tqdm\n",
        "\n",
        "## PyTorch\n",
        "import torch\n",
        "import torch.nn as nn\n",
        "import torch.nn.functional as F\n",
        "\n",
        "# PyTorch Lightning\n",
        "try:\n",
        "    import pytorch_lightning as pl\n",
        "except ModuleNotFoundError: # Google Colab does not have PyTorch Lightning installed by default. Hence, we do it here if necessary\n",
        "    !pip install --quiet pytorch-lightning>=1.4\n",
        "    import pytorch_lightning as pl\n",
        "\n",
        "try:\n",
        "    from scipy.stats import norm\n",
        "except ModuleNotFoundError: # The DL2022 environment does not have Scipy installed by default. Hence, we do it here if necessary.\n",
        "    !pip install --quiet scipy\n",
        "    from scipy.stats import norm\n",
        "\n",
        "try:\n",
        "    import networkx as nx\n",
        "except ModuleNotFoundError: # The DL2022 environment does not have NetworkX installed by default. Hence, we do it here if necessary.\n",
        "    !pip install --quiet networkx\n",
        "    import networkx as nx\n",
        "\n",
        "\n",
        "DATASET_PATH = \"data\"\n",
        "CHECKPOINT_PATH = \"saved_models/tutorial15\"\n",
        "\n",
        "# Setting the seed\n",
        "pl.seed_everything(42)\n",
        "\n",
        "# Ensure that all operations are deterministic on GPU (if used) for reproducibility\n",
        "torch.backends.cudnn.deterministic = True\n",
        "torch.backends.cudnn.benchmark = False\n",
        "\n",
        "device = torch.device(\"cuda:0\") if torch.cuda.is_available() else torch.device(\"cpu\")\n",
        "print(\"Device:\", device)\n",
        "\n",
        "# Import a minimized version of the code implementation of CITRIS\n",
        "if not os.path.exists('CITRIS_DL2'):\n",
        "    !git clone https://github.com/msgtsuzuki/CITRIS_DL2\n",
        "\n",
        "sys.path.append('CITRIS_DL2')\n",
        "module_name = 'CITRIS_DL2.models.citris_nf'\n",
        "importlib.invalidate_caches()\n",
        "CITRISNF = importlib.import_module(module_name).CITRISNF\n",
        "CITRISNF.device = device"
      ]
    },
    {
      "cell_type": "markdown",
      "metadata": {
        "id": "oMTloNkVnMmK"
      },
      "source": [
        "We also have a few pre-trained models, which we download below."
      ]
    },
    {
      "cell_type": "code",
      "execution_count": 98,
      "metadata": {
        "id": "UcBF_pXOnMmK"
      },
      "outputs": [],
      "source": [
        "import urllib.request\n",
        "from urllib.error import HTTPError\n",
        "\n",
        "base_url = \"https://raw.githubusercontent.com/msgtsuzuki/saved_models/main/tutorial15/\"\n",
        "pretrained_files = ['ae.ckpt', 'citris.ckpt']\n",
        "os.makedirs(CHECKPOINT_PATH, exist_ok=True)\n",
        "\n",
        "# For each file, check whether it already exists. If not, try downloading it.\n",
        "for file_name in pretrained_files:\n",
        "    file_path = os.path.join(CHECKPOINT_PATH, file_name)\n",
        "    if \"/\" in file_name:\n",
        "        os.makedirs(file_path.rsplit(\"/\", 1)[0], exist_ok=True)\n",
        "    if not os.path.isfile(file_path):\n",
        "        file_url = base_url + file_name\n",
        "        print(f\"Downloading {file_url}...\")\n",
        "        try:\n",
        "            urllib.request.urlretrieve(file_url, file_path)\n",
        "        except HTTPError as e:\n",
        "            print(\"Something went wrong. Please try later again, or contact the author with the full output including the following error:\\n\", e)"
      ]
    },
    {
      "cell_type": "markdown",
      "metadata": {
        "id": "1ztxuZbanMmK"
      },
      "source": [
        "## Causal Representation Learning"
      ]
    },
    {
      "cell_type": "markdown",
      "metadata": {
        "id": "uvTXls0dnMmL"
      },
      "source": [
        "Over the last decades, machine learning has become one of the most prominent approaches in artificial intelligence. One major advantage of machine learning approaches over earlier AI paradigms is their ability to automatically learn useful features from high-dimensional observations. However, in doing so, machine learning methods generally only leverage statistical information in data, and not the causal process that underlies how that data was generated in the first place. Consequently, they often struggle to perform tasks that involve out-of-domain generalization and planning.\n",
        "\n",
        "Causal inference, on the other hand, goes beyond the statistical description of data, and instead aims to reason about the effect of *interventions* in the system underlying the data. In order to perform such causal reasoning, it is required that the causal variables and their relations are provided beforehand. However, many real-world observations, such as objects in images, are not structured into such variables to begin with.\n",
        "\n",
        "Thus, an emerging field of research is *causal representation learning* (CRL), in which the task is to identify such causal variables including their relations from low-level data such as images or videos ([Schölkopf et al., 2021](https://arxiv.org/abs/2102.11107)). The central idea here is that a low-level observation $X$ is merely a view on the state of a causal system $C_1, \\ldots, C_n$:\n",
        "\n",
        "$$\n",
        "X = h(C_1, \\ldots, C_n),\n",
        "$$\n",
        "\n",
        "where $h: \\mathcal{C} \\rightarrow \\mathcal{X}$ is some non-linear function that maps from the causal system's state space to the observational space. In CRL, we are then interested in approximating the inverse of $G$ (e.g. with a neural network) in order to map a low-level observation to high-level causal variables that are useful  for a set of downstream tasks of interest, as shown in the figure below.\n",
        "<div>\n",
        "\n",
        "<center width=\"100%\"><img src=\"https://raw.githubusercontent.com/msgtsuzuki/saved_models/main/tutorial15/crl-idea.png\" width=\"70%\"></center>"
      ]
    },
    {
      "cell_type": "markdown",
      "metadata": {
        "id": "zkMQortqnMmL"
      },
      "source": [
        "## Causal Setting: TempoRal Intervened Sequences (TRIS)"
      ]
    },
    {
      "cell_type": "markdown",
      "metadata": {
        "id": "_OKZwn2PnMmL"
      },
      "source": [
        "The setting in which CITRIS aims to identify causal variables is TempoRal Intervented Sequences (TRIS). In TRIS, we assume that the underlying latent causal process is a dynamic Bayesian network (DBN) over a set of $K$ causal factors $(C_1, C_2, \\ldots, C_K)$. In the corresponding causal graph $G = (V, E)$, each node $i \\in V$ is associated with the causal factor $C_i$, which can be scalar or vector-valued, and each edge $(i, j) \\in E$ represents a causal relation from $C_i$ to $C_j$: $C_i \\to C_j$.\n",
        "\n",
        "TRIS further assumes that each causal factor $C_i$ is instantiated at each time step $t$, denoted $C_i^t$, and its causal parents can only be causal factors at time $t - 1$. In other words, we assume that DBN resembles a temporal latent causal process with $K$ causal factors $(C_1^t, C_2^t, \\ldots, C_K^t)_{t=1}^T$ that change over time according to the temporal dynamics governed by the DBM. Crucially, in TRIS, some causal factors might have been intervened upon at each time step, and we have access to the corresponding intervention targets (but not the intervention values). We denote these intervention targets by the binary vector $I^t \\in \\{0, 1\\}^K$, whose $i$-th component is 1 if and only if the causal factor $C_i$ has been intervened upon at time $t$ (i.e., $C_i^t$ has been intervened upon).\n",
        "\n",
        "It is important to note that we never observe the causal factors $(C^t)_{t=1}^T$ in TRIS, and instead only have access to a temporal sequence of high-level observations $(X^t)_{t=1}^T$ along with the corresponding intervention targets $(I^t)_{t=2}^T$. Each high-level observation represents a noisy and entangled view of all causal factors. Formally, $X^t = h(C_1^t, C_2^t, \\ldots, C_K^t, E_o^t)$, where $E_o^t$ represents noise, and $h: \\mathcal{C} \\times \\mathcal{E} \\rightarrow \\mathcal{X}$ is a function from the causal factor space $\\mathcal{C}$ and the space of the noise variables $\\mathcal{E}$ to the observation space $\\mathcal{X}$. The overall set-up of TRIS is illustrated below, with observed variables shown in gray and latent variables in white.\n",
        "\n",
        "<center width=\"100%\"><img src=\"https://raw.githubusercontent.com/msgtsuzuki/saved_models/main/tutorial15/TRIS.png\" width=\"60%\"></center>\n",
        "\n",
        "It is noteworthy that the set-up of TRIS is general enough to be able to describe many dynamical systems. In fact, CITRIS (and iCITRIS ([Lippe et al., 2022b](https://arxiv.org/abs/2206.06169)), which we do not discuss in this notebook) have been successful in identifying the causal structure in settings that range from 3D rendered objects to pinball and pong.\n",
        "\n",
        "|     |     |     |     |     |\n",
        "| --- | --- | --- | --- | --- |\n",
        "| <img src=\"https://raw.githubusercontent.com/msgtsuzuki/saved_models/main/tutorial15/ball_in_boxes.gif\" width=\"200px\"> | <img src=\"https://raw.githubusercontent.com/msgtsuzuki/saved_models/main/tutorial15/causal-3dIdent.gif\" width=\"200px\"> | <img src=\"https://raw.githubusercontent.com/msgtsuzuki/saved_models/main/tutorial15/interventional_pong2.gif\" width=\"200px\"> | <img src=\"https://raw.githubusercontent.com/msgtsuzuki/saved_models/main/tutorial15/voronoi.gif\" width=\"200px\"> | <img src=\"https://raw.githubusercontent.com/msgtsuzuki/saved_models/main/tutorial15/pinball2.gif\" width=\"200px\"> |\n",
        "\n",
        "In the remainder of this tutorial, we will focus on the Causal3DIdent dataset, which we will describe in further detail next."
      ]
    },
    {
      "cell_type": "markdown",
      "metadata": {
        "id": "UEJ_UBAEnMmL"
      },
      "source": [
        "### Causal3DIdent"
      ]
    },
    {
      "cell_type": "markdown",
      "metadata": {
        "id": "uB2ar2z_nMmL"
      },
      "source": [
        "Now we will look into the Causal3DIdent dataset. It contains a sequence of images with the intervention targets at each time-step. In the below cell, we will load a small sample of the dataset."
      ]
    },
    {
      "cell_type": "code",
      "execution_count": 99,
      "metadata": {
        "id": "FeLqrzNSnMmL",
        "outputId": "1e896830-c031-445b-97ee-8409f6a72f92"
      },
      "outputs": [
        {
          "name": "stdout",
          "output_type": "stream",
          "text": [
            "dict_keys(['images', 'interventions'])\n"
          ]
        }
      ],
      "source": [
        "causal3d_dataset = dict(np.load(os.path.join('CITRIS_DL2', 'data', 'causal3d.npz')))\n",
        "print(causal3d_dataset.keys())"
      ]
    },
    {
      "cell_type": "markdown",
      "metadata": {
        "id": "2zmr7xcxnMmM"
      },
      "source": [
        "The intervention targets declare which causal variables were intervened upon. In Causal3DIdent, we consider the following 7 causal variables (with 11 causal dimensions in total):\n",
        "\n",
        "| Variable                  | Values                                            |\n",
        "| ------------------------- | ------------------------------------------------- |\n",
        "| Object position (pos_o)   | $$[x, y, z] \\in [-2, 2]^3$$                         |\n",
        "| Object rotation (rot_o)   | $$[\\alpha,\\beta] \\in [0,2\\pi)^2$$                   |\n",
        "| Spotlight rotation (rot_s)| $$\\theta \\in [0,2\\pi)$$                             |\n",
        "| Object hue (hue_o)        | $$h_\\text{obj} \\in [0,2\\pi)$$                       |\n",
        "| Spotlight hue  (hue_s)    | $$h_\\text{light} \\in [0,2\\pi)$$                     |\n",
        "| Background hue (hue_b)    | $$h_\\text{bg} \\in [0,2\\pi)$$                        |\n",
        "| Object shape  (obj_s)     | $$s \\in \\{\\text{teapot, cow, head, horse, armadillo, dragon, hare}\\}$$  |\n",
        "\n",
        "Note that in our experiments, we will use a variant of Causal3DIdent that only contains the teapot as a possbile object shape. The relations among these causal variables are shown in the figure below.\n",
        "\n",
        "<center width=\"100%\"><img src=\"https://raw.githubusercontent.com/msgtsuzuki/saved_models/main/tutorial15/Causa3DIdentGraph.png\" width=\"50%\"></center>"
      ]
    },
    {
      "cell_type": "markdown",
      "metadata": {
        "id": "h_uccHQBnMmM"
      },
      "source": [
        "Below you can see what causal variables were intervened at each time-step. The $i$-th intervention targets imply that the causal variables of the $(i-1)$-th image were intervened, resulting in the $i$-th image."
      ]
    },
    {
      "cell_type": "code",
      "execution_count": 100,
      "metadata": {
        "id": "l7CMQs7mnMmM",
        "outputId": "d3199275-ea4f-4a5c-ae64-d0822bc42853"
      },
      "outputs": [
        {
          "name": "stdout",
          "output_type": "stream",
          "text": [
            "[[0 0 0 0 0 0 0 0 0 0 0 0]\n",
            " [0 0 0 0 1 0 1 0 1 0 0 0]\n",
            " [0 0 0 1 1 0 0 0 0 0 0 0]\n",
            " [0 0 0 0 0 0 0 0 1 0 0 0]]\n"
          ]
        }
      ],
      "source": [
        "time_steps = 4\n",
        "print(causal3d_dataset['interventions'][0:time_steps])"
      ]
    },
    {
      "cell_type": "markdown",
      "metadata": {
        "id": "43oqh5VSnMmM"
      },
      "source": [
        "Note that each interention target has 12 dimensions instead of 11. This is because the last dimension is the object material, which is not modeled by CITRIS."
      ]
    },
    {
      "cell_type": "markdown",
      "metadata": {
        "id": "cigUJH8znMmM"
      },
      "source": [
        "In the next cell, we will plot a sequence of images. Note how the intervention targets, printed above, affect the object and the surrounding environment."
      ]
    },
    {
      "cell_type": "code",
      "execution_count": 101,
      "metadata": {
        "id": "CI2_UtxQnMmM",
        "outputId": "71769f95-17f9-4c48-bebe-50e7bcf3ddb8"
      },
      "outputs": [
        {
          "data": {
            "application/pdf": "[encoded data removed]",
            "image/svg+xml": [
              "<?xml version=\"1.0\" encoding=\"utf-8\" standalone=\"no\"?>\n",
              "<!DOCTYPE svg PUBLIC \"-//W3C//DTD SVG 1.1//EN\"\n",
              "  \"http://www.w3.org/Graphics/SVG/1.1/DTD/svg11.dtd\">\n",
              "<svg xmlns:xlink=\"http://www.w3.org/1999/xlink\" width=\"572.4pt\" height=\"150.678723pt\" viewBox=\"0 0 572.4 150.678723\" xmlns=\"http://www.w3.org/2000/svg\" version=\"1.1\">\n",
              " <metadata>\n",
              "  <rdf:RDF xmlns:dc=\"http://purl.org/dc/elements/1.1/\" xmlns:cc=\"http://creativecommons.org/ns#\" xmlns:rdf=\"http://www.w3.org/1999/02/22-rdf-syntax-ns#\">\n",
              "   <cc:Work>\n",
              "    <dc:type rdf:resource=\"http://purl.org/dc/dcmitype/StillImage\"/>\n",
              "    <dc:date>2024-05-01T19:22:32.522961</dc:date>\n",
              "    <dc:format>image/svg+xml</dc:format>\n",
              "    <dc:creator>\n",
              "     <cc:Agent>\n",
              "      <dc:title>Matplotlib v3.8.3, https://matplotlib.org/</dc:title>\n",
              "     </cc:Agent>\n",
              "    </dc:creator>\n",
              "   </cc:Work>\n",
              "  </rdf:RDF>\n",
              " </metadata>\n",
              " <defs>\n",
              "  <style type=\"text/css\">*{stroke-linejoin: round; stroke-linecap: butt}</style>\n",
              " </defs>\n",
              " <g id=\"figure_1\">\n",
              "  <g id=\"patch_1\">\n",
              "   <path d=\"M 0 150.678723 \n",
              "L 572.4 150.678723 \n",
              "L 572.4 0 \n",
              "L 0 0 \n",
              "z\n",
              "\" style=\"fill: #ffffff\"/>\n",
              "  </g>\n",
              "  <g id=\"axes_1\">\n",
              "   <g id=\"patch_2\">\n",
              "    <path d=\"M 7.2 128.504348 \n",
              "L 128.504348 128.504348 \n",
              "L 128.504348 7.2 \n",
              "L 7.2 7.2 \n",
              "z\n",
              "\" style=\"fill: #eaeaf2\"/>\n",
              "   </g>\n",
              "   <g clip-path=\"url(#p65ca37031b)\">\n",
              "    <image xlink:href=\"data:image/png;base64,\n",
              "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\" id=\"image393460409b\" transform=\"scale(1 -1) translate(0 -121.68)\" x=\"7.2\" y=\"-6.824348\" width=\"121.68\" height=\"121.68\"/>\n",
              "   </g>\n",
              "   <g id=\"matplotlib.axis_1\">\n",
              "    <g id=\"text_1\">\n",
              "     <!-- t = 0 -->\n",
              "     <g style=\"fill: #262626\" transform=\"translate(56.010611 141.093723) scale(0.12 -0.12)\">\n",
              "      <defs>\n",
              "       <path id=\"ArialMT-74\" d=\"M 1650 503 \n",
              "L 1731 6 \n",
              "Q 1494 -44 1306 -44 \n",
              "Q 1000 -44 831 53 \n",
              "Q 663 150 594 308 \n",
              "Q 525 466 525 972 \n",
              "L 525 2881 \n",
              "L 113 2881 \n",
              "L 113 3319 \n",
              "L 525 3319 \n",
              "L 525 4141 \n",
              "L 1084 4478 \n",
              "L 1084 3319 \n",
              "L 1650 3319 \n",
              "L 1650 2881 \n",
              "L 1084 2881 \n",
              "L 1084 941 \n",
              "Q 1084 700 1114 631 \n",
              "Q 1144 563 1211 522 \n",
              "Q 1278 481 1403 481 \n",
              "Q 1497 481 1650 503 \n",
              "z\n",
              "\" transform=\"scale(0.015625)\"/>\n",
              "       <path id=\"ArialMT-20\" transform=\"scale(0.015625)\"/>\n",
              "       <path id=\"ArialMT-3d\" d=\"M 3381 2694 \n",
              "L 356 2694 \n",
              "L 356 3219 \n",
              "L 3381 3219 \n",
              "L 3381 2694 \n",
              "z\n",
              "M 3381 1303 \n",
              "L 356 1303 \n",
              "L 356 1828 \n",
              "L 3381 1828 \n",
              "L 3381 1303 \n",
              "z\n",
              "\" transform=\"scale(0.015625)\"/>\n",
              "       <path id=\"ArialMT-30\" d=\"M 266 2259 \n",
              "Q 266 3072 433 3567 \n",
              "Q 600 4063 929 4331 \n",
              "Q 1259 4600 1759 4600 \n",
              "Q 2128 4600 2406 4451 \n",
              "Q 2684 4303 2865 4023 \n",
              "Q 3047 3744 3150 3342 \n",
              "Q 3253 2941 3253 2259 \n",
              "Q 3253 1453 3087 958 \n",
              "Q 2922 463 2592 192 \n",
              "Q 2263 -78 1759 -78 \n",
              "Q 1097 -78 719 397 \n",
              "Q 266 969 266 2259 \n",
              "z\n",
              "M 844 2259 \n",
              "Q 844 1131 1108 757 \n",
              "Q 1372 384 1759 384 \n",
              "Q 2147 384 2411 759 \n",
              "Q 2675 1134 2675 2259 \n",
              "Q 2675 3391 2411 3762 \n",
              "Q 2147 4134 1753 4134 \n",
              "Q 1366 4134 1134 3806 \n",
              "Q 844 3388 844 2259 \n",
              "z\n",
              "\" transform=\"scale(0.015625)\"/>\n",
              "      </defs>\n",
              "      <use xlink:href=\"#ArialMT-74\"/>\n",
              "      <use xlink:href=\"#ArialMT-20\" x=\"27.783203\"/>\n",
              "      <use xlink:href=\"#ArialMT-3d\" x=\"55.566406\"/>\n",
              "      <use xlink:href=\"#ArialMT-20\" x=\"113.964844\"/>\n",
              "      <use xlink:href=\"#ArialMT-30\" x=\"141.748047\"/>\n",
              "     </g>\n",
              "    </g>\n",
              "   </g>\n",
              "   <g id=\"matplotlib.axis_2\"/>\n",
              "   <g id=\"patch_3\">\n",
              "    <path d=\"M 7.2 128.504348 \n",
              "L 7.2 7.2 \n",
              "\" style=\"fill: none; stroke: #ffffff; stroke-width: 1.25; stroke-linejoin: miter; stroke-linecap: square\"/>\n",
              "   </g>\n",
              "   <g id=\"patch_4\">\n",
              "    <path d=\"M 128.504348 128.504348 \n",
              "L 128.504348 7.2 \n",
              "\" style=\"fill: none; stroke: #ffffff; stroke-width: 1.25; stroke-linejoin: miter; stroke-linecap: square\"/>\n",
              "   </g>\n",
              "   <g id=\"patch_5\">\n",
              "    <path d=\"M 7.2 128.504348 \n",
              "L 128.504348 128.504348 \n",
              "\" style=\"fill: none; stroke: #ffffff; stroke-width: 1.25; stroke-linejoin: miter; stroke-linecap: square\"/>\n",
              "   </g>\n",
              "   <g id=\"patch_6\">\n",
              "    <path d=\"M 7.2 7.2 \n",
              "L 128.504348 7.2 \n",
              "\" style=\"fill: none; stroke: #ffffff; stroke-width: 1.25; stroke-linejoin: miter; stroke-linecap: square\"/>\n",
              "   </g>\n",
              "  </g>\n",
              "  <g id=\"axes_2\">\n",
              "   <g id=\"patch_7\">\n",
              "    <path d=\"M 152.765217 128.504348 \n",
              "L 274.069565 128.504348 \n",
              "L 274.069565 7.2 \n",
              "L 152.765217 7.2 \n",
              "z\n",
              "\" style=\"fill: #eaeaf2\"/>\n",
              "   </g>\n",
              "   <g clip-path=\"url(#p5f53704448)\">\n",
              "    <image xlink:href=\"data:image/png;base64,\n",
              "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\" id=\"imagefab2b6ce75\" transform=\"scale(1 -1) translate(0 -121.68)\" x=\"152.765217\" y=\"-6.824348\" width=\"121.68\" height=\"121.68\"/>\n",
              "   </g>\n",
              "   <g id=\"matplotlib.axis_3\">\n",
              "    <g id=\"text_2\">\n",
              "     <!-- t = 1 -->\n",
              "     <g style=\"fill: #262626\" transform=\"translate(201.575829 141.093723) scale(0.12 -0.12)\">\n",
              "      <defs>\n",
              "       <path id=\"ArialMT-31\" d=\"M 2384 0 \n",
              "L 1822 0 \n",
              "L 1822 3584 \n",
              "Q 1619 3391 1289 3197 \n",
              "Q 959 3003 697 2906 \n",
              "L 697 3450 \n",
              "Q 1169 3672 1522 3987 \n",
              "Q 1875 4303 2022 4600 \n",
              "L 2384 4600 \n",
              "L 2384 0 \n",
              "z\n",
              "\" transform=\"scale(0.015625)\"/>\n",
              "      </defs>\n",
              "      <use xlink:href=\"#ArialMT-74\"/>\n",
              "      <use xlink:href=\"#ArialMT-20\" x=\"27.783203\"/>\n",
              "      <use xlink:href=\"#ArialMT-3d\" x=\"55.566406\"/>\n",
              "      <use xlink:href=\"#ArialMT-20\" x=\"113.964844\"/>\n",
              "      <use xlink:href=\"#ArialMT-31\" x=\"141.748047\"/>\n",
              "     </g>\n",
              "    </g>\n",
              "   </g>\n",
              "   <g id=\"matplotlib.axis_4\"/>\n",
              "   <g id=\"patch_8\">\n",
              "    <path d=\"M 152.765217 128.504348 \n",
              "L 152.765217 7.2 \n",
              "\" style=\"fill: none; stroke: #ffffff; stroke-width: 1.25; stroke-linejoin: miter; stroke-linecap: square\"/>\n",
              "   </g>\n",
              "   <g id=\"patch_9\">\n",
              "    <path d=\"M 274.069565 128.504348 \n",
              "L 274.069565 7.2 \n",
              "\" style=\"fill: none; stroke: #ffffff; stroke-width: 1.25; stroke-linejoin: miter; stroke-linecap: square\"/>\n",
              "   </g>\n",
              "   <g id=\"patch_10\">\n",
              "    <path d=\"M 152.765217 128.504348 \n",
              "L 274.069565 128.504348 \n",
              "\" style=\"fill: none; stroke: #ffffff; stroke-width: 1.25; stroke-linejoin: miter; stroke-linecap: square\"/>\n",
              "   </g>\n",
              "   <g id=\"patch_11\">\n",
              "    <path d=\"M 152.765217 7.2 \n",
              "L 274.069565 7.2 \n",
              "\" style=\"fill: none; stroke: #ffffff; stroke-width: 1.25; stroke-linejoin: miter; stroke-linecap: square\"/>\n",
              "   </g>\n",
              "  </g>\n",
              "  <g id=\"axes_3\">\n",
              "   <g id=\"patch_12\">\n",
              "    <path d=\"M 298.330435 128.504348 \n",
              "L 419.634783 128.504348 \n",
              "L 419.634783 7.2 \n",
              "L 298.330435 7.2 \n",
              "z\n",
              "\" style=\"fill: #eaeaf2\"/>\n",
              "   </g>\n",
              "   <g clip-path=\"url(#p8e69b34177)\">\n",
              "    <image xlink:href=\"data:image/png;base64,\n",
              "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\" id=\"imageb725352a95\" transform=\"scale(1 -1) translate(0 -121.68)\" x=\"298.330435\" y=\"-6.824348\" width=\"121.68\" height=\"121.68\"/>\n",
              "   </g>\n",
              "   <g id=\"matplotlib.axis_5\">\n",
              "    <g id=\"text_3\">\n",
              "     <!-- t = 2 -->\n",
              "     <g style=\"fill: #262626\" transform=\"translate(347.141046 141.093723) scale(0.12 -0.12)\">\n",
              "      <defs>\n",
              "       <path id=\"ArialMT-32\" d=\"M 3222 541 \n",
              "L 3222 0 \n",
              "L 194 0 \n",
              "Q 188 203 259 391 \n",
              "Q 375 700 629 1000 \n",
              "Q 884 1300 1366 1694 \n",
              "Q 2113 2306 2375 2664 \n",
              "Q 2638 3022 2638 3341 \n",
              "Q 2638 3675 2398 3904 \n",
              "Q 2159 4134 1775 4134 \n",
              "Q 1369 4134 1125 3890 \n",
              "Q 881 3647 878 3216 \n",
              "L 300 3275 \n",
              "Q 359 3922 746 4261 \n",
              "Q 1134 4600 1788 4600 \n",
              "Q 2447 4600 2831 4234 \n",
              "Q 3216 3869 3216 3328 \n",
              "Q 3216 3053 3103 2787 \n",
              "Q 2991 2522 2730 2228 \n",
              "Q 2469 1934 1863 1422 \n",
              "Q 1356 997 1212 845 \n",
              "Q 1069 694 975 541 \n",
              "L 3222 541 \n",
              "z\n",
              "\" transform=\"scale(0.015625)\"/>\n",
              "      </defs>\n",
              "      <use xlink:href=\"#ArialMT-74\"/>\n",
              "      <use xlink:href=\"#ArialMT-20\" x=\"27.783203\"/>\n",
              "      <use xlink:href=\"#ArialMT-3d\" x=\"55.566406\"/>\n",
              "      <use xlink:href=\"#ArialMT-20\" x=\"113.964844\"/>\n",
              "      <use xlink:href=\"#ArialMT-32\" x=\"141.748047\"/>\n",
              "     </g>\n",
              "    </g>\n",
              "   </g>\n",
              "   <g id=\"matplotlib.axis_6\"/>\n",
              "   <g id=\"patch_13\">\n",
              "    <path d=\"M 298.330435 128.504348 \n",
              "L 298.330435 7.2 \n",
              "\" style=\"fill: none; stroke: #ffffff; stroke-width: 1.25; stroke-linejoin: miter; stroke-linecap: square\"/>\n",
              "   </g>\n",
              "   <g id=\"patch_14\">\n",
              "    <path d=\"M 419.634783 128.504348 \n",
              "L 419.634783 7.2 \n",
              "\" style=\"fill: none; stroke: #ffffff; stroke-width: 1.25; stroke-linejoin: miter; stroke-linecap: square\"/>\n",
              "   </g>\n",
              "   <g id=\"patch_15\">\n",
              "    <path d=\"M 298.330435 128.504348 \n",
              "L 419.634783 128.504348 \n",
              "\" style=\"fill: none; stroke: #ffffff; stroke-width: 1.25; stroke-linejoin: miter; stroke-linecap: square\"/>\n",
              "   </g>\n",
              "   <g id=\"patch_16\">\n",
              "    <path d=\"M 298.330435 7.2 \n",
              "L 419.634783 7.2 \n",
              "\" style=\"fill: none; stroke: #ffffff; stroke-width: 1.25; stroke-linejoin: miter; stroke-linecap: square\"/>\n",
              "   </g>\n",
              "  </g>\n",
              "  <g id=\"axes_4\">\n",
              "   <g id=\"patch_17\">\n",
              "    <path d=\"M 443.895652 128.504348 \n",
              "L 565.2 128.504348 \n",
              "L 565.2 7.2 \n",
              "L 443.895652 7.2 \n",
              "z\n",
              "\" style=\"fill: #eaeaf2\"/>\n",
              "   </g>\n",
              "   <g clip-path=\"url(#peba6961e0a)\">\n",
              "    <image xlink:href=\"data:image/png;base64,\n",
              "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\" id=\"imagee07e66a035\" transform=\"scale(1 -1) translate(0 -121.68)\" x=\"443.895652\" y=\"-6.824348\" width=\"121.68\" height=\"121.68\"/>\n",
              "   </g>\n",
              "   <g id=\"matplotlib.axis_7\">\n",
              "    <g id=\"text_4\">\n",
              "     <!-- t = 3 -->\n",
              "     <g style=\"fill: #262626\" transform=\"translate(492.706264 141.093723) scale(0.12 -0.12)\">\n",
              "      <defs>\n",
              "       <path id=\"ArialMT-33\" d=\"M 269 1209 \n",
              "L 831 1284 \n",
              "Q 928 806 1161 595 \n",
              "Q 1394 384 1728 384 \n",
              "Q 2125 384 2398 659 \n",
              "Q 2672 934 2672 1341 \n",
              "Q 2672 1728 2419 1979 \n",
              "Q 2166 2231 1775 2231 \n",
              "Q 1616 2231 1378 2169 \n",
              "L 1441 2663 \n",
              "Q 1497 2656 1531 2656 \n",
              "Q 1891 2656 2178 2843 \n",
              "Q 2466 3031 2466 3422 \n",
              "Q 2466 3731 2256 3934 \n",
              "Q 2047 4138 1716 4138 \n",
              "Q 1388 4138 1169 3931 \n",
              "Q 950 3725 888 3313 \n",
              "L 325 3413 \n",
              "Q 428 3978 793 4289 \n",
              "Q 1159 4600 1703 4600 \n",
              "Q 2078 4600 2393 4439 \n",
              "Q 2709 4278 2876 4000 \n",
              "Q 3044 3722 3044 3409 \n",
              "Q 3044 3113 2884 2869 \n",
              "Q 2725 2625 2413 2481 \n",
              "Q 2819 2388 3044 2092 \n",
              "Q 3269 1797 3269 1353 \n",
              "Q 3269 753 2831 336 \n",
              "Q 2394 -81 1725 -81 \n",
              "Q 1122 -81 723 278 \n",
              "Q 325 638 269 1209 \n",
              "z\n",
              "\" transform=\"scale(0.015625)\"/>\n",
              "      </defs>\n",
              "      <use xlink:href=\"#ArialMT-74\"/>\n",
              "      <use xlink:href=\"#ArialMT-20\" x=\"27.783203\"/>\n",
              "      <use xlink:href=\"#ArialMT-3d\" x=\"55.566406\"/>\n",
              "      <use xlink:href=\"#ArialMT-20\" x=\"113.964844\"/>\n",
              "      <use xlink:href=\"#ArialMT-33\" x=\"141.748047\"/>\n",
              "     </g>\n",
              "    </g>\n",
              "   </g>\n",
              "   <g id=\"matplotlib.axis_8\"/>\n",
              "   <g id=\"patch_18\">\n",
              "    <path d=\"M 443.895652 128.504348 \n",
              "L 443.895652 7.2 \n",
              "\" style=\"fill: none; stroke: #ffffff; stroke-width: 1.25; stroke-linejoin: miter; stroke-linecap: square\"/>\n",
              "   </g>\n",
              "   <g id=\"patch_19\">\n",
              "    <path d=\"M 565.2 128.504348 \n",
              "L 565.2 7.2 \n",
              "\" style=\"fill: none; stroke: #ffffff; stroke-width: 1.25; stroke-linejoin: miter; stroke-linecap: square\"/>\n",
              "   </g>\n",
              "   <g id=\"patch_20\">\n",
              "    <path d=\"M 443.895652 128.504348 \n",
              "L 565.2 128.504348 \n",
              "\" style=\"fill: none; stroke: #ffffff; stroke-width: 1.25; stroke-linejoin: miter; stroke-linecap: square\"/>\n",
              "   </g>\n",
              "   <g id=\"patch_21\">\n",
              "    <path d=\"M 443.895652 7.2 \n",
              "L 565.2 7.2 \n",
              "\" style=\"fill: none; stroke: #ffffff; stroke-width: 1.25; stroke-linejoin: miter; stroke-linecap: square\"/>\n",
              "   </g>\n",
              "  </g>\n",
              " </g>\n",
              " <defs>\n",
              "  <clipPath id=\"p65ca37031b\">\n",
              "   <rect x=\"7.2\" y=\"7.2\" width=\"121.304348\" height=\"121.304348\"/>\n",
              "  </clipPath>\n",
              "  <clipPath id=\"p5f53704448\">\n",
              "   <rect x=\"152.765217\" y=\"7.2\" width=\"121.304348\" height=\"121.304348\"/>\n",
              "  </clipPath>\n",
              "  <clipPath id=\"p8e69b34177\">\n",
              "   <rect x=\"298.330435\" y=\"7.2\" width=\"121.304348\" height=\"121.304348\"/>\n",
              "  </clipPath>\n",
              "  <clipPath id=\"peba6961e0a\">\n",
              "   <rect x=\"443.895652\" y=\"7.2\" width=\"121.304348\" height=\"121.304348\"/>\n",
              "  </clipPath>\n",
              " </defs>\n",
              "</svg>\n"
            ],
            "text/plain": [
              "<Figure size 1000x500 with 4 Axes>"
            ]
          },
          "metadata": {},
          "output_type": "display_data"
        }
      ],
      "source": [
        "plt.rcParams['figure.figsize'] = [10, 5]\n",
        "for i in range(time_steps):\n",
        "    plt.subplot(1, time_steps, i+1)\n",
        "    plt.imshow(causal3d_dataset['images'][i])\n",
        "    plt.xlabel(f't = {i}')\n",
        "    plt.xticks([])\n",
        "    plt.yticks([])\n",
        "plt.show()"
      ]
    },
    {
      "cell_type": "markdown",
      "metadata": {
        "id": "pXH0XPh2nMmM"
      },
      "source": [
        "## Theoretical Framework of CITRIS"
      ]
    },
    {
      "cell_type": "markdown",
      "metadata": {
        "id": "XHv6WE3AnMmM"
      },
      "source": [
        "### Minimal Causal Variables"
      ]
    },
    {
      "cell_type": "markdown",
      "metadata": {
        "id": "HPbDDHSHnMmM"
      },
      "source": [
        "In TRIS, we generally cannot disentangle two causal factors if they are always intervened upon jointly, or, on the contrary, if they are never intervened upon. Furthermore, multidimensional causal variables are not always identifiable in TRIS as interventions might only affect a subset of its dimensions. Instead, we may only be able to identify *minimal causal variables*, which only model the information of a causal factor that is strictly affected by a provided intervention. For example, consider the causal process illustrated below, where a ball can move freely within the box it is currently in, but can only jump into another box under an intervention (which keeps the relative position of the ball within the box intact).\n",
        "\n",
        "\n",
        "<center width=\"100%\"><img src=\"https://raw.githubusercontent.com/msgtsuzuki/saved_models/main/tutorial15/ball_in_boxes.jpg\" width=\"30%\"></center>\n",
        "\n",
        "If we were to model this process by two causal variables, the relative position within the box $x'$ (on which we never intervene) and the current box $b$, we are only able to identify the causal variable $b$, since $x'$ is not affected by the interventions. In other words, $b$ is the minimal causal variable in this example.\n",
        "\n",
        "\n",
        "To formalize the notion of minimal causal variables, consider an invertible map $s_i: \\mathcal{D}_i^{M_i} \\rightarrow \\mathcal{D}_i^\\text{var} \\times \\mathcal{D}_i^\\text{inv}$ that splits each causal variable $C_i^t$ into an *intervention-dependent* part $s^\\text{var}_i(C^{t}_i)$ and an *intervention-independent* part $s^\\text{inv}_i(C^{t}_i)$ (note that this invertible map is not unique).  We are interested in identifying the split where $s^\\text{var}_i(C^{t}_i)$ *only* contains information that truly depends on the intervention. Under this split, $s^\\text{var}_i(C^{t}_i)$ is defined as the *minimal causal variable* and denoted by $s^{\\text{var}^*}_i(C^{t}_i)$."
      ]
    },
    {
      "cell_type": "markdown",
      "metadata": {
        "id": "SmwXmpI0nMmM"
      },
      "source": [
        "### Learning the Minimal Causal Variables"
      ]
    },
    {
      "cell_type": "markdown",
      "metadata": {
        "id": "7PPdFdtMnMmM"
      },
      "source": [
        "In order to learn the minimal causal variables in TRIS, CITRIS approximates the inverse of the observation function based on data triplets $\\{x^t, x^{t+1}, I^{t+1}\\}$ by learning two components.\n",
        "1. An invertible mapping from observations to latent space: $g_\\theta: \\mathcal{X} \\to \\mathcal{Z}$.\n",
        "2. An assignment function $\\psi: [\\![1..M]\\!]\\to[\\![0..K]\\!]$ that maps each dimension of $\\mathcal{Z}$ to a causal factor in $\\mathcal{C}$.\n",
        "\n",
        "For the assignment function, $\\psi(j)=0,j\\in[\\![1..M]\\!]$ indicates that the latent dimension $z_j$ does not correspond to any dimension of the minimal causal variable, but rather to some dimension of $s^\\text{inv}_i(C^{t}_i)$, and $z_{\\psi_{i}}=\\{z_j \\mid j\\in[\\![1..M]\\!], \\psi(j)=i\\}$ denotes the set of latent variables that $\\psi$ assigns to the causal variable $C_i$.\n",
        "\n",
        "To encourage a disentanglement of the causal factors, CITRIS model a **transition prior** in the latent space that conditions each latent variable on exactly one of the intervention targets:\n",
        "\n",
        "$$\n",
        "p_{\\phi}\\left(z^{t+1}|z^{t}, I^{t+1}\\right) = \\prod_{i=0}^{K}p_{\\phi}\\left(z_{\\psi_i}^{t+1}|z^{t}, I_{i}^{t+1}\\right),\n",
        "$$\n",
        "\n",
        "where $I_0^{t+1}=0$. Combining the transition prior and the invertible mapping $g_\\theta$, the objective of CITRIS is to maximize the following likelihood:\n",
        "\n",
        "$$\n",
        "p_{\\phi,\\theta}(x^{t+1}|x^{t},I^{t+1})=\\left|\\frac{\\partial g_{\\theta}(x^{t+1})}{\\partial x^{t+1}}\\right|p_{\\phi}(z^{t+1}|z^{t}, I^{t+1})\n",
        "$$\n",
        "\n",
        "If a model $\\mathcal{M}$ maximizes the information content of $z_{\\psi_0}$ under the constraint of maximizing this likelihood $\\mathcal{L}_{\\phi,\\theta}(x^{t+1}|x^{t},I^{t+1})$ and no intervention variable is a deterministic function of any other intervention variable, then $\\mathcal{M}$ is shown to identify any causal system $\\mathcal{S}$ (i.e., it identifies the minimal causal variables of $\\mathcal{S}$ up to an invertible transformation). Intuitively, this means that the latent variables $z_{\\psi_i}$ only model the information of $C_i$ that strictly depends on the intervention targets $I_i^{t+1}$."
      ]
    },
    {
      "cell_type": "markdown",
      "metadata": {
        "id": "Q11SETyEnMmN"
      },
      "source": [
        "## Practical Implementation of CITRIS"
      ]
    },
    {
      "cell_type": "markdown",
      "metadata": {
        "id": "vpVtFzPdnMmN"
      },
      "source": [
        "Thus far, we have sketched a theoretical framework to identify causal variables from an image sequence with known intervention targets. We are now ready to provide a practical implementation of the model $\\mathcal{M}$. The original paper proposes two variants for such a model: CITRIS-VAE and CITRIS-NF."
      ]
    },
    {
      "cell_type": "markdown",
      "metadata": {
        "id": "3b1t3EAlnMmN"
      },
      "source": [
        "### CITRIS-VAE"
      ]
    },
    {
      "cell_type": "markdown",
      "metadata": {
        "id": "e9B5Zx1knMmN"
      },
      "source": [
        "Recall that CITRIS approximates $h^{-1}: \\mathcal{X} \\to \\mathcal{C} \\times \\mathcal{E}$ by learning two components: the intertible mapping $g_\\theta: \\mathcal{X} \\to \\mathcal{Z}$, and the assignment function $\\psi: [\\![1..M]\\!]\\to[\\![0..K]\\!]$. CITRIS-VAE approximate $g_\\theta$ via a variational autoencoder (AE), with encoder $q_\\theta$ and decoder $p_\\theta$, that optimizes the following Evidence Lower Bound (ELBO):\n",
        "\n",
        "$$\n",
        "\\mathcal{L}_{\\text{ELBO}} = -\\mathbb{E}_{z^{t+1}}\\left[\\log \\underbrace{p_{\\theta}\\left(x^{t+1}|z^{t+1}\\right)}_\\text{Decoder}\\right] + \\mathbb{E}_{z^{t},\\psi}\\left[\\sum_{i=0}^{K} D_{\\mathrm{KL}}\\left(\\underbrace{q_{\\theta}(z_{\\psi_{i}}^{t+1}|x^{t+1})}_\\text{Encoder}|| \\underbrace{p_{\\phi}(z_{\\psi_{i}}^{t+1}|z^{t}, I_{i}^{t+1})}_\\text{Transition Prior}\\right)\\right]\n",
        "$$\n",
        "\n",
        "To ensure that blocks of latent variables that are assigned to different causal variables are independent conditioned on the latent variables of the previous time steps and the interventions (i.e., the $z_{\\psi_i}^{t+1}$'s are independent conditioned on $z^t$ and $I_i^{t+1}$), the KL divergence term utilizes the prior definition of the transition prior. Thereby, the assignment function $\\psi$ is learned via a Gumbel-Softmax distribution per latent variable. The overall setup of CITRIS-VAE is visualized below.\n",
        "\n",
        "<center width=\"100%\"><img src=\"https://raw.githubusercontent.com/msgtsuzuki/saved_models/main/tutorial15/CITRIS-VAE.png\" width=\"50%\"></center>"
      ]
    },
    {
      "cell_type": "markdown",
      "metadata": {
        "id": "ReowQiiPnMmN"
      },
      "source": [
        "Now that we have discussed CITRIS-VAE in detail, we can implement a simplified version of it:"
      ]
    },
    {
      "cell_type": "code",
      "execution_count": 102,
      "metadata": {
        "id": "Nu0V8cOTnMmN"
      },
      "outputs": [],
      "source": [
        "class CITRISVAE_MINIMAL(nn.Module):\n",
        "    \"\"\"\n",
        "    This is a minimal implementation of CITRIS-VAE and is meant for educational purposes.\n",
        "    Several steps and details have been omitted for clarity.\n",
        "    You can find the full version at:\n",
        "    https://github.com/msgtsuzuki/CITRIS_DL2/blob/main/models/citris_vae/lightning_module.py\n",
        "    \"\"\"\n",
        "\n",
        "    def __init__(self, encoder, decoder, transition_prior):\n",
        "        super().__init__()\n",
        "\n",
        "        # Encoder-Decoder\n",
        "        self.encoder, self.decoder = encoder, decoder\n",
        "\n",
        "        # Transition prior\n",
        "        self.prior_t1 = transition_prior\n",
        "\n",
        "    def forward(self, x):\n",
        "        \"\"\" Returns the reconstruction of x\"\"\"\n",
        "        # Encode\n",
        "        z_mean, z_logstd = self.encoder(x)\n",
        "\n",
        "        # Reparameterization trick\n",
        "        z_sample = z_mean + torch.randn_like(z_mean) * z_logstd.exp()\n",
        "\n",
        "        # Decode\n",
        "        x_rec = self.decoder(z_sample)\n",
        "\n",
        "        return x_rec, z_sample, z_mean, z_logstd\n",
        "\n",
        "    def _get_loss(self, batch):\n",
        "        \"\"\" Returns the loss for a batch of data\"\"\"\n",
        "        # Unpack batch\n",
        "        imgs, labels, target = batch\n",
        "\n",
        "        # Encode\n",
        "        z_mean, z_logstd = self.encoder(imgs)\n",
        "\n",
        "        # Reparameterization trick\n",
        "        z_sample = z_mean + torch.randn_like(z_mean) * z_logstd.exp()\n",
        "\n",
        "        # Decode\n",
        "        x_rec = self.decoder(z_sample)\n",
        "\n",
        "        # Calculate KL divergence between every pair of frames\n",
        "        kld = self.prior_t1.kl_divergence(z_t=z_mean[:, :-1],\n",
        "                                          target=target,\n",
        "                                          z_t1_mean=z_mean[:, 1:],\n",
        "                                          z_t1_logstd=z_logstd[:, 1:],\n",
        "                                          z_t1_sample=z_sample[:, 1:])\n",
        "\n",
        "        # Reconstruction loss\n",
        "        rec_loss = F.mse_loss(x_rec, labels[:, 1:], reduction='none').sum()\n",
        "\n",
        "        # Get the full loss\n",
        "        loss = (kld + rec_loss.sum(dim=1)).mean()\n",
        "\n",
        "        return loss"
      ]
    },
    {
      "cell_type": "markdown",
      "metadata": {
        "id": "G2m0EZG7nMmN"
      },
      "source": [
        "### CITRIS-NF"
      ]
    },
    {
      "cell_type": "markdown",
      "metadata": {
        "id": "fe2splkbnMmN"
      },
      "source": [
        "One disadvantage of using a VAE is that it may struggle to model complex images that contain many details that are small yet relevant to model the causal system. CITRIS-NF overcomes this issue by separating the learning process of $g_\\theta$ into the following two components:\n",
        "1. **(Pretrained) Autoencoder (AE)**: Learns to encode the high-dimensional observations *without* disentangling the dimensions in the latent space.\n",
        "2. **Normalizing Flow (NF)**: Learns to map the entangled latent representation of the autoencoder into a disentangled one.\n",
        "\n",
        "In contrast to the VAE setup, the autoencoder does not require the latent distribution to be similar to a transition prior, thus allowing it to model more complex marginal distributions. We visualize the setup of CITRIS-NF below.\n",
        "\n",
        "\n",
        "<center width=\"100%\"><img src=\"https://raw.githubusercontent.com/msgtsuzuki/saved_models/main/tutorial15/CITRIS-NF.png\" width=\"50%\"></center>\n",
        "\n",
        "\n",
        "While it is not strictly necessary the understand normalizing flows to follow the remainder of this tutorial, we highly recommend having a look at [Tutorial 11](https://uvadlc-notebooks.readthedocs.io/en/latest/tutorial_notebooks/tutorial11/NF_image_modeling.html#) or the [following video](https://www.youtube.com/watch?v=i7LjDvsLWCg) for readers that are interested in learning more about them."
      ]
    },
    {
      "cell_type": "markdown",
      "metadata": {
        "id": "XFKBpc2YnMmN"
      },
      "source": [
        "Similar to the VAE setup, we implement a simplified version of CITRIS-NF below:"
      ]
    },
    {
      "cell_type": "code",
      "execution_count": 103,
      "metadata": {
        "id": "Ol_0uOXenMmN"
      },
      "outputs": [],
      "source": [
        "class CITRISNF_MINIMAL(nn.Module):\n",
        "    \"\"\"\n",
        "    This is a minimal implementation of CITRIS-NF and is meant for educational purposes.\n",
        "    Several steps and details have been omitted for clarity.\n",
        "    You can find the full version at:\n",
        "    https://github.com/msgtsuzuki/CITRIS_DL2/blob/main/models/citris_nf/lightning_module.py\n",
        "    \"\"\"\n",
        "\n",
        "    def __init__(self, encoder, decoder, transition_prior, flow):\n",
        "        super().__init__()\n",
        "\n",
        "        # Encoder-Decoder\n",
        "        self.encoder, self.decoder = encoder, decoder\n",
        "\n",
        "        # Transition prior\n",
        "        self.prior_t1 = transition_prior\n",
        "\n",
        "        # Normalizing Flow\n",
        "        self.flow = flow\n",
        "\n",
        "    def forward(self, x, noise_level=0.0):\n",
        "        \"\"\" Returns the reconstruction of x\n",
        "            Note that we do not use the flow in the forward pass.\n",
        "            The flow is used only to disentangle the latent space.\n",
        "        \"\"\"\n",
        "        # Encode\n",
        "        z = self.encoder(x)\n",
        "\n",
        "        # Add some noise\n",
        "        z = z + torch.randn_like(z) * noise_level\n",
        "\n",
        "        # The decoder expects the original latent space.\n",
        "        # Executing the flow and then reversing has no effect.\n",
        "        # Thus, we skip the flow here.\n",
        "        # # Execute the flow to disentangle the latent space\n",
        "        # z, _ = self.flow(z)\n",
        "        # # Reverse the flow to get the original latent space\n",
        "        # z = self.flow.reverse(z)\n",
        "\n",
        "        # Decode\n",
        "        x_rec = self.decoder(z)\n",
        "\n",
        "        return x_rec, z\n",
        "\n",
        "    def _get_loss(self, batch, noise_level=0.0):\n",
        "        \"\"\" Returns the loss for a batch of data\"\"\"\n",
        "\n",
        "        # Unpack batch\n",
        "        imgs, target = batch\n",
        "\n",
        "        # Encode\n",
        "        z = self.encoder(imgs)\n",
        "\n",
        "        # Add some noise\n",
        "        z = z + torch.randn_like(z) * noise_level\n",
        "\n",
        "        # Execute the flow\n",
        "        z_sample, ldj = self.flow(z)  # ldj = log(det(Jacobian))\n",
        "\n",
        "        # Calculate the negative log likelihood of the transition prior\n",
        "        nll = self.prior_t1.sample_based_nll(z_t=z_sample[:, :-1],\n",
        "                                             z_t1=z_sample[:, 1:],\n",
        "                                             target=target)\n",
        "\n",
        "        # Add LDJ and prior NLL for full loss\n",
        "        loss = nll + ldj\n",
        "\n",
        "        return loss"
      ]
    },
    {
      "cell_type": "markdown",
      "metadata": {
        "id": "bKwey0n9nMmN"
      },
      "source": [
        "### Target Classifier (optional)"
      ]
    },
    {
      "cell_type": "markdown",
      "metadata": {
        "id": "yszJYe6lnMmO"
      },
      "source": [
        "To further guide the disentanglement in latent space, both CITRIS-VAE and CITRIS-NF can make use of a target classifier that is trained to predict the intervention targets from the latent variables over time, *i.e.*, $p(I^{t+1}|z^{t},z_{\\psi_{i}}^{t+1})$ for $i\\in[\\![0..K]\\!]$. To achieve this, we can train $z_{\\psi_{i}}^{t+1}$ to have higher mutual information with the intervention target $I_i^{t+1}$ of its intended causal variable $C_i$."
      ]
    },
    {
      "cell_type": "markdown",
      "metadata": {
        "id": "Csvp0t8QnMmO"
      },
      "source": [
        "## Experiments"
      ]
    },
    {
      "cell_type": "markdown",
      "metadata": {
        "id": "a1yhIJ0fnMmO"
      },
      "source": [
        "Now that we have discussed how CITRIS works, we are ready to perform some experiments to gain a better understanding of its capabilities. First, we will study CITRIS' capabilities to disentangle the causal factors on the Causal3DIdent dataset. Then, we will demonstrate how we can use the learned latent dimensions of CITRIS to perform interventions in the image space, and conversely analyze how these latent dimensions are affected if we change a single causal variable in the input image."
      ]
    },
    {
      "cell_type": "markdown",
      "metadata": {
        "id": "KsKhsSuBnMmO"
      },
      "source": [
        "For our experiments, we will use variant of CITRIS-NF that has been pre-trained on the Causal3DIdent dataset discussed previously."
      ]
    },
    {
      "cell_type": "code",
      "execution_count": 104,
      "metadata": {
        "id": "Swrc5s0VnMmR",
        "outputId": "00e6c216-2931-477b-ff95-531a6049b88a"
      },
      "outputs": [
        {
          "name": "stdout",
          "output_type": "stream",
          "text": [
            "Found pretrained model at saved_models/tutorial15\\citris.ckpt, loading...\n"
          ]
        }
      ],
      "source": [
        "pretrained_CITRIS_path = os.path.join(CHECKPOINT_PATH, \"citris\" + \".ckpt\")\n",
        "\n",
        "if os.path.isfile(pretrained_CITRIS_path):\n",
        "    print(f\"Found pretrained model at {pretrained_CITRIS_path}, loading...\")\n",
        "    model = CITRISNF.load_from_checkpoint(pretrained_CITRIS_path)\n",
        "    model.eval()"
      ]
    },
    {
      "cell_type": "markdown",
      "metadata": {
        "id": "Rt1VKqHGnMmR"
      },
      "source": [
        "### Triplet Evaluation"
      ]
    },
    {
      "cell_type": "markdown",
      "metadata": {
        "id": "pnnyXfIBnMmR"
      },
      "source": [
        "To reveal complex dependencies between latent variables, we first perform a parameter-free evaluation involving triplets of images. The first two elements of the triplets are randomly sampled from the original test dataset, and the third element is created based on a random combination of causal factors of the first two images."
      ]
    },
    {
      "cell_type": "markdown",
      "metadata": {
        "id": "jeP5bawcnMmR"
      },
      "source": [
        "Let's first inspect what a single image triplet might look like:"
      ]
    },
    {
      "cell_type": "code",
      "execution_count": 105,
      "metadata": {
        "id": "QDRqkpi6nMmR",
        "outputId": "ec8a002f-6c51-43b7-b86a-f91726771371"
      },
      "outputs": [
        {
          "data": {
            "application/pdf": "[encoded data removed]",
            "image/svg+xml": [
              "<?xml version=\"1.0\" encoding=\"utf-8\" standalone=\"no\"?>\n",
              "<!DOCTYPE svg PUBLIC \"-//W3C//DTD SVG 1.1//EN\"\n",
              "  \"http://www.w3.org/Graphics/SVG/1.1/DTD/svg11.dtd\">\n",
              "<svg xmlns:xlink=\"http://www.w3.org/1999/xlink\" width=\"572.4pt\" height=\"193.668272pt\" viewBox=\"0 0 572.4 193.668272\" xmlns=\"http://www.w3.org/2000/svg\" version=\"1.1\">\n",
              " <metadata>\n",
              "  <rdf:RDF xmlns:dc=\"http://purl.org/dc/elements/1.1/\" xmlns:cc=\"http://creativecommons.org/ns#\" xmlns:rdf=\"http://www.w3.org/1999/02/22-rdf-syntax-ns#\">\n",
              "   <cc:Work>\n",
              "    <dc:type rdf:resource=\"http://purl.org/dc/dcmitype/StillImage\"/>\n",
              "    <dc:date>2024-05-01T19:22:34.815313</dc:date>\n",
              "    <dc:format>image/svg+xml</dc:format>\n",
              "    <dc:creator>\n",
              "     <cc:Agent>\n",
              "      <dc:title>Matplotlib v3.8.3, https://matplotlib.org/</dc:title>\n",
              "     </cc:Agent>\n",
              "    </dc:creator>\n",
              "   </cc:Work>\n",
              "  </rdf:RDF>\n",
              " </metadata>\n",
              " <defs>\n",
              "  <style type=\"text/css\">*{stroke-linejoin: round; stroke-linecap: butt}</style>\n",
              " </defs>\n",
              " <g id=\"figure_1\">\n",
              "  <g id=\"patch_1\">\n",
              "   <path d=\"M 0 193.668272 \n",
              "L 572.4 193.668272 \n",
              "L 572.4 -0 \n",
              "L 0 -0 \n",
              "z\n",
              "\" style=\"fill: #ffffff\"/>\n",
              "  </g>\n",
              "  <g id=\"axes_1\">\n",
              "   <g id=\"patch_2\">\n",
              "    <path d=\"M 7.2 171.317647 \n",
              "L 171.317647 171.317647 \n",
              "L 171.317647 7.2 \n",
              "L 7.2 7.2 \n",
              "z\n",
              "\" style=\"fill: #eaeaf2\"/>\n",
              "   </g>\n",
              "   <g clip-path=\"url(#p1ec97fbf3d)\">\n",
              "    <image xlink:href=\"data:image/png;base64,\n",
              "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\" id=\"image14028b04fa\" transform=\"scale(1 -1) translate(0 -164.16)\" x=\"7.2\" y=\"-7.157647\" width=\"164.16\" height=\"164.16\"/>\n",
              "   </g>\n",
              "   <g id=\"matplotlib.axis_1\">\n",
              "    <g id=\"text_1\">\n",
              "     <!-- Image 1 -->\n",
              "     <g style=\"fill: #262626\" transform=\"translate(67.581011 183.942647) scale(0.12 -0.12)\">\n",
              "      <defs>\n",
              "       <path id=\"ArialMT-49\" d=\"M 597 0 \n",
              "L 597 4581 \n",
              "L 1203 4581 \n",
              "L 1203 0 \n",
              "L 597 0 \n",
              "z\n",
              "\" transform=\"scale(0.015625)\"/>\n",
              "       <path id=\"ArialMT-6d\" d=\"M 422 0 \n",
              "L 422 3319 \n",
              "L 925 3319 \n",
              "L 925 2853 \n",
              "Q 1081 3097 1340 3245 \n",
              "Q 1600 3394 1931 3394 \n",
              "Q 2300 3394 2536 3241 \n",
              "Q 2772 3088 2869 2813 \n",
              "Q 3263 3394 3894 3394 \n",
              "Q 4388 3394 4653 3120 \n",
              "Q 4919 2847 4919 2278 \n",
              "L 4919 0 \n",
              "L 4359 0 \n",
              "L 4359 2091 \n",
              "Q 4359 2428 4304 2576 \n",
              "Q 4250 2725 4106 2815 \n",
              "Q 3963 2906 3769 2906 \n",
              "Q 3419 2906 3187 2673 \n",
              "Q 2956 2441 2956 1928 \n",
              "L 2956 0 \n",
              "L 2394 0 \n",
              "L 2394 2156 \n",
              "Q 2394 2531 2256 2718 \n",
              "Q 2119 2906 1806 2906 \n",
              "Q 1569 2906 1367 2781 \n",
              "Q 1166 2656 1075 2415 \n",
              "Q 984 2175 984 1722 \n",
              "L 984 0 \n",
              "L 422 0 \n",
              "z\n",
              "\" transform=\"scale(0.015625)\"/>\n",
              "       <path id=\"ArialMT-61\" d=\"M 2588 409 \n",
              "Q 2275 144 1986 34 \n",
              "Q 1697 -75 1366 -75 \n",
              "Q 819 -75 525 192 \n",
              "Q 231 459 231 875 \n",
              "Q 231 1119 342 1320 \n",
              "Q 453 1522 633 1644 \n",
              "Q 813 1766 1038 1828 \n",
              "Q 1203 1872 1538 1913 \n",
              "Q 2219 1994 2541 2106 \n",
              "Q 2544 2222 2544 2253 \n",
              "Q 2544 2597 2384 2738 \n",
              "Q 2169 2928 1744 2928 \n",
              "Q 1347 2928 1158 2789 \n",
              "Q 969 2650 878 2297 \n",
              "L 328 2372 \n",
              "Q 403 2725 575 2942 \n",
              "Q 747 3159 1072 3276 \n",
              "Q 1397 3394 1825 3394 \n",
              "Q 2250 3394 2515 3294 \n",
              "Q 2781 3194 2906 3042 \n",
              "Q 3031 2891 3081 2659 \n",
              "Q 3109 2516 3109 2141 \n",
              "L 3109 1391 \n",
              "Q 3109 606 3145 398 \n",
              "Q 3181 191 3288 0 \n",
              "L 2700 0 \n",
              "Q 2613 175 2588 409 \n",
              "z\n",
              "M 2541 1666 \n",
              "Q 2234 1541 1622 1453 \n",
              "Q 1275 1403 1131 1340 \n",
              "Q 988 1278 909 1158 \n",
              "Q 831 1038 831 891 \n",
              "Q 831 666 1001 516 \n",
              "Q 1172 366 1500 366 \n",
              "Q 1825 366 2078 508 \n",
              "Q 2331 650 2450 897 \n",
              "Q 2541 1088 2541 1459 \n",
              "L 2541 1666 \n",
              "z\n",
              "\" transform=\"scale(0.015625)\"/>\n",
              "       <path id=\"ArialMT-67\" d=\"M 319 -275 \n",
              "L 866 -356 \n",
              "Q 900 -609 1056 -725 \n",
              "Q 1266 -881 1628 -881 \n",
              "Q 2019 -881 2231 -725 \n",
              "Q 2444 -569 2519 -288 \n",
              "Q 2563 -116 2559 434 \n",
              "Q 2191 0 1641 0 \n",
              "Q 956 0 581 494 \n",
              "Q 206 988 206 1678 \n",
              "Q 206 2153 378 2554 \n",
              "Q 550 2956 876 3175 \n",
              "Q 1203 3394 1644 3394 \n",
              "Q 2231 3394 2613 2919 \n",
              "L 2613 3319 \n",
              "L 3131 3319 \n",
              "L 3131 450 \n",
              "Q 3131 -325 2973 -648 \n",
              "Q 2816 -972 2473 -1159 \n",
              "Q 2131 -1347 1631 -1347 \n",
              "Q 1038 -1347 672 -1080 \n",
              "Q 306 -813 319 -275 \n",
              "z\n",
              "M 784 1719 \n",
              "Q 784 1066 1043 766 \n",
              "Q 1303 466 1694 466 \n",
              "Q 2081 466 2343 764 \n",
              "Q 2606 1063 2606 1700 \n",
              "Q 2606 2309 2336 2618 \n",
              "Q 2066 2928 1684 2928 \n",
              "Q 1309 2928 1046 2623 \n",
              "Q 784 2319 784 1719 \n",
              "z\n",
              "\" transform=\"scale(0.015625)\"/>\n",
              "       <path id=\"ArialMT-65\" d=\"M 2694 1069 \n",
              "L 3275 997 \n",
              "Q 3138 488 2766 206 \n",
              "Q 2394 -75 1816 -75 \n",
              "Q 1088 -75 661 373 \n",
              "Q 234 822 234 1631 \n",
              "Q 234 2469 665 2931 \n",
              "Q 1097 3394 1784 3394 \n",
              "Q 2450 3394 2872 2941 \n",
              "Q 3294 2488 3294 1666 \n",
              "Q 3294 1616 3291 1516 \n",
              "L 816 1516 \n",
              "Q 847 969 1125 678 \n",
              "Q 1403 388 1819 388 \n",
              "Q 2128 388 2347 550 \n",
              "Q 2566 713 2694 1069 \n",
              "z\n",
              "M 847 1978 \n",
              "L 2700 1978 \n",
              "Q 2663 2397 2488 2606 \n",
              "Q 2219 2931 1791 2931 \n",
              "Q 1403 2931 1139 2672 \n",
              "Q 875 2413 847 1978 \n",
              "z\n",
              "\" transform=\"scale(0.015625)\"/>\n",
              "       <path id=\"ArialMT-20\" transform=\"scale(0.015625)\"/>\n",
              "       <path id=\"ArialMT-31\" d=\"M 2384 0 \n",
              "L 1822 0 \n",
              "L 1822 3584 \n",
              "Q 1619 3391 1289 3197 \n",
              "Q 959 3003 697 2906 \n",
              "L 697 3450 \n",
              "Q 1169 3672 1522 3987 \n",
              "Q 1875 4303 2022 4600 \n",
              "L 2384 4600 \n",
              "L 2384 0 \n",
              "z\n",
              "\" transform=\"scale(0.015625)\"/>\n",
              "      </defs>\n",
              "      <use xlink:href=\"#ArialMT-49\"/>\n",
              "      <use xlink:href=\"#ArialMT-6d\" x=\"27.783203\"/>\n",
              "      <use xlink:href=\"#ArialMT-61\" x=\"111.083984\"/>\n",
              "      <use xlink:href=\"#ArialMT-67\" x=\"166.699219\"/>\n",
              "      <use xlink:href=\"#ArialMT-65\" x=\"222.314453\"/>\n",
              "      <use xlink:href=\"#ArialMT-20\" x=\"277.929688\"/>\n",
              "      <use xlink:href=\"#ArialMT-31\" x=\"305.712891\"/>\n",
              "     </g>\n",
              "    </g>\n",
              "   </g>\n",
              "   <g id=\"matplotlib.axis_2\"/>\n",
              "   <g id=\"patch_3\">\n",
              "    <path d=\"M 7.2 171.317647 \n",
              "L 7.2 7.2 \n",
              "\" style=\"fill: none; stroke: #ffffff; stroke-width: 1.25; stroke-linejoin: miter; stroke-linecap: square\"/>\n",
              "   </g>\n",
              "   <g id=\"patch_4\">\n",
              "    <path d=\"M 171.317647 171.317647 \n",
              "L 171.317647 7.2 \n",
              "\" style=\"fill: none; stroke: #ffffff; stroke-width: 1.25; stroke-linejoin: miter; stroke-linecap: square\"/>\n",
              "   </g>\n",
              "   <g id=\"patch_5\">\n",
              "    <path d=\"M 7.2 171.317647 \n",
              "L 171.317647 171.317647 \n",
              "\" style=\"fill: none; stroke: #ffffff; stroke-width: 1.25; stroke-linejoin: miter; stroke-linecap: square\"/>\n",
              "   </g>\n",
              "   <g id=\"patch_6\">\n",
              "    <path d=\"M 7.2 7.2 \n",
              "L 171.317647 7.2 \n",
              "\" style=\"fill: none; stroke: #ffffff; stroke-width: 1.25; stroke-linejoin: miter; stroke-linecap: square\"/>\n",
              "   </g>\n",
              "  </g>\n",
              "  <g id=\"axes_2\">\n",
              "   <g id=\"patch_7\">\n",
              "    <path d=\"M 204.141176 171.317647 \n",
              "L 368.258824 171.317647 \n",
              "L 368.258824 7.2 \n",
              "L 204.141176 7.2 \n",
              "z\n",
              "\" style=\"fill: #eaeaf2\"/>\n",
              "   </g>\n",
              "   <g clip-path=\"url(#p799043b311)\">\n",
              "    <image xlink:href=\"data:image/png;base64,\n",
              "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\" id=\"imageac900b1484\" transform=\"scale(1 -1) translate(0 -164.16)\" x=\"204.141176\" y=\"-7.157647\" width=\"164.16\" height=\"164.16\"/>\n",
              "   </g>\n",
              "   <g id=\"matplotlib.axis_3\">\n",
              "    <g id=\"text_2\">\n",
              "     <!-- Image 2 -->\n",
              "     <g style=\"fill: #262626\" transform=\"translate(264.522187 183.942647) scale(0.12 -0.12)\">\n",
              "      <defs>\n",
              "       <path id=\"ArialMT-32\" d=\"M 3222 541 \n",
              "L 3222 0 \n",
              "L 194 0 \n",
              "Q 188 203 259 391 \n",
              "Q 375 700 629 1000 \n",
              "Q 884 1300 1366 1694 \n",
              "Q 2113 2306 2375 2664 \n",
              "Q 2638 3022 2638 3341 \n",
              "Q 2638 3675 2398 3904 \n",
              "Q 2159 4134 1775 4134 \n",
              "Q 1369 4134 1125 3890 \n",
              "Q 881 3647 878 3216 \n",
              "L 300 3275 \n",
              "Q 359 3922 746 4261 \n",
              "Q 1134 4600 1788 4600 \n",
              "Q 2447 4600 2831 4234 \n",
              "Q 3216 3869 3216 3328 \n",
              "Q 3216 3053 3103 2787 \n",
              "Q 2991 2522 2730 2228 \n",
              "Q 2469 1934 1863 1422 \n",
              "Q 1356 997 1212 845 \n",
              "Q 1069 694 975 541 \n",
              "L 3222 541 \n",
              "z\n",
              "\" transform=\"scale(0.015625)\"/>\n",
              "      </defs>\n",
              "      <use xlink:href=\"#ArialMT-49\"/>\n",
              "      <use xlink:href=\"#ArialMT-6d\" x=\"27.783203\"/>\n",
              "      <use xlink:href=\"#ArialMT-61\" x=\"111.083984\"/>\n",
              "      <use xlink:href=\"#ArialMT-67\" x=\"166.699219\"/>\n",
              "      <use xlink:href=\"#ArialMT-65\" x=\"222.314453\"/>\n",
              "      <use xlink:href=\"#ArialMT-20\" x=\"277.929688\"/>\n",
              "      <use xlink:href=\"#ArialMT-32\" x=\"305.712891\"/>\n",
              "     </g>\n",
              "    </g>\n",
              "   </g>\n",
              "   <g id=\"matplotlib.axis_4\"/>\n",
              "   <g id=\"patch_8\">\n",
              "    <path d=\"M 204.141176 171.317647 \n",
              "L 204.141176 7.2 \n",
              "\" style=\"fill: none; stroke: #ffffff; stroke-width: 1.25; stroke-linejoin: miter; stroke-linecap: square\"/>\n",
              "   </g>\n",
              "   <g id=\"patch_9\">\n",
              "    <path d=\"M 368.258824 171.317647 \n",
              "L 368.258824 7.2 \n",
              "\" style=\"fill: none; stroke: #ffffff; stroke-width: 1.25; stroke-linejoin: miter; stroke-linecap: square\"/>\n",
              "   </g>\n",
              "   <g id=\"patch_10\">\n",
              "    <path d=\"M 204.141176 171.317647 \n",
              "L 368.258824 171.317647 \n",
              "\" style=\"fill: none; stroke: #ffffff; stroke-width: 1.25; stroke-linejoin: miter; stroke-linecap: square\"/>\n",
              "   </g>\n",
              "   <g id=\"patch_11\">\n",
              "    <path d=\"M 204.141176 7.2 \n",
              "L 368.258824 7.2 \n",
              "\" style=\"fill: none; stroke: #ffffff; stroke-width: 1.25; stroke-linejoin: miter; stroke-linecap: square\"/>\n",
              "   </g>\n",
              "  </g>\n",
              "  <g id=\"axes_3\">\n",
              "   <g id=\"patch_12\">\n",
              "    <path d=\"M 401.082353 171.317647 \n",
              "L 565.2 171.317647 \n",
              "L 565.2 7.2 \n",
              "L 401.082353 7.2 \n",
              "z\n",
              "\" style=\"fill: #eaeaf2\"/>\n",
              "   </g>\n",
              "   <g clip-path=\"url(#pe7df0ced28)\">\n",
              "    <image xlink:href=\"data:image/png;base64,\n",
              "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\" id=\"image23f1dac394\" transform=\"scale(1 -1) translate(0 -164.16)\" x=\"401.082353\" y=\"-7.157647\" width=\"164.16\" height=\"164.16\"/>\n",
              "   </g>\n",
              "   <g id=\"matplotlib.axis_5\">\n",
              "    <g id=\"text_3\">\n",
              "     <!-- Combination of Causal Factors -->\n",
              "     <g style=\"fill: #262626\" transform=\"translate(400.775239 183.907022) scale(0.12 -0.12)\">\n",
              "      <defs>\n",
              "       <path id=\"ArialMT-43\" d=\"M 3763 1606 \n",
              "L 4369 1453 \n",
              "Q 4178 706 3683 314 \n",
              "Q 3188 -78 2472 -78 \n",
              "Q 1731 -78 1267 223 \n",
              "Q 803 525 561 1097 \n",
              "Q 319 1669 319 2325 \n",
              "Q 319 3041 592 3573 \n",
              "Q 866 4106 1370 4382 \n",
              "Q 1875 4659 2481 4659 \n",
              "Q 3169 4659 3637 4309 \n",
              "Q 4106 3959 4291 3325 \n",
              "L 3694 3184 \n",
              "Q 3534 3684 3231 3912 \n",
              "Q 2928 4141 2469 4141 \n",
              "Q 1941 4141 1586 3887 \n",
              "Q 1231 3634 1087 3207 \n",
              "Q 944 2781 944 2328 \n",
              "Q 944 1744 1114 1308 \n",
              "Q 1284 872 1643 656 \n",
              "Q 2003 441 2422 441 \n",
              "Q 2931 441 3284 734 \n",
              "Q 3638 1028 3763 1606 \n",
              "z\n",
              "\" transform=\"scale(0.015625)\"/>\n",
              "       <path id=\"ArialMT-6f\" d=\"M 213 1659 \n",
              "Q 213 2581 725 3025 \n",
              "Q 1153 3394 1769 3394 \n",
              "Q 2453 3394 2887 2945 \n",
              "Q 3322 2497 3322 1706 \n",
              "Q 3322 1066 3130 698 \n",
              "Q 2938 331 2570 128 \n",
              "Q 2203 -75 1769 -75 \n",
              "Q 1072 -75 642 372 \n",
              "Q 213 819 213 1659 \n",
              "z\n",
              "M 791 1659 \n",
              "Q 791 1022 1069 705 \n",
              "Q 1347 388 1769 388 \n",
              "Q 2188 388 2466 706 \n",
              "Q 2744 1025 2744 1678 \n",
              "Q 2744 2294 2464 2611 \n",
              "Q 2184 2928 1769 2928 \n",
              "Q 1347 2928 1069 2612 \n",
              "Q 791 2297 791 1659 \n",
              "z\n",
              "\" transform=\"scale(0.015625)\"/>\n",
              "       <path id=\"ArialMT-62\" d=\"M 941 0 \n",
              "L 419 0 \n",
              "L 419 4581 \n",
              "L 981 4581 \n",
              "L 981 2947 \n",
              "Q 1338 3394 1891 3394 \n",
              "Q 2197 3394 2470 3270 \n",
              "Q 2744 3147 2920 2923 \n",
              "Q 3097 2700 3197 2384 \n",
              "Q 3297 2069 3297 1709 \n",
              "Q 3297 856 2875 390 \n",
              "Q 2453 -75 1863 -75 \n",
              "Q 1275 -75 941 416 \n",
              "L 941 0 \n",
              "z\n",
              "M 934 1684 \n",
              "Q 934 1088 1097 822 \n",
              "Q 1363 388 1816 388 \n",
              "Q 2184 388 2453 708 \n",
              "Q 2722 1028 2722 1663 \n",
              "Q 2722 2313 2464 2622 \n",
              "Q 2206 2931 1841 2931 \n",
              "Q 1472 2931 1203 2611 \n",
              "Q 934 2291 934 1684 \n",
              "z\n",
              "\" transform=\"scale(0.015625)\"/>\n",
              "       <path id=\"ArialMT-69\" d=\"M 425 3934 \n",
              "L 425 4581 \n",
              "L 988 4581 \n",
              "L 988 3934 \n",
              "L 425 3934 \n",
              "z\n",
              "M 425 0 \n",
              "L 425 3319 \n",
              "L 988 3319 \n",
              "L 988 0 \n",
              "L 425 0 \n",
              "z\n",
              "\" transform=\"scale(0.015625)\"/>\n",
              "       <path id=\"ArialMT-6e\" d=\"M 422 0 \n",
              "L 422 3319 \n",
              "L 928 3319 \n",
              "L 928 2847 \n",
              "Q 1294 3394 1984 3394 \n",
              "Q 2284 3394 2536 3286 \n",
              "Q 2788 3178 2913 3003 \n",
              "Q 3038 2828 3088 2588 \n",
              "Q 3119 2431 3119 2041 \n",
              "L 3119 0 \n",
              "L 2556 0 \n",
              "L 2556 2019 \n",
              "Q 2556 2363 2490 2533 \n",
              "Q 2425 2703 2258 2804 \n",
              "Q 2091 2906 1866 2906 \n",
              "Q 1506 2906 1245 2678 \n",
              "Q 984 2450 984 1813 \n",
              "L 984 0 \n",
              "L 422 0 \n",
              "z\n",
              "\" transform=\"scale(0.015625)\"/>\n",
              "       <path id=\"ArialMT-74\" d=\"M 1650 503 \n",
              "L 1731 6 \n",
              "Q 1494 -44 1306 -44 \n",
              "Q 1000 -44 831 53 \n",
              "Q 663 150 594 308 \n",
              "Q 525 466 525 972 \n",
              "L 525 2881 \n",
              "L 113 2881 \n",
              "L 113 3319 \n",
              "L 525 3319 \n",
              "L 525 4141 \n",
              "L 1084 4478 \n",
              "L 1084 3319 \n",
              "L 1650 3319 \n",
              "L 1650 2881 \n",
              "L 1084 2881 \n",
              "L 1084 941 \n",
              "Q 1084 700 1114 631 \n",
              "Q 1144 563 1211 522 \n",
              "Q 1278 481 1403 481 \n",
              "Q 1497 481 1650 503 \n",
              "z\n",
              "\" transform=\"scale(0.015625)\"/>\n",
              "       <path id=\"ArialMT-66\" d=\"M 556 0 \n",
              "L 556 2881 \n",
              "L 59 2881 \n",
              "L 59 3319 \n",
              "L 556 3319 \n",
              "L 556 3672 \n",
              "Q 556 4006 616 4169 \n",
              "Q 697 4388 901 4523 \n",
              "Q 1106 4659 1475 4659 \n",
              "Q 1713 4659 2000 4603 \n",
              "L 1916 4113 \n",
              "Q 1741 4144 1584 4144 \n",
              "Q 1328 4144 1222 4034 \n",
              "Q 1116 3925 1116 3625 \n",
              "L 1116 3319 \n",
              "L 1763 3319 \n",
              "L 1763 2881 \n",
              "L 1116 2881 \n",
              "L 1116 0 \n",
              "L 556 0 \n",
              "z\n",
              "\" transform=\"scale(0.015625)\"/>\n",
              "       <path id=\"ArialMT-75\" d=\"M 2597 0 \n",
              "L 2597 488 \n",
              "Q 2209 -75 1544 -75 \n",
              "Q 1250 -75 995 37 \n",
              "Q 741 150 617 320 \n",
              "Q 494 491 444 738 \n",
              "Q 409 903 409 1263 \n",
              "L 409 3319 \n",
              "L 972 3319 \n",
              "L 972 1478 \n",
              "Q 972 1038 1006 884 \n",
              "Q 1059 663 1231 536 \n",
              "Q 1403 409 1656 409 \n",
              "Q 1909 409 2131 539 \n",
              "Q 2353 669 2445 892 \n",
              "Q 2538 1116 2538 1541 \n",
              "L 2538 3319 \n",
              "L 3100 3319 \n",
              "L 3100 0 \n",
              "L 2597 0 \n",
              "z\n",
              "\" transform=\"scale(0.015625)\"/>\n",
              "       <path id=\"ArialMT-73\" d=\"M 197 991 \n",
              "L 753 1078 \n",
              "Q 800 744 1014 566 \n",
              "Q 1228 388 1613 388 \n",
              "Q 2000 388 2187 545 \n",
              "Q 2375 703 2375 916 \n",
              "Q 2375 1106 2209 1216 \n",
              "Q 2094 1291 1634 1406 \n",
              "Q 1016 1563 777 1677 \n",
              "Q 538 1791 414 1992 \n",
              "Q 291 2194 291 2438 \n",
              "Q 291 2659 392 2848 \n",
              "Q 494 3038 669 3163 \n",
              "Q 800 3259 1026 3326 \n",
              "Q 1253 3394 1513 3394 \n",
              "Q 1903 3394 2198 3281 \n",
              "Q 2494 3169 2634 2976 \n",
              "Q 2775 2784 2828 2463 \n",
              "L 2278 2388 \n",
              "Q 2241 2644 2061 2787 \n",
              "Q 1881 2931 1553 2931 \n",
              "Q 1166 2931 1000 2803 \n",
              "Q 834 2675 834 2503 \n",
              "Q 834 2394 903 2306 \n",
              "Q 972 2216 1119 2156 \n",
              "Q 1203 2125 1616 2013 \n",
              "Q 2213 1853 2448 1751 \n",
              "Q 2684 1650 2818 1456 \n",
              "Q 2953 1263 2953 975 \n",
              "Q 2953 694 2789 445 \n",
              "Q 2625 197 2315 61 \n",
              "Q 2006 -75 1616 -75 \n",
              "Q 969 -75 630 194 \n",
              "Q 291 463 197 991 \n",
              "z\n",
              "\" transform=\"scale(0.015625)\"/>\n",
              "       <path id=\"ArialMT-6c\" d=\"M 409 0 \n",
              "L 409 4581 \n",
              "L 972 4581 \n",
              "L 972 0 \n",
              "L 409 0 \n",
              "z\n",
              "\" transform=\"scale(0.015625)\"/>\n",
              "       <path id=\"ArialMT-46\" d=\"M 525 0 \n",
              "L 525 4581 \n",
              "L 3616 4581 \n",
              "L 3616 4041 \n",
              "L 1131 4041 \n",
              "L 1131 2622 \n",
              "L 3281 2622 \n",
              "L 3281 2081 \n",
              "L 1131 2081 \n",
              "L 1131 0 \n",
              "L 525 0 \n",
              "z\n",
              "\" transform=\"scale(0.015625)\"/>\n",
              "       <path id=\"ArialMT-63\" d=\"M 2588 1216 \n",
              "L 3141 1144 \n",
              "Q 3050 572 2676 248 \n",
              "Q 2303 -75 1759 -75 \n",
              "Q 1078 -75 664 370 \n",
              "Q 250 816 250 1647 \n",
              "Q 250 2184 428 2587 \n",
              "Q 606 2991 970 3192 \n",
              "Q 1334 3394 1763 3394 \n",
              "Q 2303 3394 2647 3120 \n",
              "Q 2991 2847 3088 2344 \n",
              "L 2541 2259 \n",
              "Q 2463 2594 2264 2762 \n",
              "Q 2066 2931 1784 2931 \n",
              "Q 1359 2931 1093 2626 \n",
              "Q 828 2322 828 1663 \n",
              "Q 828 994 1084 691 \n",
              "Q 1341 388 1753 388 \n",
              "Q 2084 388 2306 591 \n",
              "Q 2528 794 2588 1216 \n",
              "z\n",
              "\" transform=\"scale(0.015625)\"/>\n",
              "       <path id=\"ArialMT-72\" d=\"M 416 0 \n",
              "L 416 3319 \n",
              "L 922 3319 \n",
              "L 922 2816 \n",
              "Q 1116 3169 1280 3281 \n",
              "Q 1444 3394 1641 3394 \n",
              "Q 1925 3394 2219 3213 \n",
              "L 2025 2691 \n",
              "Q 1819 2813 1613 2813 \n",
              "Q 1428 2813 1281 2702 \n",
              "Q 1134 2591 1072 2394 \n",
              "Q 978 2094 978 1738 \n",
              "L 978 0 \n",
              "L 416 0 \n",
              "z\n",
              "\" transform=\"scale(0.015625)\"/>\n",
              "      </defs>\n",
              "      <use xlink:href=\"#ArialMT-43\"/>\n",
              "      <use xlink:href=\"#ArialMT-6f\" x=\"72.216797\"/>\n",
              "      <use xlink:href=\"#ArialMT-6d\" x=\"127.832031\"/>\n",
              "      <use xlink:href=\"#ArialMT-62\" x=\"211.132812\"/>\n",
              "      <use xlink:href=\"#ArialMT-69\" x=\"266.748047\"/>\n",
              "      <use xlink:href=\"#ArialMT-6e\" x=\"288.964844\"/>\n",
              "      <use xlink:href=\"#ArialMT-61\" x=\"344.580078\"/>\n",
              "      <use xlink:href=\"#ArialMT-74\" x=\"400.195312\"/>\n",
              "      <use xlink:href=\"#ArialMT-69\" x=\"427.978516\"/>\n",
              "      <use xlink:href=\"#ArialMT-6f\" x=\"450.195312\"/>\n",
              "      <use xlink:href=\"#ArialMT-6e\" x=\"505.810547\"/>\n",
              "      <use xlink:href=\"#ArialMT-20\" x=\"561.425781\"/>\n",
              "      <use xlink:href=\"#ArialMT-6f\" x=\"589.208984\"/>\n",
              "      <use xlink:href=\"#ArialMT-66\" x=\"644.824219\"/>\n",
              "      <use xlink:href=\"#ArialMT-20\" x=\"672.607422\"/>\n",
              "      <use xlink:href=\"#ArialMT-43\" x=\"700.390625\"/>\n",
              "      <use xlink:href=\"#ArialMT-61\" x=\"772.607422\"/>\n",
              "      <use xlink:href=\"#ArialMT-75\" x=\"828.222656\"/>\n",
              "      <use xlink:href=\"#ArialMT-73\" x=\"883.837891\"/>\n",
              "      <use xlink:href=\"#ArialMT-61\" x=\"933.837891\"/>\n",
              "      <use xlink:href=\"#ArialMT-6c\" x=\"989.453125\"/>\n",
              "      <use xlink:href=\"#ArialMT-20\" x=\"1011.669922\"/>\n",
              "      <use xlink:href=\"#ArialMT-46\" x=\"1039.453125\"/>\n",
              "      <use xlink:href=\"#ArialMT-61\" x=\"1100.537109\"/>\n",
              "      <use xlink:href=\"#ArialMT-63\" x=\"1156.152344\"/>\n",
              "      <use xlink:href=\"#ArialMT-74\" x=\"1206.152344\"/>\n",
              "      <use xlink:href=\"#ArialMT-6f\" x=\"1233.935547\"/>\n",
              "      <use xlink:href=\"#ArialMT-72\" x=\"1289.550781\"/>\n",
              "      <use xlink:href=\"#ArialMT-73\" x=\"1322.851562\"/>\n",
              "     </g>\n",
              "    </g>\n",
              "   </g>\n",
              "   <g id=\"matplotlib.axis_6\"/>\n",
              "   <g id=\"patch_13\">\n",
              "    <path d=\"M 401.082353 171.317647 \n",
              "L 401.082353 7.2 \n",
              "\" style=\"fill: none; stroke: #ffffff; stroke-width: 1.25; stroke-linejoin: miter; stroke-linecap: square\"/>\n",
              "   </g>\n",
              "   <g id=\"patch_14\">\n",
              "    <path d=\"M 565.2 171.317647 \n",
              "L 565.2 7.2 \n",
              "\" style=\"fill: none; stroke: #ffffff; stroke-width: 1.25; stroke-linejoin: miter; stroke-linecap: square\"/>\n",
              "   </g>\n",
              "   <g id=\"patch_15\">\n",
              "    <path d=\"M 401.082353 171.317647 \n",
              "L 565.2 171.317647 \n",
              "\" style=\"fill: none; stroke: #ffffff; stroke-width: 1.25; stroke-linejoin: miter; stroke-linecap: square\"/>\n",
              "   </g>\n",
              "   <g id=\"patch_16\">\n",
              "    <path d=\"M 401.082353 7.2 \n",
              "L 565.2 7.2 \n",
              "\" style=\"fill: none; stroke: #ffffff; stroke-width: 1.25; stroke-linejoin: miter; stroke-linecap: square\"/>\n",
              "   </g>\n",
              "  </g>\n",
              " </g>\n",
              " <defs>\n",
              "  <clipPath id=\"p1ec97fbf3d\">\n",
              "   <rect x=\"7.2\" y=\"7.2\" width=\"164.117647\" height=\"164.117647\"/>\n",
              "  </clipPath>\n",
              "  <clipPath id=\"p799043b311\">\n",
              "   <rect x=\"204.141176\" y=\"7.2\" width=\"164.117647\" height=\"164.117647\"/>\n",
              "  </clipPath>\n",
              "  <clipPath id=\"pe7df0ced28\">\n",
              "   <rect x=\"401.082353\" y=\"7.2\" width=\"164.117647\" height=\"164.117647\"/>\n",
              "  </clipPath>\n",
              " </defs>\n",
              "</svg>\n"
            ],
            "text/plain": [
              "<Figure size 1000x500 with 3 Axes>"
            ]
          },
          "metadata": {},
          "output_type": "display_data"
        }
      ],
      "source": [
        "triplets = dict(np.load(os.path.join('CITRIS_DL2', 'data', 'causal3d_triplets.npz')))\n",
        "\n",
        "image_triplet = triplets['images'][0]\n",
        "\n",
        "plt.rcParams['figure.figsize'] = [10, 5]\n",
        "labels = ['Image 1', 'Image 2', 'Combination of Causal Factors']\n",
        "for i in range(3):\n",
        "    plt.subplot(1, 3, i+1)\n",
        "    plt.imshow(image_triplet[i])\n",
        "    plt.xlabel(labels[i])\n",
        "    plt.xticks([])\n",
        "    plt.yticks([])\n",
        "\n",
        "plt.show()"
      ]
    },
    {
      "cell_type": "markdown",
      "metadata": {
        "id": "y0dqvu1YnMmS"
      },
      "source": [
        "The triplet dataset further stores a binary mask $\\mathbf{m} \\in \\mathbb{R}^K$, whose $k$-th element is $1$ if $C_k$ was taken from image 2, and $0$ if it was taken from image 1."
      ]
    },
    {
      "cell_type": "code",
      "execution_count": 106,
      "metadata": {
        "id": "KjFZ5TDonMmS",
        "outputId": "5c3897d1-c098-4ba8-f694-98a4b9ff591c"
      },
      "outputs": [
        {
          "name": "stdout",
          "output_type": "stream",
          "text": [
            "Assigned to image 1: ['y_position', 'z_position', 'alpha_rotation', 'beta_rotation', 'theta_spot_light', 'hue_spot_light', 'hue_background']\n",
            "Assigned to image 2: ['x_position', 'gamma_rotation', 'hue_object', 'shape', 'material']\n"
          ]
        }
      ],
      "source": [
        "triplet_mask = triplets['mask'][0]\n",
        "mask_names = ['x_position', 'y_position', 'z_position', 'alpha_rotation', 'beta_rotation', 'gamma_rotation', 'theta_spot_light', 'hue_object', 'hue_spot_light', 'hue_background', 'shape', 'material']\n",
        "\n",
        "assigned_to = {0: [], 1: []}\n",
        "for mask_name, mask in zip(mask_names, triplet_mask):\n",
        "    assigned_to[mask].append(mask_name)\n",
        "\n",
        "print(f\"Assigned to image 1: {assigned_to[0]}\")\n",
        "print(f\"Assigned to image 2: {assigned_to[1]}\")"
      ]
    },
    {
      "cell_type": "markdown",
      "metadata": {
        "id": "AFnHvkugnMmS"
      },
      "source": [
        "For evaluation, we encode the two test images independently, perform the combination of ground-truth causal factors as is done for the third image in latent space, and use the decoder to generate a new image, which ideally resembles the ground-truth third image."
      ]
    },
    {
      "cell_type": "code",
      "execution_count": 107,
      "metadata": {
        "id": "NfWnjKevnMmS"
      },
      "outputs": [],
      "source": [
        "@torch.no_grad()\n",
        "def encode(imgs):\n",
        "    imgs = torch.from_numpy(imgs)[...,:3]\n",
        "    if len(imgs.shape) == 5:\n",
        "        imgs = imgs.permute(0, 1, 4, 2, 3)\n",
        "        imgs = imgs.flatten(0, 1)\n",
        "    else:\n",
        "        imgs = imgs.permute(0, 3, 1, 2)\n",
        "        imgs = imgs.flatten(0)\n",
        "    print(imgs.shape)\n",
        "    imgs = imgs.float() / 255.0\n",
        "    imgs = imgs * 2.0 - 1.0\n",
        "    encs = model.autoencoder.encoder(imgs)\n",
        "    encs = encs.unflatten(0, (-1, triplets['images'].shape[1]))\n",
        "    return encs"
      ]
    },
    {
      "cell_type": "code",
      "execution_count": 108,
      "metadata": {
        "id": "ISbRxmyCnMmS"
      },
      "outputs": [],
      "source": [
        "@torch.no_grad()\n",
        "def triplet_reconstruction(imgs, source):\n",
        "    # Encode Images\n",
        "    x_encs = encode(imgs)\n",
        "\n",
        "    # Pass through the normalizing flow to disentagle the latent space\n",
        "    input_samples, _ = model.flow(x_encs[:,:2].flatten(0, 1))\n",
        "    input_samples = input_samples.unflatten(0, (-1, 2))\n",
        "\n",
        "    # Get the assignment of the latent variables to the causal ones\n",
        "    target_assignment = model.prior_t1.get_target_assignment(hard=True)\n",
        "\n",
        "    # Take the latent variables from the encoding of image 1 respective to the mask\n",
        "    mask_1 = (target_assignment[None,:,:] * (1 - source[:,None,:])).sum(dim=-1)\n",
        "    # Take the rest from image 2\n",
        "    mask_2 = 1 - mask_1\n",
        "\n",
        "    # Create an encoding with the combination of causal variables from image 1 and image 2\n",
        "    triplet_samples = mask_1 * input_samples[:,0] + mask_2 * input_samples[:,1]\n",
        "\n",
        "    # Reverse the flow from the triplet_samples\n",
        "    triplet_samples = model.flow.reverse(triplet_samples)\n",
        "\n",
        "    # Decode and get the new image\n",
        "    triplet_rec = model.autoencoder.decoder(triplet_samples)\n",
        "\n",
        "    return triplet_rec"
      ]
    },
    {
      "cell_type": "code",
      "execution_count": 110,
      "metadata": {
        "id": "URmhMIuXnMmS",
        "outputId": "193fc79a-ce90-4bb2-a4ab-6f3d0423361f"
      },
      "outputs": [
        {
          "name": "stdout",
          "output_type": "stream",
          "text": [
            "torch.Size([9, 3, 64, 64])\n"
          ]
        },
        {
          "ename": "RuntimeError",
          "evalue": "Input type (torch.FloatTensor) and weight type (torch.cuda.FloatTensor) should be the same or input should be a MKLDNN tensor and weight is a dense tensor",
          "output_type": "error",
          "traceback": [
            "\u001b[1;31m---------------------------------------------------------------------------\u001b[0m",
            "\u001b[1;31mRuntimeError\u001b[0m                              Traceback (most recent call last)",
            "Cell \u001b[1;32mIn[110], line 1\u001b[0m\n\u001b[1;32m----> 1\u001b[0m triplet_rec \u001b[38;5;241m=\u001b[39m \u001b[43mtriplet_reconstruction\u001b[49m\u001b[43m(\u001b[49m\u001b[43mtriplets\u001b[49m\u001b[43m[\u001b[49m\u001b[38;5;124;43m'\u001b[39;49m\u001b[38;5;124;43mimages\u001b[39;49m\u001b[38;5;124;43m'\u001b[39;49m\u001b[43m]\u001b[49m\u001b[43m[\u001b[49m\u001b[38;5;241;43m0\u001b[39;49m\u001b[43m:\u001b[49m\u001b[38;5;241;43m3\u001b[39;49m\u001b[43m]\u001b[49m\u001b[43m,\u001b[49m\u001b[43m \u001b[49m\u001b[43mtriplets\u001b[49m\u001b[43m[\u001b[49m\u001b[38;5;124;43m'\u001b[39;49m\u001b[38;5;124;43mmask\u001b[39;49m\u001b[38;5;124;43m'\u001b[39;49m\u001b[43m]\u001b[49m\u001b[43m[\u001b[49m\u001b[38;5;241;43m0\u001b[39;49m\u001b[43m:\u001b[49m\u001b[38;5;241;43m3\u001b[39;49m\u001b[43m,\u001b[49m\u001b[43m \u001b[49m\u001b[43m[\u001b[49m\u001b[38;5;241;43m0\u001b[39;49m\u001b[43m,\u001b[49m\u001b[38;5;241;43m1\u001b[39;49m\u001b[43m,\u001b[49m\u001b[38;5;241;43m2\u001b[39;49m\u001b[43m,\u001b[49m\u001b[38;5;241;43m3\u001b[39;49m\u001b[43m,\u001b[49m\u001b[38;5;241;43m4\u001b[39;49m\u001b[43m,\u001b[49m\u001b[38;5;241;43m6\u001b[39;49m\u001b[43m,\u001b[49m\u001b[38;5;241;43m7\u001b[39;49m\u001b[43m,\u001b[49m\u001b[38;5;241;43m8\u001b[39;49m\u001b[43m,\u001b[49m\u001b[38;5;241;43m9\u001b[39;49m\u001b[43m,\u001b[49m\u001b[38;5;241;43m10\u001b[39;49m\u001b[43m]\u001b[49m\u001b[43m]\u001b[49m\u001b[43m)\u001b[49m\n",
            "File \u001b[1;32md:\\Disciplinas\\DeepLearning\\code\\.virtualenvs\\machinelearning\\lib\\site-packages\\torch\\utils\\_contextlib.py:115\u001b[0m, in \u001b[0;36mcontext_decorator.<locals>.decorate_context\u001b[1;34m(*args, **kwargs)\u001b[0m\n\u001b[0;32m    112\u001b[0m \u001b[38;5;129m@functools\u001b[39m\u001b[38;5;241m.\u001b[39mwraps(func)\n\u001b[0;32m    113\u001b[0m \u001b[38;5;28;01mdef\u001b[39;00m \u001b[38;5;21mdecorate_context\u001b[39m(\u001b[38;5;241m*\u001b[39margs, \u001b[38;5;241m*\u001b[39m\u001b[38;5;241m*\u001b[39mkwargs):\n\u001b[0;32m    114\u001b[0m     \u001b[38;5;28;01mwith\u001b[39;00m ctx_factory():\n\u001b[1;32m--> 115\u001b[0m         \u001b[38;5;28;01mreturn\u001b[39;00m func(\u001b[38;5;241m*\u001b[39margs, \u001b[38;5;241m*\u001b[39m\u001b[38;5;241m*\u001b[39mkwargs)\n",
            "Cell \u001b[1;32mIn[108], line 4\u001b[0m, in \u001b[0;36mtriplet_reconstruction\u001b[1;34m(imgs, source)\u001b[0m\n\u001b[0;32m      1\u001b[0m \u001b[38;5;129m@torch\u001b[39m\u001b[38;5;241m.\u001b[39mno_grad()\n\u001b[0;32m      2\u001b[0m \u001b[38;5;28;01mdef\u001b[39;00m \u001b[38;5;21mtriplet_reconstruction\u001b[39m(imgs, source):\n\u001b[0;32m      3\u001b[0m     \u001b[38;5;66;03m# Encode Images\u001b[39;00m\n\u001b[1;32m----> 4\u001b[0m     x_encs \u001b[38;5;241m=\u001b[39m \u001b[43mencode\u001b[49m\u001b[43m(\u001b[49m\u001b[43mimgs\u001b[49m\u001b[43m)\u001b[49m\n\u001b[0;32m      6\u001b[0m     \u001b[38;5;66;03m# Pass through the normalizing flow to disentagle the latent space\u001b[39;00m\n\u001b[0;32m      7\u001b[0m     input_samples, _ \u001b[38;5;241m=\u001b[39m model\u001b[38;5;241m.\u001b[39mflow(x_encs[:,:\u001b[38;5;241m2\u001b[39m]\u001b[38;5;241m.\u001b[39mflatten(\u001b[38;5;241m0\u001b[39m, \u001b[38;5;241m1\u001b[39m))\n",
            "File \u001b[1;32md:\\Disciplinas\\DeepLearning\\code\\.virtualenvs\\machinelearning\\lib\\site-packages\\torch\\utils\\_contextlib.py:115\u001b[0m, in \u001b[0;36mcontext_decorator.<locals>.decorate_context\u001b[1;34m(*args, **kwargs)\u001b[0m\n\u001b[0;32m    112\u001b[0m \u001b[38;5;129m@functools\u001b[39m\u001b[38;5;241m.\u001b[39mwraps(func)\n\u001b[0;32m    113\u001b[0m \u001b[38;5;28;01mdef\u001b[39;00m \u001b[38;5;21mdecorate_context\u001b[39m(\u001b[38;5;241m*\u001b[39margs, \u001b[38;5;241m*\u001b[39m\u001b[38;5;241m*\u001b[39mkwargs):\n\u001b[0;32m    114\u001b[0m     \u001b[38;5;28;01mwith\u001b[39;00m ctx_factory():\n\u001b[1;32m--> 115\u001b[0m         \u001b[38;5;28;01mreturn\u001b[39;00m func(\u001b[38;5;241m*\u001b[39margs, \u001b[38;5;241m*\u001b[39m\u001b[38;5;241m*\u001b[39mkwargs)\n",
            "Cell \u001b[1;32mIn[107], line 13\u001b[0m, in \u001b[0;36mencode\u001b[1;34m(imgs)\u001b[0m\n\u001b[0;32m     11\u001b[0m imgs \u001b[38;5;241m=\u001b[39m imgs\u001b[38;5;241m.\u001b[39mfloat() \u001b[38;5;241m/\u001b[39m \u001b[38;5;241m255.0\u001b[39m\n\u001b[0;32m     12\u001b[0m imgs \u001b[38;5;241m=\u001b[39m imgs \u001b[38;5;241m*\u001b[39m \u001b[38;5;241m2.0\u001b[39m \u001b[38;5;241m-\u001b[39m \u001b[38;5;241m1.0\u001b[39m\n\u001b[1;32m---> 13\u001b[0m encs \u001b[38;5;241m=\u001b[39m \u001b[43mmodel\u001b[49m\u001b[38;5;241;43m.\u001b[39;49m\u001b[43mautoencoder\u001b[49m\u001b[38;5;241;43m.\u001b[39;49m\u001b[43mencoder\u001b[49m\u001b[43m(\u001b[49m\u001b[43mimgs\u001b[49m\u001b[43m)\u001b[49m\n\u001b[0;32m     14\u001b[0m encs \u001b[38;5;241m=\u001b[39m encs\u001b[38;5;241m.\u001b[39munflatten(\u001b[38;5;241m0\u001b[39m, (\u001b[38;5;241m-\u001b[39m\u001b[38;5;241m1\u001b[39m, triplets[\u001b[38;5;124m'\u001b[39m\u001b[38;5;124mimages\u001b[39m\u001b[38;5;124m'\u001b[39m]\u001b[38;5;241m.\u001b[39mshape[\u001b[38;5;241m1\u001b[39m]))\n\u001b[0;32m     15\u001b[0m \u001b[38;5;28;01mreturn\u001b[39;00m encs\n",
            "File \u001b[1;32md:\\Disciplinas\\DeepLearning\\code\\.virtualenvs\\machinelearning\\lib\\site-packages\\torch\\nn\\modules\\module.py:1527\u001b[0m, in \u001b[0;36mModule._wrapped_call_impl\u001b[1;34m(self, *args, **kwargs)\u001b[0m\n\u001b[0;32m   1525\u001b[0m     \u001b[38;5;28;01mreturn\u001b[39;00m \u001b[38;5;28mself\u001b[39m\u001b[38;5;241m.\u001b[39m_compiled_call_impl(\u001b[38;5;241m*\u001b[39margs, \u001b[38;5;241m*\u001b[39m\u001b[38;5;241m*\u001b[39mkwargs)  \u001b[38;5;66;03m# type: ignore[misc]\u001b[39;00m\n\u001b[0;32m   1526\u001b[0m \u001b[38;5;28;01melse\u001b[39;00m:\n\u001b[1;32m-> 1527\u001b[0m     \u001b[38;5;28;01mreturn\u001b[39;00m \u001b[38;5;28mself\u001b[39m\u001b[38;5;241m.\u001b[39m_call_impl(\u001b[38;5;241m*\u001b[39margs, \u001b[38;5;241m*\u001b[39m\u001b[38;5;241m*\u001b[39mkwargs)\n",
            "File \u001b[1;32md:\\Disciplinas\\DeepLearning\\code\\.virtualenvs\\machinelearning\\lib\\site-packages\\torch\\nn\\modules\\module.py:1536\u001b[0m, in \u001b[0;36mModule._call_impl\u001b[1;34m(self, *args, **kwargs)\u001b[0m\n\u001b[0;32m   1531\u001b[0m \u001b[38;5;66;03m# If we don't have any hooks, we want to skip the rest of the logic in\u001b[39;00m\n\u001b[0;32m   1532\u001b[0m \u001b[38;5;66;03m# this function, and just call forward.\u001b[39;00m\n\u001b[0;32m   1533\u001b[0m \u001b[38;5;28;01mif\u001b[39;00m \u001b[38;5;129;01mnot\u001b[39;00m (\u001b[38;5;28mself\u001b[39m\u001b[38;5;241m.\u001b[39m_backward_hooks \u001b[38;5;129;01mor\u001b[39;00m \u001b[38;5;28mself\u001b[39m\u001b[38;5;241m.\u001b[39m_backward_pre_hooks \u001b[38;5;129;01mor\u001b[39;00m \u001b[38;5;28mself\u001b[39m\u001b[38;5;241m.\u001b[39m_forward_hooks \u001b[38;5;129;01mor\u001b[39;00m \u001b[38;5;28mself\u001b[39m\u001b[38;5;241m.\u001b[39m_forward_pre_hooks\n\u001b[0;32m   1534\u001b[0m         \u001b[38;5;129;01mor\u001b[39;00m _global_backward_pre_hooks \u001b[38;5;129;01mor\u001b[39;00m _global_backward_hooks\n\u001b[0;32m   1535\u001b[0m         \u001b[38;5;129;01mor\u001b[39;00m _global_forward_hooks \u001b[38;5;129;01mor\u001b[39;00m _global_forward_pre_hooks):\n\u001b[1;32m-> 1536\u001b[0m     \u001b[38;5;28;01mreturn\u001b[39;00m forward_call(\u001b[38;5;241m*\u001b[39margs, \u001b[38;5;241m*\u001b[39m\u001b[38;5;241m*\u001b[39mkwargs)\n\u001b[0;32m   1538\u001b[0m \u001b[38;5;28;01mtry\u001b[39;00m:\n\u001b[0;32m   1539\u001b[0m     result \u001b[38;5;241m=\u001b[39m \u001b[38;5;28;01mNone\u001b[39;00m\n",
            "File \u001b[1;32md:\\Disciplinas\\DeepLearning\\code\\CITRIS_DL2\\models\\shared\\encoder_decoder.py:50\u001b[0m, in \u001b[0;36mEncoder.forward\u001b[1;34m(self, img)\u001b[0m\n\u001b[0;32m     49\u001b[0m \u001b[38;5;28;01mdef\u001b[39;00m \u001b[38;5;21mforward\u001b[39m(\u001b[38;5;28mself\u001b[39m, img):\n\u001b[1;32m---> 50\u001b[0m     feats \u001b[38;5;241m=\u001b[39m \u001b[38;5;28;43mself\u001b[39;49m\u001b[38;5;241;43m.\u001b[39;49m\u001b[43mnet\u001b[49m\u001b[43m(\u001b[49m\u001b[43mimg\u001b[49m\u001b[43m)\u001b[49m\n\u001b[0;32m     51\u001b[0m     \u001b[38;5;28;01mif\u001b[39;00m \u001b[38;5;28mself\u001b[39m\u001b[38;5;241m.\u001b[39mvariational:\n\u001b[0;32m     52\u001b[0m         mean, log_std \u001b[38;5;241m=\u001b[39m feats\u001b[38;5;241m.\u001b[39mchunk(\u001b[38;5;241m2\u001b[39m, dim\u001b[38;5;241m=\u001b[39m\u001b[38;5;241m-\u001b[39m\u001b[38;5;241m1\u001b[39m)\n",
            "File \u001b[1;32md:\\Disciplinas\\DeepLearning\\code\\.virtualenvs\\machinelearning\\lib\\site-packages\\torch\\nn\\modules\\module.py:1527\u001b[0m, in \u001b[0;36mModule._wrapped_call_impl\u001b[1;34m(self, *args, **kwargs)\u001b[0m\n\u001b[0;32m   1525\u001b[0m     \u001b[38;5;28;01mreturn\u001b[39;00m \u001b[38;5;28mself\u001b[39m\u001b[38;5;241m.\u001b[39m_compiled_call_impl(\u001b[38;5;241m*\u001b[39margs, \u001b[38;5;241m*\u001b[39m\u001b[38;5;241m*\u001b[39mkwargs)  \u001b[38;5;66;03m# type: ignore[misc]\u001b[39;00m\n\u001b[0;32m   1526\u001b[0m \u001b[38;5;28;01melse\u001b[39;00m:\n\u001b[1;32m-> 1527\u001b[0m     \u001b[38;5;28;01mreturn\u001b[39;00m \u001b[38;5;28mself\u001b[39m\u001b[38;5;241m.\u001b[39m_call_impl(\u001b[38;5;241m*\u001b[39margs, \u001b[38;5;241m*\u001b[39m\u001b[38;5;241m*\u001b[39mkwargs)\n",
            "File \u001b[1;32md:\\Disciplinas\\DeepLearning\\code\\.virtualenvs\\machinelearning\\lib\\site-packages\\torch\\nn\\modules\\module.py:1536\u001b[0m, in \u001b[0;36mModule._call_impl\u001b[1;34m(self, *args, **kwargs)\u001b[0m\n\u001b[0;32m   1531\u001b[0m \u001b[38;5;66;03m# If we don't have any hooks, we want to skip the rest of the logic in\u001b[39;00m\n\u001b[0;32m   1532\u001b[0m \u001b[38;5;66;03m# this function, and just call forward.\u001b[39;00m\n\u001b[0;32m   1533\u001b[0m \u001b[38;5;28;01mif\u001b[39;00m \u001b[38;5;129;01mnot\u001b[39;00m (\u001b[38;5;28mself\u001b[39m\u001b[38;5;241m.\u001b[39m_backward_hooks \u001b[38;5;129;01mor\u001b[39;00m \u001b[38;5;28mself\u001b[39m\u001b[38;5;241m.\u001b[39m_backward_pre_hooks \u001b[38;5;129;01mor\u001b[39;00m \u001b[38;5;28mself\u001b[39m\u001b[38;5;241m.\u001b[39m_forward_hooks \u001b[38;5;129;01mor\u001b[39;00m \u001b[38;5;28mself\u001b[39m\u001b[38;5;241m.\u001b[39m_forward_pre_hooks\n\u001b[0;32m   1534\u001b[0m         \u001b[38;5;129;01mor\u001b[39;00m _global_backward_pre_hooks \u001b[38;5;129;01mor\u001b[39;00m _global_backward_hooks\n\u001b[0;32m   1535\u001b[0m         \u001b[38;5;129;01mor\u001b[39;00m _global_forward_hooks \u001b[38;5;129;01mor\u001b[39;00m _global_forward_pre_hooks):\n\u001b[1;32m-> 1536\u001b[0m     \u001b[38;5;28;01mreturn\u001b[39;00m forward_call(\u001b[38;5;241m*\u001b[39margs, \u001b[38;5;241m*\u001b[39m\u001b[38;5;241m*\u001b[39mkwargs)\n\u001b[0;32m   1538\u001b[0m \u001b[38;5;28;01mtry\u001b[39;00m:\n\u001b[0;32m   1539\u001b[0m     result \u001b[38;5;241m=\u001b[39m \u001b[38;5;28;01mNone\u001b[39;00m\n",
            "File \u001b[1;32md:\\Disciplinas\\DeepLearning\\code\\.virtualenvs\\machinelearning\\lib\\site-packages\\torch\\nn\\modules\\container.py:217\u001b[0m, in \u001b[0;36mSequential.forward\u001b[1;34m(self, input)\u001b[0m\n\u001b[0;32m    215\u001b[0m \u001b[38;5;28;01mdef\u001b[39;00m \u001b[38;5;21mforward\u001b[39m(\u001b[38;5;28mself\u001b[39m, \u001b[38;5;28minput\u001b[39m):\n\u001b[0;32m    216\u001b[0m     \u001b[38;5;28;01mfor\u001b[39;00m module \u001b[38;5;129;01min\u001b[39;00m \u001b[38;5;28mself\u001b[39m:\n\u001b[1;32m--> 217\u001b[0m         \u001b[38;5;28minput\u001b[39m \u001b[38;5;241m=\u001b[39m \u001b[43mmodule\u001b[49m\u001b[43m(\u001b[49m\u001b[38;5;28;43minput\u001b[39;49m\u001b[43m)\u001b[49m\n\u001b[0;32m    218\u001b[0m     \u001b[38;5;28;01mreturn\u001b[39;00m \u001b[38;5;28minput\u001b[39m\n",
            "File \u001b[1;32md:\\Disciplinas\\DeepLearning\\code\\.virtualenvs\\machinelearning\\lib\\site-packages\\torch\\nn\\modules\\module.py:1527\u001b[0m, in \u001b[0;36mModule._wrapped_call_impl\u001b[1;34m(self, *args, **kwargs)\u001b[0m\n\u001b[0;32m   1525\u001b[0m     \u001b[38;5;28;01mreturn\u001b[39;00m \u001b[38;5;28mself\u001b[39m\u001b[38;5;241m.\u001b[39m_compiled_call_impl(\u001b[38;5;241m*\u001b[39margs, \u001b[38;5;241m*\u001b[39m\u001b[38;5;241m*\u001b[39mkwargs)  \u001b[38;5;66;03m# type: ignore[misc]\u001b[39;00m\n\u001b[0;32m   1526\u001b[0m \u001b[38;5;28;01melse\u001b[39;00m:\n\u001b[1;32m-> 1527\u001b[0m     \u001b[38;5;28;01mreturn\u001b[39;00m \u001b[38;5;28mself\u001b[39m\u001b[38;5;241m.\u001b[39m_call_impl(\u001b[38;5;241m*\u001b[39margs, \u001b[38;5;241m*\u001b[39m\u001b[38;5;241m*\u001b[39mkwargs)\n",
            "File \u001b[1;32md:\\Disciplinas\\DeepLearning\\code\\.virtualenvs\\machinelearning\\lib\\site-packages\\torch\\nn\\modules\\module.py:1536\u001b[0m, in \u001b[0;36mModule._call_impl\u001b[1;34m(self, *args, **kwargs)\u001b[0m\n\u001b[0;32m   1531\u001b[0m \u001b[38;5;66;03m# If we don't have any hooks, we want to skip the rest of the logic in\u001b[39;00m\n\u001b[0;32m   1532\u001b[0m \u001b[38;5;66;03m# this function, and just call forward.\u001b[39;00m\n\u001b[0;32m   1533\u001b[0m \u001b[38;5;28;01mif\u001b[39;00m \u001b[38;5;129;01mnot\u001b[39;00m (\u001b[38;5;28mself\u001b[39m\u001b[38;5;241m.\u001b[39m_backward_hooks \u001b[38;5;129;01mor\u001b[39;00m \u001b[38;5;28mself\u001b[39m\u001b[38;5;241m.\u001b[39m_backward_pre_hooks \u001b[38;5;129;01mor\u001b[39;00m \u001b[38;5;28mself\u001b[39m\u001b[38;5;241m.\u001b[39m_forward_hooks \u001b[38;5;129;01mor\u001b[39;00m \u001b[38;5;28mself\u001b[39m\u001b[38;5;241m.\u001b[39m_forward_pre_hooks\n\u001b[0;32m   1534\u001b[0m         \u001b[38;5;129;01mor\u001b[39;00m _global_backward_pre_hooks \u001b[38;5;129;01mor\u001b[39;00m _global_backward_hooks\n\u001b[0;32m   1535\u001b[0m         \u001b[38;5;129;01mor\u001b[39;00m _global_forward_hooks \u001b[38;5;129;01mor\u001b[39;00m _global_forward_pre_hooks):\n\u001b[1;32m-> 1536\u001b[0m     \u001b[38;5;28;01mreturn\u001b[39;00m forward_call(\u001b[38;5;241m*\u001b[39margs, \u001b[38;5;241m*\u001b[39m\u001b[38;5;241m*\u001b[39mkwargs)\n\u001b[0;32m   1538\u001b[0m \u001b[38;5;28;01mtry\u001b[39;00m:\n\u001b[0;32m   1539\u001b[0m     result \u001b[38;5;241m=\u001b[39m \u001b[38;5;28;01mNone\u001b[39;00m\n",
            "File \u001b[1;32md:\\Disciplinas\\DeepLearning\\code\\.virtualenvs\\machinelearning\\lib\\site-packages\\torch\\nn\\modules\\container.py:217\u001b[0m, in \u001b[0;36mSequential.forward\u001b[1;34m(self, input)\u001b[0m\n\u001b[0;32m    215\u001b[0m \u001b[38;5;28;01mdef\u001b[39;00m \u001b[38;5;21mforward\u001b[39m(\u001b[38;5;28mself\u001b[39m, \u001b[38;5;28minput\u001b[39m):\n\u001b[0;32m    216\u001b[0m     \u001b[38;5;28;01mfor\u001b[39;00m module \u001b[38;5;129;01min\u001b[39;00m \u001b[38;5;28mself\u001b[39m:\n\u001b[1;32m--> 217\u001b[0m         \u001b[38;5;28minput\u001b[39m \u001b[38;5;241m=\u001b[39m \u001b[43mmodule\u001b[49m\u001b[43m(\u001b[49m\u001b[38;5;28;43minput\u001b[39;49m\u001b[43m)\u001b[49m\n\u001b[0;32m    218\u001b[0m     \u001b[38;5;28;01mreturn\u001b[39;00m \u001b[38;5;28minput\u001b[39m\n",
            "File \u001b[1;32md:\\Disciplinas\\DeepLearning\\code\\.virtualenvs\\machinelearning\\lib\\site-packages\\torch\\nn\\modules\\module.py:1527\u001b[0m, in \u001b[0;36mModule._wrapped_call_impl\u001b[1;34m(self, *args, **kwargs)\u001b[0m\n\u001b[0;32m   1525\u001b[0m     \u001b[38;5;28;01mreturn\u001b[39;00m \u001b[38;5;28mself\u001b[39m\u001b[38;5;241m.\u001b[39m_compiled_call_impl(\u001b[38;5;241m*\u001b[39margs, \u001b[38;5;241m*\u001b[39m\u001b[38;5;241m*\u001b[39mkwargs)  \u001b[38;5;66;03m# type: ignore[misc]\u001b[39;00m\n\u001b[0;32m   1526\u001b[0m \u001b[38;5;28;01melse\u001b[39;00m:\n\u001b[1;32m-> 1527\u001b[0m     \u001b[38;5;28;01mreturn\u001b[39;00m \u001b[38;5;28mself\u001b[39m\u001b[38;5;241m.\u001b[39m_call_impl(\u001b[38;5;241m*\u001b[39margs, \u001b[38;5;241m*\u001b[39m\u001b[38;5;241m*\u001b[39mkwargs)\n",
            "File \u001b[1;32md:\\Disciplinas\\DeepLearning\\code\\.virtualenvs\\machinelearning\\lib\\site-packages\\torch\\nn\\modules\\module.py:1536\u001b[0m, in \u001b[0;36mModule._call_impl\u001b[1;34m(self, *args, **kwargs)\u001b[0m\n\u001b[0;32m   1531\u001b[0m \u001b[38;5;66;03m# If we don't have any hooks, we want to skip the rest of the logic in\u001b[39;00m\n\u001b[0;32m   1532\u001b[0m \u001b[38;5;66;03m# this function, and just call forward.\u001b[39;00m\n\u001b[0;32m   1533\u001b[0m \u001b[38;5;28;01mif\u001b[39;00m \u001b[38;5;129;01mnot\u001b[39;00m (\u001b[38;5;28mself\u001b[39m\u001b[38;5;241m.\u001b[39m_backward_hooks \u001b[38;5;129;01mor\u001b[39;00m \u001b[38;5;28mself\u001b[39m\u001b[38;5;241m.\u001b[39m_backward_pre_hooks \u001b[38;5;129;01mor\u001b[39;00m \u001b[38;5;28mself\u001b[39m\u001b[38;5;241m.\u001b[39m_forward_hooks \u001b[38;5;129;01mor\u001b[39;00m \u001b[38;5;28mself\u001b[39m\u001b[38;5;241m.\u001b[39m_forward_pre_hooks\n\u001b[0;32m   1534\u001b[0m         \u001b[38;5;129;01mor\u001b[39;00m _global_backward_pre_hooks \u001b[38;5;129;01mor\u001b[39;00m _global_backward_hooks\n\u001b[0;32m   1535\u001b[0m         \u001b[38;5;129;01mor\u001b[39;00m _global_forward_hooks \u001b[38;5;129;01mor\u001b[39;00m _global_forward_pre_hooks):\n\u001b[1;32m-> 1536\u001b[0m     \u001b[38;5;28;01mreturn\u001b[39;00m forward_call(\u001b[38;5;241m*\u001b[39margs, \u001b[38;5;241m*\u001b[39m\u001b[38;5;241m*\u001b[39mkwargs)\n\u001b[0;32m   1538\u001b[0m \u001b[38;5;28;01mtry\u001b[39;00m:\n\u001b[0;32m   1539\u001b[0m     result \u001b[38;5;241m=\u001b[39m \u001b[38;5;28;01mNone\u001b[39;00m\n",
            "File \u001b[1;32md:\\Disciplinas\\DeepLearning\\code\\.virtualenvs\\machinelearning\\lib\\site-packages\\torch\\nn\\modules\\conv.py:460\u001b[0m, in \u001b[0;36mConv2d.forward\u001b[1;34m(self, input)\u001b[0m\n\u001b[0;32m    459\u001b[0m \u001b[38;5;28;01mdef\u001b[39;00m \u001b[38;5;21mforward\u001b[39m(\u001b[38;5;28mself\u001b[39m, \u001b[38;5;28minput\u001b[39m: Tensor) \u001b[38;5;241m-\u001b[39m\u001b[38;5;241m>\u001b[39m Tensor:\n\u001b[1;32m--> 460\u001b[0m     \u001b[38;5;28;01mreturn\u001b[39;00m \u001b[38;5;28;43mself\u001b[39;49m\u001b[38;5;241;43m.\u001b[39;49m\u001b[43m_conv_forward\u001b[49m\u001b[43m(\u001b[49m\u001b[38;5;28;43minput\u001b[39;49m\u001b[43m,\u001b[49m\u001b[43m \u001b[49m\u001b[38;5;28;43mself\u001b[39;49m\u001b[38;5;241;43m.\u001b[39;49m\u001b[43mweight\u001b[49m\u001b[43m,\u001b[49m\u001b[43m \u001b[49m\u001b[38;5;28;43mself\u001b[39;49m\u001b[38;5;241;43m.\u001b[39;49m\u001b[43mbias\u001b[49m\u001b[43m)\u001b[49m\n",
            "File \u001b[1;32md:\\Disciplinas\\DeepLearning\\code\\.virtualenvs\\machinelearning\\lib\\site-packages\\torch\\nn\\modules\\conv.py:456\u001b[0m, in \u001b[0;36mConv2d._conv_forward\u001b[1;34m(self, input, weight, bias)\u001b[0m\n\u001b[0;32m    452\u001b[0m \u001b[38;5;28;01mif\u001b[39;00m \u001b[38;5;28mself\u001b[39m\u001b[38;5;241m.\u001b[39mpadding_mode \u001b[38;5;241m!=\u001b[39m \u001b[38;5;124m'\u001b[39m\u001b[38;5;124mzeros\u001b[39m\u001b[38;5;124m'\u001b[39m:\n\u001b[0;32m    453\u001b[0m     \u001b[38;5;28;01mreturn\u001b[39;00m F\u001b[38;5;241m.\u001b[39mconv2d(F\u001b[38;5;241m.\u001b[39mpad(\u001b[38;5;28minput\u001b[39m, \u001b[38;5;28mself\u001b[39m\u001b[38;5;241m.\u001b[39m_reversed_padding_repeated_twice, mode\u001b[38;5;241m=\u001b[39m\u001b[38;5;28mself\u001b[39m\u001b[38;5;241m.\u001b[39mpadding_mode),\n\u001b[0;32m    454\u001b[0m                     weight, bias, \u001b[38;5;28mself\u001b[39m\u001b[38;5;241m.\u001b[39mstride,\n\u001b[0;32m    455\u001b[0m                     _pair(\u001b[38;5;241m0\u001b[39m), \u001b[38;5;28mself\u001b[39m\u001b[38;5;241m.\u001b[39mdilation, \u001b[38;5;28mself\u001b[39m\u001b[38;5;241m.\u001b[39mgroups)\n\u001b[1;32m--> 456\u001b[0m \u001b[38;5;28;01mreturn\u001b[39;00m \u001b[43mF\u001b[49m\u001b[38;5;241;43m.\u001b[39;49m\u001b[43mconv2d\u001b[49m\u001b[43m(\u001b[49m\u001b[38;5;28;43minput\u001b[39;49m\u001b[43m,\u001b[49m\u001b[43m \u001b[49m\u001b[43mweight\u001b[49m\u001b[43m,\u001b[49m\u001b[43m \u001b[49m\u001b[43mbias\u001b[49m\u001b[43m,\u001b[49m\u001b[43m \u001b[49m\u001b[38;5;28;43mself\u001b[39;49m\u001b[38;5;241;43m.\u001b[39;49m\u001b[43mstride\u001b[49m\u001b[43m,\u001b[49m\n\u001b[0;32m    457\u001b[0m \u001b[43m                \u001b[49m\u001b[38;5;28;43mself\u001b[39;49m\u001b[38;5;241;43m.\u001b[39;49m\u001b[43mpadding\u001b[49m\u001b[43m,\u001b[49m\u001b[43m \u001b[49m\u001b[38;5;28;43mself\u001b[39;49m\u001b[38;5;241;43m.\u001b[39;49m\u001b[43mdilation\u001b[49m\u001b[43m,\u001b[49m\u001b[43m \u001b[49m\u001b[38;5;28;43mself\u001b[39;49m\u001b[38;5;241;43m.\u001b[39;49m\u001b[43mgroups\u001b[49m\u001b[43m)\u001b[49m\n",
            "\u001b[1;31mRuntimeError\u001b[0m: Input type (torch.FloatTensor) and weight type (torch.cuda.FloatTensor) should be the same or input should be a MKLDNN tensor and weight is a dense tensor"
          ]
        }
      ],
      "source": [
        "triplet_rec = triplet_reconstruction(triplets['images'][0:3], triplets['mask'][0:3, [0,1,2,3,4,6,7,8,9,10]])"
      ]
    },
    {
      "cell_type": "markdown",
      "metadata": {
        "id": "9dv6z1MinMmS"
      },
      "source": [
        "Finally, we plot reconstructed triplet images next to the original image triplets."
      ]
    },
    {
      "cell_type": "code",
      "execution_count": null,
      "metadata": {
        "id": "FwUCMZ81nMmS",
        "outputId": "f7f665fd-ea40-4afb-b337-8ba8b69ae787"
      },
      "outputs": [],
      "source": [
        "def normalize(imgs):\n",
        "    imgs = imgs.numpy().transpose(1,2,0)\n",
        "    imgs = (imgs + 1)/2\n",
        "    imgs = imgs*255\n",
        "    return imgs.astype(int)\n",
        "\n",
        "\n",
        "fig, axs = plt.subplots(3, 4, figsize=(8, 6))\n",
        "\n",
        "for i in range(3):\n",
        "    axs[i, 0].imshow(triplets['images'][i][0])\n",
        "    axs[i, 0].set_xlabel('Image 1')\n",
        "\n",
        "    axs[i, 1].imshow(triplets['images'][i][1])\n",
        "    axs[i, 1].set_xlabel('Image 2')\n",
        "\n",
        "    axs[i, 2].imshow(triplets['images'][i][2])\n",
        "    axs[i, 2].set_xlabel('Ground Truth')\n",
        "\n",
        "    axs[i, 3].imshow(normalize(triplet_rec[i]))\n",
        "    axs[i, 3].set_xlabel('Predicted')\n",
        "\n",
        "for ax in axs.flat:\n",
        "    ax.set_xticks([])\n",
        "    ax.set_yticks([])\n",
        "\n",
        "plt.tight_layout()\n",
        "plt.show()"
      ]
    },
    {
      "cell_type": "markdown",
      "metadata": {
        "id": "ta6UGjJknMmS"
      },
      "source": [
        "The resulting triplet image that is reconstructed by CITRIS based solely on the combined latent dimensions closely resembles the true combined image. This shows that the latent dimensions learned by CITRIS do not only capture the distribution of the image space, but are also disentangled in the sense each latent dimension only models a single causal variable, and contains no information about any of the other causal variables."
      ]
    },
    {
      "cell_type": "markdown",
      "metadata": {
        "id": "QmrHJ8WPnMmS"
      },
      "source": [
        "### Performing interventions"
      ]
    },
    {
      "cell_type": "markdown",
      "metadata": {
        "id": "i4cB-SvAnMmT"
      },
      "source": [
        "The results above indicate that CITRIS can learn causal representations from temporal sequences, and suggest that we can use its latent dimensions to control what values each causal variable takes in the generated images. In other words, we can use its latent dimensions to perform interventions in the underlying data generation process. To verify whether this is indeed the case, we implement a function that performs an intervention on the rotation of the object through the latent space learned by CITRIS."
      ]
    },
    {
      "cell_type": "code",
      "execution_count": null,
      "metadata": {
        "id": "40m5_IkKnMmT"
      },
      "outputs": [],
      "source": [
        "@torch.no_grad()\n",
        "def encode(imgs):\n",
        "    imgs = torch.from_numpy(imgs)[...,:3]\n",
        "    imgs = imgs.permute(0, 3, 1, 2)\n",
        "    imgs = imgs.float() / 255.0\n",
        "    imgs = imgs * 2.0 - 1.0\n",
        "    encs = model.autoencoder.encoder(imgs)\n",
        "    return encs\n",
        "\n",
        "@torch.no_grad()\n",
        "def rotate_image(img):\n",
        "    x_rotation_target = 3\n",
        "\n",
        "    # Encode Images\n",
        "    x_encs = encode(img)\n",
        "\n",
        "    # Pass through the normalizing flow to disentagle the latent space\n",
        "    input_samples, _ = model.flow(x_encs)\n",
        "\n",
        "    # Get the assignment of the latent variables to the causal ones\n",
        "    target_assignment = model.prior_t1.get_target_assignment(hard=True)\n",
        "\n",
        "    # Get the number of latents mapped to x rotation\n",
        "    num_x_rotation_latents = input_samples[:, target_assignment[:, x_rotation_target] == 1].shape[-1]\n",
        "\n",
        "    # Replace them with a random tensor\n",
        "    input_samples[:, target_assignment[:, x_rotation_target] == 1] = torch.randn(1, num_x_rotation_latents)*3\n",
        "\n",
        "    # Reverse the flow from the triplet_samples\n",
        "    input_samples = model.flow.reverse(input_samples)\n",
        "\n",
        "    # Decode and get the new image\n",
        "    rotated_image = model.autoencoder.decoder(input_samples)\n",
        "\n",
        "    return rotated_image.squeeze(0)"
      ]
    },
    {
      "cell_type": "markdown",
      "metadata": {
        "id": "CYaqlE8gnMmT"
      },
      "source": [
        "Let us inspect what the intervened images look like."
      ]
    },
    {
      "cell_type": "code",
      "execution_count": null,
      "metadata": {
        "id": "p4jq_bYCnMmT",
        "outputId": "0acfc427-ba50-4caa-8bdd-7656a7d126a5"
      },
      "outputs": [],
      "source": [
        "fig, axs = plt.subplots(1, 5)\n",
        "img = causal3d_dataset['images'][0]\n",
        "for i in range(5):\n",
        "    if i ==0:\n",
        "        axs[i].imshow(img)\n",
        "        axs[i].set_xlabel('Original Image')\n",
        "    else:\n",
        "        axs[i].imshow(normalize(rotate_image(img[None, :])))\n",
        "        axs[i].set_xlabel(f'Randomly Rotated {i}')\n",
        "\n",
        "for ax in axs.flat:\n",
        "    ax.set_xticks([])\n",
        "    ax.set_yticks([])\n",
        "\n",
        "plt.tight_layout()\n",
        "plt.show()"
      ]
    },
    {
      "cell_type": "markdown",
      "metadata": {
        "id": "BiP0QEc4nMmT"
      },
      "source": [
        "The above results indicate that, since the normalizing flow is invertible, we can indeed use CITRIS' latent dimensions to perform interventions on the causal mechanisms by which the data was generated to answer '*what if*' type of questions; in this case: *What would the generated image look like if we change the rotation of the object*. All of this is possible even though CITRIS has learned these causal variables without ever having access to their ground-truth labels."
      ]
    },
    {
      "cell_type": "markdown",
      "metadata": {
        "id": "-yjf0EDmnMmT"
      },
      "source": [
        "### Analyzing the latent space"
      ]
    },
    {
      "cell_type": "markdown",
      "metadata": {
        "id": "TcFPXKzanMmT"
      },
      "source": [
        "In order to gain further intuition on how the latent space of CITRIS is affected by isolated changes in the values of the causal variables, we generate an image sequence where we first change the position of the teapot in the image, then the rotation of the spotlight, and finally the color of the background."
      ]
    },
    {
      "cell_type": "code",
      "execution_count": null,
      "metadata": {
        "id": "T9RIgimlnMmT"
      },
      "outputs": [],
      "source": [
        "data_slider = dict(np.load(os.path.join('CITRIS_DL2', 'data', 'data_slider.npz')))"
      ]
    },
    {
      "cell_type": "markdown",
      "metadata": {
        "id": "MmiBkI58nMmT"
      },
      "source": [
        "We then pass the image sequence through the encoder and normalizing flow of CITRIS-NF, obtain the target assignments of each latent dimension, and finally group the latent dimensions that are assigned to the same causal variables."
      ]
    },
    {
      "cell_type": "code",
      "execution_count": null,
      "metadata": {
        "id": "t1Tl6eYJnMmT"
      },
      "outputs": [],
      "source": [
        "@torch.no_grad()\n",
        "def get_causal_latents(img):\n",
        "    # Encode Images\n",
        "    x_encs = encode(np.expand_dims(img, axis=0))\n",
        "\n",
        "    # Pass through the normalizing flow to disentagle the latent space\n",
        "    causal_latents, _ = model.flow(x_encs)\n",
        "\n",
        "    # Get the target assignments\n",
        "    target_assignment = torch.argmax(model.prior_t1.get_target_assignment(hard=True), dim = -1)\n",
        "\n",
        "    # Keep the causal latents that will be visualized, i.e., position, spotlight rotation and background hue\n",
        "    causal_latents_to_keep = torch.where((target_assignment==0) |\n",
        "                                         (target_assignment==1) |\n",
        "                                         (target_assignment==2) |\n",
        "                                         (target_assignment==5) |\n",
        "                                         (target_assignment==8))\n",
        "\n",
        "    causal_latents = causal_latents.squeeze(0)[causal_latents_to_keep]\n",
        "    target_assignment = target_assignment[causal_latents_to_keep]\n",
        "\n",
        "    # Just to sort them based on the assignment\n",
        "    indices = torch.argsort(target_assignment)\n",
        "\n",
        "    return causal_latents[indices], target_assignment[indices]"
      ]
    },
    {
      "cell_type": "markdown",
      "metadata": {
        "id": "_cLkDjtQnMmT"
      },
      "source": [
        "We then visualize what happens to the latent space by these isolated changes using a bar plot. You can use the slider to control for which frame the latent dimensions are visualized (note that you might have to open the notebook in Colab in order to use the slider, the GIF below iterates through the different images)."
      ]
    },
    {
      "cell_type": "code",
      "execution_count": null,
      "metadata": {
        "colab": {
          "referenced_widgets": [
            "b12b6129a0c74baea870c31b077475e3"
          ]
        },
        "id": "tuZ7aVlKnMmT",
        "outputId": "63a33494-2759-4670-b8af-72b5b0154d99"
      },
      "outputs": [],
      "source": [
        "@widgets.interact(img_id=(0, 29))\n",
        "def visualize_latents(img_id=0):\n",
        "    img = data_slider['imgs'][img_id]\n",
        "\n",
        "    causal_latents, assignments = get_causal_latents(img)\n",
        "    assignments[assignments <= 2] = 0\n",
        "    assignments[assignments == 5] = 1\n",
        "    assignments[assignments == 8] = 2\n",
        "\n",
        "\n",
        "    labels = ['Object position', 'Spotlight Rotation', 'Background Hue']\n",
        "    groups = [labels[i] for i in assignments]\n",
        "    colors = [f'C{assignment}' for assignment in assignments]\n",
        "    fig, axs = plt.subplots(1, 2)\n",
        "\n",
        "    axs[0].imshow(img)\n",
        "\n",
        "    axs[1].bar(np.arange(causal_latents.shape[0]), height=causal_latents, color=colors, label=groups)\n",
        "    axs[1].set_ylim(-25, 25)\n",
        "\n",
        "    for ax in axs.flat:\n",
        "        ax.set_xticks([])\n",
        "        ax.set_yticks([])\n",
        "\n",
        "    handles, labels = plt.gca().get_legend_handles_labels()\n",
        "    by_label = dict(zip(labels, handles))\n",
        "    plt.legend(by_label.values(), by_label.keys(), loc='upper right')\n",
        "    plt.tight_layout()\n",
        "    plt.show()\n",
        "\n",
        "visualize_latents.widget.children[0].layout.width = '100%'"
      ]
    },
    {
      "cell_type": "markdown",
      "metadata": {
        "id": "2WvQcwdqnMmU"
      },
      "source": [
        "<img src=\"https://raw.githubusercontent.com/msgtsuzuki/saved_models/main/tutorial15/visualize_latents.gif\" width=\"60%\"/>"
      ]
    },
    {
      "cell_type": "markdown",
      "metadata": {
        "id": "NTuhJSfDnMmU"
      },
      "source": [
        "When experimenting with the slider, you should observe that only the latent dimensions that CITRIS assigns to the causal variable of interest are affected by changes in that causal variable. This provides more empirical evidence that the latent dimensions of CITRIS are indeed properly disentangled."
      ]
    },
    {
      "cell_type": "markdown",
      "metadata": {
        "id": "uF5wwZFynMmU"
      },
      "source": [
        "## Conclusion"
      ]
    },
    {
      "cell_type": "markdown",
      "metadata": {
        "id": "ztv71QKnnMmU"
      },
      "source": [
        "In this tutorial, we have taken a closer look at CITRIS, a recent CRL method that learns causal variables from an image sequence with interventions. We first discussed what causal representation learning comprehends, and why this recently emerging field of research is exciting. We then described the causal setting in which we aim to identify unknown causal variables, before explaining how CITRIS works in greater detail. Our experiments highlighted that CITRIS can disentangle the causal factors relatively well in the setting of 3D-rendered objects, and showed how we can use such a causal representation to perform interventions in a high-dimensional image space. Overall, considering that causality has great potential to address existing gaps in ML methods with a statistical basis, we believe that it will play an increasingly important role in machine learning in the coming decade."
      ]
    },
    {
      "cell_type": "markdown",
      "metadata": {
        "id": "4MqUm2HUnMmU"
      },
      "source": [
        "## References"
      ]
    },
    {
      "cell_type": "markdown",
      "metadata": {
        "id": "394HLqWhnMmU"
      },
      "source": [
        "In case you are interested to learn more about causal representation learning, we provide a non-exhaustive list of relevant works to check out.\n",
        "\n",
        "* [Towards Causal Representation Learning (Schölkopf et al., 2021)](https://arxiv.org/abs/2102.11107);\n",
        "* [Disentanglement via Mechanism Sparsity Regularization: A New Principle for Nonlinear ICA (Lachapelle et al., 2021)](https://arxiv.org/abs/2107.10098);\n",
        "* [iCITRIS: Causal Representation Learning for Instantaneous and Temporal Effects in Interactive Systems (Lippe et al., 2022a)](https://arxiv.org/abs/2202.03169);\n",
        "* [Self-Supervised Learning with Data Augmentations Provably Isolates Content from Style (von Kügelgen et al., 2022)](https://arxiv.org/abs/2106.04619);\n",
        "* [Weakly supervised causal representation learning (Brehmer et al., 2022)](https://arxiv.org/abs/2203.16437)."
      ]
    }
  ],
  "metadata": {
    "colab": {
      "provenance": []
    },
    "kernelspec": {
      "display_name": "Python 3",
      "language": "python",
      "name": "python3"
    },
    "language_info": {
      "codemirror_mode": {
        "name": "ipython",
        "version": 3
      },
      "file_extension": ".py",
      "mimetype": "text/x-python",
      "name": "python",
      "nbconvert_exporter": "python",
      "pygments_lexer": "ipython3",
      "version": "3.9.7"
    }
  },
  "nbformat": 4,
  "nbformat_minor": 0
}
